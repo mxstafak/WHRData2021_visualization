{
 "cells": [
  {
   "cell_type": "code",
   "execution_count": 249,
   "metadata": {},
   "outputs": [],
   "source": [
    "import numpy as np \n",
    "import pandas as pd \n",
    "import matplotlib.pyplot as plt\n",
    "import seaborn as sns\n",
    "import plotly.express as px\n",
    "import plotly.graph_objects as go\n",
    "\n",
    "\n",
    "plt.style.use(\"seaborn-whitegrid\")\n",
    "plt.rc(\"figure\", autolayout=True)\n",
    "plt.rc(\n",
    "    \"axes\",\n",
    "    labelweight=\"bold\",\n",
    "    labelsize=\"large\",\n",
    "    titleweight=\"bold\",\n",
    "    titlesize=14,\n",
    "    titlepad=10,\n",
    ")\n",
    "\n",
    "\n"
   ]
  },
  {
   "cell_type": "code",
   "execution_count": 250,
   "metadata": {},
   "outputs": [
    {
     "data": {
      "text/html": [
       "<div>\n",
       "<style scoped>\n",
       "    .dataframe tbody tr th:only-of-type {\n",
       "        vertical-align: middle;\n",
       "    }\n",
       "\n",
       "    .dataframe tbody tr th {\n",
       "        vertical-align: top;\n",
       "    }\n",
       "\n",
       "    .dataframe thead th {\n",
       "        text-align: right;\n",
       "    }\n",
       "</style>\n",
       "<table border=\"1\" class=\"dataframe\">\n",
       "  <thead>\n",
       "    <tr style=\"text-align: right;\">\n",
       "      <th></th>\n",
       "      <th>Country name</th>\n",
       "      <th>Population 2020</th>\n",
       "      <th>Population 2019</th>\n",
       "      <th>COVID-19 deaths per 100,000 population in 2020</th>\n",
       "      <th>Median age</th>\n",
       "      <th>Island</th>\n",
       "      <th>Index of exposure to COVID-19  infections in other countries as of March 31</th>\n",
       "      <th>Log of average distance to SARS countries</th>\n",
       "      <th>WHO Western Pacific Region</th>\n",
       "      <th>Female head of government</th>\n",
       "      <th>Index of institutional trust</th>\n",
       "      <th>Gini coefficient of income</th>\n",
       "      <th>All-cause death count, 2017</th>\n",
       "      <th>All-cause death count, 2018</th>\n",
       "      <th>All-cause death count, 2019</th>\n",
       "      <th>All-cause death count, 2020</th>\n",
       "      <th>Excess deaths in 2020 per 100,000 population, relative to 2017-2019 average</th>\n",
       "    </tr>\n",
       "  </thead>\n",
       "  <tbody>\n",
       "    <tr>\n",
       "      <th>0</th>\n",
       "      <td>United States</td>\n",
       "      <td>331002647.0</td>\n",
       "      <td>328239523.0</td>\n",
       "      <td>104.451</td>\n",
       "      <td>38.3</td>\n",
       "      <td>0</td>\n",
       "      <td>1.688</td>\n",
       "      <td>9.315</td>\n",
       "      <td>0</td>\n",
       "      <td>0</td>\n",
       "      <td>0.250</td>\n",
       "      <td>47.51</td>\n",
       "      <td>2810927.0</td>\n",
       "      <td>2839076.0</td>\n",
       "      <td>2852747.0</td>\n",
       "      <td>3424996.0</td>\n",
       "      <td>179.22</td>\n",
       "    </tr>\n",
       "    <tr>\n",
       "      <th>1</th>\n",
       "      <td>Egypt</td>\n",
       "      <td>102334403.0</td>\n",
       "      <td>100388073.0</td>\n",
       "      <td>7.457</td>\n",
       "      <td>25.3</td>\n",
       "      <td>0</td>\n",
       "      <td>1.627</td>\n",
       "      <td>9.007</td>\n",
       "      <td>0</td>\n",
       "      <td>0</td>\n",
       "      <td>0.446</td>\n",
       "      <td>31.56</td>\n",
       "      <td>NaN</td>\n",
       "      <td>NaN</td>\n",
       "      <td>NaN</td>\n",
       "      <td>NaN</td>\n",
       "      <td>NaN</td>\n",
       "    </tr>\n",
       "    <tr>\n",
       "      <th>2</th>\n",
       "      <td>Morocco</td>\n",
       "      <td>36910558.0</td>\n",
       "      <td>36471769.0</td>\n",
       "      <td>20.016</td>\n",
       "      <td>29.6</td>\n",
       "      <td>0</td>\n",
       "      <td>2.336</td>\n",
       "      <td>9.226</td>\n",
       "      <td>0</td>\n",
       "      <td>0</td>\n",
       "      <td>0.397</td>\n",
       "      <td>39.55</td>\n",
       "      <td>NaN</td>\n",
       "      <td>NaN</td>\n",
       "      <td>NaN</td>\n",
       "      <td>NaN</td>\n",
       "      <td>NaN</td>\n",
       "    </tr>\n",
       "    <tr>\n",
       "      <th>3</th>\n",
       "      <td>Lebanon</td>\n",
       "      <td>6825442.0</td>\n",
       "      <td>6855713.0</td>\n",
       "      <td>21.508</td>\n",
       "      <td>31.1</td>\n",
       "      <td>0</td>\n",
       "      <td>1.891</td>\n",
       "      <td>8.956</td>\n",
       "      <td>0</td>\n",
       "      <td>0</td>\n",
       "      <td>0.107</td>\n",
       "      <td>31.83</td>\n",
       "      <td>NaN</td>\n",
       "      <td>NaN</td>\n",
       "      <td>NaN</td>\n",
       "      <td>NaN</td>\n",
       "      <td>NaN</td>\n",
       "    </tr>\n",
       "    <tr>\n",
       "      <th>4</th>\n",
       "      <td>Saudi Arabia</td>\n",
       "      <td>34813867.0</td>\n",
       "      <td>34268528.0</td>\n",
       "      <td>17.875</td>\n",
       "      <td>31.9</td>\n",
       "      <td>0</td>\n",
       "      <td>1.250</td>\n",
       "      <td>8.897</td>\n",
       "      <td>0</td>\n",
       "      <td>0</td>\n",
       "      <td>0.651</td>\n",
       "      <td>45.90</td>\n",
       "      <td>NaN</td>\n",
       "      <td>NaN</td>\n",
       "      <td>NaN</td>\n",
       "      <td>NaN</td>\n",
       "      <td>NaN</td>\n",
       "    </tr>\n",
       "  </tbody>\n",
       "</table>\n",
       "</div>"
      ],
      "text/plain": [
       "    Country name  Population 2020  Population 2019  \\\n",
       "0  United States      331002647.0      328239523.0   \n",
       "1          Egypt      102334403.0      100388073.0   \n",
       "2        Morocco       36910558.0       36471769.0   \n",
       "3        Lebanon        6825442.0        6855713.0   \n",
       "4   Saudi Arabia       34813867.0       34268528.0   \n",
       "\n",
       "   COVID-19 deaths per 100,000 population in 2020  Median age  Island  \\\n",
       "0                                         104.451        38.3       0   \n",
       "1                                           7.457        25.3       0   \n",
       "2                                          20.016        29.6       0   \n",
       "3                                          21.508        31.1       0   \n",
       "4                                          17.875        31.9       0   \n",
       "\n",
       "   Index of exposure to COVID-19  infections in other countries as of March 31  \\\n",
       "0                                              1.688                             \n",
       "1                                              1.627                             \n",
       "2                                              2.336                             \n",
       "3                                              1.891                             \n",
       "4                                              1.250                             \n",
       "\n",
       "   Log of average distance to SARS countries  WHO Western Pacific Region  \\\n",
       "0                                      9.315                           0   \n",
       "1                                      9.007                           0   \n",
       "2                                      9.226                           0   \n",
       "3                                      8.956                           0   \n",
       "4                                      8.897                           0   \n",
       "\n",
       "   Female head of government  Index of institutional trust  \\\n",
       "0                          0                         0.250   \n",
       "1                          0                         0.446   \n",
       "2                          0                         0.397   \n",
       "3                          0                         0.107   \n",
       "4                          0                         0.651   \n",
       "\n",
       "   Gini coefficient of income  All-cause death count, 2017  \\\n",
       "0                       47.51                    2810927.0   \n",
       "1                       31.56                          NaN   \n",
       "2                       39.55                          NaN   \n",
       "3                       31.83                          NaN   \n",
       "4                       45.90                          NaN   \n",
       "\n",
       "   All-cause death count, 2018  All-cause death count, 2019  \\\n",
       "0                    2839076.0                    2852747.0   \n",
       "1                          NaN                          NaN   \n",
       "2                          NaN                          NaN   \n",
       "3                          NaN                          NaN   \n",
       "4                          NaN                          NaN   \n",
       "\n",
       "   All-cause death count, 2020  \\\n",
       "0                    3424996.0   \n",
       "1                          NaN   \n",
       "2                          NaN   \n",
       "3                          NaN   \n",
       "4                          NaN   \n",
       "\n",
       "   Excess deaths in 2020 per 100,000 population, relative to 2017-2019 average  \n",
       "0                                             179.22                            \n",
       "1                                                NaN                            \n",
       "2                                                NaN                            \n",
       "3                                                NaN                            \n",
       "4                                                NaN                            "
      ]
     },
     "execution_count": 250,
     "metadata": {},
     "output_type": "execute_result"
    }
   ],
   "source": [
    "df = pd.read_csv('WHRData2021.csv')\n",
    "df.head()"
   ]
  },
  {
   "cell_type": "code",
   "execution_count": 251,
   "metadata": {},
   "outputs": [
    {
     "name": "stdout",
     "output_type": "stream",
     "text": [
      "<class 'pandas.core.frame.DataFrame'>\n",
      "RangeIndex: 166 entries, 0 to 165\n",
      "Data columns (total 17 columns):\n",
      " #   Column                                                                       Non-Null Count  Dtype  \n",
      "---  ------                                                                       --------------  -----  \n",
      " 0   Country name                                                                 166 non-null    object \n",
      " 1   Population 2020                                                              164 non-null    float64\n",
      " 2   Population 2019                                                              164 non-null    float64\n",
      " 3   COVID-19 deaths per 100,000 population in 2020                               163 non-null    float64\n",
      " 4   Median age                                                                   163 non-null    float64\n",
      " 5   Island                                                                       166 non-null    int64  \n",
      " 6   Index of exposure to COVID-19  infections in other countries as of March 31  164 non-null    float64\n",
      " 7   Log of average distance to SARS countries                                    164 non-null    float64\n",
      " 8   WHO Western Pacific Region                                                   166 non-null    int64  \n",
      " 9   Female head of government                                                    166 non-null    int64  \n",
      " 10  Index of institutional trust                                                 165 non-null    float64\n",
      " 11  Gini coefficient of income                                                   164 non-null    float64\n",
      " 12  All-cause death count, 2017                                                  63 non-null     float64\n",
      " 13  All-cause death count, 2018                                                  64 non-null     float64\n",
      " 14  All-cause death count, 2019                                                  64 non-null     float64\n",
      " 15  All-cause death count, 2020                                                  65 non-null     float64\n",
      " 16  Excess deaths in 2020 per 100,000 population, relative to 2017-2019 average  64 non-null     float64\n",
      "dtypes: float64(13), int64(3), object(1)\n",
      "memory usage: 22.2+ KB\n"
     ]
    }
   ],
   "source": [
    "df.info()"
   ]
  },
  {
   "cell_type": "code",
   "execution_count": 252,
   "metadata": {},
   "outputs": [
    {
     "data": {
      "text/plain": [
       "Country name                                                                   0\n",
       "Population 2020                                                                0\n",
       "Population 2019                                                                0\n",
       "COVID-19 deaths per 100,000 population in 2020                                 0\n",
       "Median age                                                                     0\n",
       "Island                                                                         0\n",
       "Index of exposure to COVID-19  infections in other countries as of March 31    0\n",
       "Log of average distance to SARS countries                                      0\n",
       "WHO Western Pacific Region                                                     0\n",
       "Female head of government                                                      0\n",
       "Index of institutional trust                                                   0\n",
       "Gini coefficient of income                                                     0\n",
       "dtype: int64"
      ]
     },
     "execution_count": 252,
     "metadata": {},
     "output_type": "execute_result"
    }
   ],
   "source": [
    "df1 = df.drop(['All-cause death count, 2017','All-cause death count, 2018','All-cause death count, 2019','Excess deaths in 2020 per 100,000 population, relative to 2017-2019 average','All-cause death count, 2020'\n",
    "         ], axis=1)\n",
    "\n",
    "df1.dropna(inplace=True)\n",
    "\n",
    "df1.isnull().sum()"
   ]
  },
  {
   "cell_type": "code",
   "execution_count": 253,
   "metadata": {},
   "outputs": [
    {
     "data": {
      "application/vnd.plotly.v1+json": {
       "config": {
        "plotlyServerURL": "https://plot.ly"
       },
       "data": [
        {
         "hovertemplate": "Country name=United States<br>Median age=%{x}<br>Gini coefficient of income=%{y}<extra></extra>",
         "legendgroup": "United States",
         "marker": {
          "color": "#636efa",
          "symbol": "circle"
         },
         "mode": "markers",
         "name": "United States",
         "orientation": "v",
         "showlegend": true,
         "type": "scatter",
         "x": [
          38.3
         ],
         "xaxis": "x",
         "y": [
          47.51
         ],
         "yaxis": "y"
        },
        {
         "hovertemplate": "Country name=Egypt<br>Median age=%{x}<br>Gini coefficient of income=%{y}<extra></extra>",
         "legendgroup": "Egypt",
         "marker": {
          "color": "#EF553B",
          "symbol": "circle"
         },
         "mode": "markers",
         "name": "Egypt",
         "orientation": "v",
         "showlegend": true,
         "type": "scatter",
         "x": [
          25.3
         ],
         "xaxis": "x",
         "y": [
          31.56
         ],
         "yaxis": "y"
        },
        {
         "hovertemplate": "Country name=Morocco<br>Median age=%{x}<br>Gini coefficient of income=%{y}<extra></extra>",
         "legendgroup": "Morocco",
         "marker": {
          "color": "#00cc96",
          "symbol": "circle"
         },
         "mode": "markers",
         "name": "Morocco",
         "orientation": "v",
         "showlegend": true,
         "type": "scatter",
         "x": [
          29.6
         ],
         "xaxis": "x",
         "y": [
          39.55
         ],
         "yaxis": "y"
        },
        {
         "hovertemplate": "Country name=Lebanon<br>Median age=%{x}<br>Gini coefficient of income=%{y}<extra></extra>",
         "legendgroup": "Lebanon",
         "marker": {
          "color": "#ab63fa",
          "symbol": "circle"
         },
         "mode": "markers",
         "name": "Lebanon",
         "orientation": "v",
         "showlegend": true,
         "type": "scatter",
         "x": [
          31.1
         ],
         "xaxis": "x",
         "y": [
          31.83
         ],
         "yaxis": "y"
        },
        {
         "hovertemplate": "Country name=Saudi Arabia<br>Median age=%{x}<br>Gini coefficient of income=%{y}<extra></extra>",
         "legendgroup": "Saudi Arabia",
         "marker": {
          "color": "#FFA15A",
          "symbol": "circle"
         },
         "mode": "markers",
         "name": "Saudi Arabia",
         "orientation": "v",
         "showlegend": true,
         "type": "scatter",
         "x": [
          31.9
         ],
         "xaxis": "x",
         "y": [
          45.9
         ],
         "yaxis": "y"
        },
        {
         "hovertemplate": "Country name=Jordan<br>Median age=%{x}<br>Gini coefficient of income=%{y}<extra></extra>",
         "legendgroup": "Jordan",
         "marker": {
          "color": "#19d3f3",
          "symbol": "circle"
         },
         "mode": "markers",
         "name": "Jordan",
         "orientation": "v",
         "showlegend": true,
         "type": "scatter",
         "x": [
          23.2
         ],
         "xaxis": "x",
         "y": [
          33.1
         ],
         "yaxis": "y"
        },
        {
         "hovertemplate": "Country name=Syria<br>Median age=%{x}<br>Gini coefficient of income=%{y}<extra></extra>",
         "legendgroup": "Syria",
         "marker": {
          "color": "#FF6692",
          "symbol": "circle"
         },
         "mode": "markers",
         "name": "Syria",
         "orientation": "v",
         "showlegend": true,
         "type": "scatter",
         "x": [
          21.7
         ],
         "xaxis": "x",
         "y": [
          34.2
         ],
         "yaxis": "y"
        },
        {
         "hovertemplate": "Country name=Turkey<br>Median age=%{x}<br>Gini coefficient of income=%{y}<extra></extra>",
         "legendgroup": "Turkey",
         "marker": {
          "color": "#B6E880",
          "symbol": "circle"
         },
         "mode": "markers",
         "name": "Turkey",
         "orientation": "v",
         "showlegend": true,
         "type": "scatter",
         "x": [
          31.6
         ],
         "xaxis": "x",
         "y": [
          40.55
         ],
         "yaxis": "y"
        },
        {
         "hovertemplate": "Country name=Pakistan<br>Median age=%{x}<br>Gini coefficient of income=%{y}<extra></extra>",
         "legendgroup": "Pakistan",
         "marker": {
          "color": "#FF97FF",
          "symbol": "circle"
         },
         "mode": "markers",
         "name": "Pakistan",
         "orientation": "v",
         "showlegend": true,
         "type": "scatter",
         "x": [
          23.5
         ],
         "xaxis": "x",
         "y": [
          33.45
         ],
         "yaxis": "y"
        },
        {
         "hovertemplate": "Country name=Indonesia<br>Median age=%{x}<br>Gini coefficient of income=%{y}<extra></extra>",
         "legendgroup": "Indonesia",
         "marker": {
          "color": "#FECB52",
          "symbol": "circle"
         },
         "mode": "markers",
         "name": "Indonesia",
         "orientation": "v",
         "showlegend": true,
         "type": "scatter",
         "x": [
          29.3
         ],
         "xaxis": "x",
         "y": [
          37.478
         ],
         "yaxis": "y"
        },
        {
         "hovertemplate": "Country name=Bangladesh<br>Median age=%{x}<br>Gini coefficient of income=%{y}<extra></extra>",
         "legendgroup": "Bangladesh",
         "marker": {
          "color": "#636efa",
          "symbol": "circle"
         },
         "mode": "markers",
         "name": "Bangladesh",
         "orientation": "v",
         "showlegend": true,
         "type": "scatter",
         "x": [
          27.5
         ],
         "xaxis": "x",
         "y": [
          43.973
         ],
         "yaxis": "y"
        },
        {
         "hovertemplate": "Country name=United Kingdom<br>Median age=%{x}<br>Gini coefficient of income=%{y}<extra></extra>",
         "legendgroup": "United Kingdom",
         "marker": {
          "color": "#EF553B",
          "symbol": "circle"
         },
         "mode": "markers",
         "name": "United Kingdom",
         "orientation": "v",
         "showlegend": true,
         "type": "scatter",
         "x": [
          40.8
         ],
         "xaxis": "x",
         "y": [
          34.07
         ],
         "yaxis": "y"
        },
        {
         "hovertemplate": "Country name=France<br>Median age=%{x}<br>Gini coefficient of income=%{y}<extra></extra>",
         "legendgroup": "France",
         "marker": {
          "color": "#00cc96",
          "symbol": "circle"
         },
         "mode": "markers",
         "name": "France",
         "orientation": "v",
         "showlegend": true,
         "type": "scatter",
         "x": [
          42
         ],
         "xaxis": "x",
         "y": [
          29.3
         ],
         "yaxis": "y"
        },
        {
         "hovertemplate": "Country name=Germany<br>Median age=%{x}<br>Gini coefficient of income=%{y}<extra></extra>",
         "legendgroup": "Germany",
         "marker": {
          "color": "#ab63fa",
          "symbol": "circle"
         },
         "mode": "markers",
         "name": "Germany",
         "orientation": "v",
         "showlegend": true,
         "type": "scatter",
         "x": [
          46.6
         ],
         "xaxis": "x",
         "y": [
          31.1
         ],
         "yaxis": "y"
        },
        {
         "hovertemplate": "Country name=Netherlands<br>Median age=%{x}<br>Gini coefficient of income=%{y}<extra></extra>",
         "legendgroup": "Netherlands",
         "marker": {
          "color": "#FFA15A",
          "symbol": "circle"
         },
         "mode": "markers",
         "name": "Netherlands",
         "orientation": "v",
         "showlegend": true,
         "type": "scatter",
         "x": [
          43.2
         ],
         "xaxis": "x",
         "y": [
          27
         ],
         "yaxis": "y"
        },
        {
         "hovertemplate": "Country name=Belgium<br>Median age=%{x}<br>Gini coefficient of income=%{y}<extra></extra>",
         "legendgroup": "Belgium",
         "marker": {
          "color": "#19d3f3",
          "symbol": "circle"
         },
         "mode": "markers",
         "name": "Belgium",
         "orientation": "v",
         "showlegend": true,
         "type": "scatter",
         "x": [
          41.8
         ],
         "xaxis": "x",
         "y": [
          25.6
         ],
         "yaxis": "y"
        },
        {
         "hovertemplate": "Country name=Spain<br>Median age=%{x}<br>Gini coefficient of income=%{y}<extra></extra>",
         "legendgroup": "Spain",
         "marker": {
          "color": "#FF6692",
          "symbol": "circle"
         },
         "mode": "markers",
         "name": "Spain",
         "orientation": "v",
         "showlegend": true,
         "type": "scatter",
         "x": [
          45.5
         ],
         "xaxis": "x",
         "y": [
          33.2
         ],
         "yaxis": "y"
        },
        {
         "hovertemplate": "Country name=Italy<br>Median age=%{x}<br>Gini coefficient of income=%{y}<extra></extra>",
         "legendgroup": "Italy",
         "marker": {
          "color": "#B6E880",
          "symbol": "circle"
         },
         "mode": "markers",
         "name": "Italy",
         "orientation": "v",
         "showlegend": true,
         "type": "scatter",
         "x": [
          47.9
         ],
         "xaxis": "x",
         "y": [
          33.4
         ],
         "yaxis": "y"
        },
        {
         "hovertemplate": "Country name=Poland<br>Median age=%{x}<br>Gini coefficient of income=%{y}<extra></extra>",
         "legendgroup": "Poland",
         "marker": {
          "color": "#FF97FF",
          "symbol": "circle"
         },
         "mode": "markers",
         "name": "Poland",
         "orientation": "v",
         "showlegend": true,
         "type": "scatter",
         "x": [
          41.8
         ],
         "xaxis": "x",
         "y": [
          27.8
         ],
         "yaxis": "y"
        },
        {
         "hovertemplate": "Country name=Hungary<br>Median age=%{x}<br>Gini coefficient of income=%{y}<extra></extra>",
         "legendgroup": "Hungary",
         "marker": {
          "color": "#FECB52",
          "symbol": "circle"
         },
         "mode": "markers",
         "name": "Hungary",
         "orientation": "v",
         "showlegend": true,
         "type": "scatter",
         "x": [
          43.4
         ],
         "xaxis": "x",
         "y": [
          28.7
         ],
         "yaxis": "y"
        },
        {
         "hovertemplate": "Country name=Czech Republic<br>Median age=%{x}<br>Gini coefficient of income=%{y}<extra></extra>",
         "legendgroup": "Czech Republic",
         "marker": {
          "color": "#636efa",
          "symbol": "circle"
         },
         "mode": "markers",
         "name": "Czech Republic",
         "orientation": "v",
         "showlegend": true,
         "type": "scatter",
         "x": [
          43.3
         ],
         "xaxis": "x",
         "y": [
          24
         ],
         "yaxis": "y"
        },
        {
         "hovertemplate": "Country name=Romania<br>Median age=%{x}<br>Gini coefficient of income=%{y}<extra></extra>",
         "legendgroup": "Romania",
         "marker": {
          "color": "#EF553B",
          "symbol": "circle"
         },
         "mode": "markers",
         "name": "Romania",
         "orientation": "v",
         "showlegend": true,
         "type": "scatter",
         "x": [
          43
         ],
         "xaxis": "x",
         "y": [
          35.1
         ],
         "yaxis": "y"
        },
        {
         "hovertemplate": "Country name=Sweden<br>Median age=%{x}<br>Gini coefficient of income=%{y}<extra></extra>",
         "legendgroup": "Sweden",
         "marker": {
          "color": "#00cc96",
          "symbol": "circle"
         },
         "mode": "markers",
         "name": "Sweden",
         "orientation": "v",
         "showlegend": true,
         "type": "scatter",
         "x": [
          41
         ],
         "xaxis": "x",
         "y": [
          27
         ],
         "yaxis": "y"
        },
        {
         "hovertemplate": "Country name=Greece<br>Median age=%{x}<br>Gini coefficient of income=%{y}<extra></extra>",
         "legendgroup": "Greece",
         "marker": {
          "color": "#ab63fa",
          "symbol": "circle"
         },
         "mode": "markers",
         "name": "Greece",
         "orientation": "v",
         "showlegend": true,
         "type": "scatter",
         "x": [
          45.3
         ],
         "xaxis": "x",
         "y": [
          32.3
         ],
         "yaxis": "y"
        },
        {
         "hovertemplate": "Country name=Denmark<br>Median age=%{x}<br>Gini coefficient of income=%{y}<extra></extra>",
         "legendgroup": "Denmark",
         "marker": {
          "color": "#FFA15A",
          "symbol": "circle"
         },
         "mode": "markers",
         "name": "Denmark",
         "orientation": "v",
         "showlegend": true,
         "type": "scatter",
         "x": [
          42.3
         ],
         "xaxis": "x",
         "y": [
          27.8
         ],
         "yaxis": "y"
        },
        {
         "hovertemplate": "Country name=Iran<br>Median age=%{x}<br>Gini coefficient of income=%{y}<extra></extra>",
         "legendgroup": "Iran",
         "marker": {
          "color": "#19d3f3",
          "symbol": "circle"
         },
         "mode": "markers",
         "name": "Iran",
         "orientation": "v",
         "showlegend": true,
         "type": "scatter",
         "x": [
          32.4
         ],
         "xaxis": "x",
         "y": [
          39.97
         ],
         "yaxis": "y"
        },
        {
         "hovertemplate": "Country name=Hong Kong S.A.R. of China<br>Median age=%{x}<br>Gini coefficient of income=%{y}<extra></extra>",
         "legendgroup": "Hong Kong S.A.R. of China",
         "marker": {
          "color": "#FF6692",
          "symbol": "circle"
         },
         "mode": "markers",
         "name": "Hong Kong S.A.R. of China",
         "orientation": "v",
         "showlegend": true,
         "type": "scatter",
         "x": [
          44.8
         ],
         "xaxis": "x",
         "y": [
          48.275
         ],
         "yaxis": "y"
        },
        {
         "hovertemplate": "Country name=Singapore<br>Median age=%{x}<br>Gini coefficient of income=%{y}<extra></extra>",
         "legendgroup": "Singapore",
         "marker": {
          "color": "#B6E880",
          "symbol": "circle"
         },
         "mode": "markers",
         "name": "Singapore",
         "orientation": "v",
         "showlegend": true,
         "type": "scatter",
         "x": [
          42.4
         ],
         "xaxis": "x",
         "y": [
          45.2
         ],
         "yaxis": "y"
        },
        {
         "hovertemplate": "Country name=Japan<br>Median age=%{x}<br>Gini coefficient of income=%{y}<extra></extra>",
         "legendgroup": "Japan",
         "marker": {
          "color": "#FF97FF",
          "symbol": "circle"
         },
         "mode": "markers",
         "name": "Japan",
         "orientation": "v",
         "showlegend": true,
         "type": "scatter",
         "x": [
          48.2
         ],
         "xaxis": "x",
         "y": [
          33.9
         ],
         "yaxis": "y"
        },
        {
         "hovertemplate": "Country name=China<br>Median age=%{x}<br>Gini coefficient of income=%{y}<extra></extra>",
         "legendgroup": "China",
         "marker": {
          "color": "#FECB52",
          "symbol": "circle"
         },
         "mode": "markers",
         "name": "China",
         "orientation": "v",
         "showlegend": true,
         "type": "scatter",
         "x": [
          38.7
         ],
         "xaxis": "x",
         "y": [
          46.7
         ],
         "yaxis": "y"
        },
        {
         "hovertemplate": "Country name=India<br>Median age=%{x}<br>Gini coefficient of income=%{y}<extra></extra>",
         "legendgroup": "India",
         "marker": {
          "color": "#636efa",
          "symbol": "circle"
         },
         "mode": "markers",
         "name": "India",
         "orientation": "v",
         "showlegend": true,
         "type": "scatter",
         "x": [
          28.2
         ],
         "xaxis": "x",
         "y": [
          39.334
         ],
         "yaxis": "y"
        },
        {
         "hovertemplate": "Country name=Venezuela<br>Median age=%{x}<br>Gini coefficient of income=%{y}<extra></extra>",
         "legendgroup": "Venezuela",
         "marker": {
          "color": "#EF553B",
          "symbol": "circle"
         },
         "mode": "markers",
         "name": "Venezuela",
         "orientation": "v",
         "showlegend": true,
         "type": "scatter",
         "x": [
          29
         ],
         "xaxis": "x",
         "y": [
          37.8
         ],
         "yaxis": "y"
        },
        {
         "hovertemplate": "Country name=Brazil<br>Median age=%{x}<br>Gini coefficient of income=%{y}<extra></extra>",
         "legendgroup": "Brazil",
         "marker": {
          "color": "#00cc96",
          "symbol": "circle"
         },
         "mode": "markers",
         "name": "Brazil",
         "orientation": "v",
         "showlegend": true,
         "type": "scatter",
         "x": [
          33.5
         ],
         "xaxis": "x",
         "y": [
          54
         ],
         "yaxis": "y"
        },
        {
         "hovertemplate": "Country name=Mexico<br>Median age=%{x}<br>Gini coefficient of income=%{y}<extra></extra>",
         "legendgroup": "Mexico",
         "marker": {
          "color": "#ab63fa",
          "symbol": "circle"
         },
         "mode": "markers",
         "name": "Mexico",
         "orientation": "v",
         "showlegend": true,
         "type": "scatter",
         "x": [
          29.3
         ],
         "xaxis": "x",
         "y": [
          47.5
         ],
         "yaxis": "y"
        },
        {
         "hovertemplate": "Country name=Nigeria<br>Median age=%{x}<br>Gini coefficient of income=%{y}<extra></extra>",
         "legendgroup": "Nigeria",
         "marker": {
          "color": "#FFA15A",
          "symbol": "circle"
         },
         "mode": "markers",
         "name": "Nigeria",
         "orientation": "v",
         "showlegend": true,
         "type": "scatter",
         "x": [
          18.1
         ],
         "xaxis": "x",
         "y": [
          44.894
         ],
         "yaxis": "y"
        },
        {
         "hovertemplate": "Country name=Kenya<br>Median age=%{x}<br>Gini coefficient of income=%{y}<extra></extra>",
         "legendgroup": "Kenya",
         "marker": {
          "color": "#19d3f3",
          "symbol": "circle"
         },
         "mode": "markers",
         "name": "Kenya",
         "orientation": "v",
         "showlegend": true,
         "type": "scatter",
         "x": [
          20
         ],
         "xaxis": "x",
         "y": [
          40.78
         ],
         "yaxis": "y"
        },
        {
         "hovertemplate": "Country name=Tanzania<br>Median age=%{x}<br>Gini coefficient of income=%{y}<extra></extra>",
         "legendgroup": "Tanzania",
         "marker": {
          "color": "#FF6692",
          "symbol": "circle"
         },
         "mode": "markers",
         "name": "Tanzania",
         "orientation": "v",
         "showlegend": true,
         "type": "scatter",
         "x": [
          17.7
         ],
         "xaxis": "x",
         "y": [
          37.78
         ],
         "yaxis": "y"
        },
        {
         "hovertemplate": "Country name=Israel<br>Median age=%{x}<br>Gini coefficient of income=%{y}<extra></extra>",
         "legendgroup": "Israel",
         "marker": {
          "color": "#B6E880",
          "symbol": "circle"
         },
         "mode": "markers",
         "name": "Israel",
         "orientation": "v",
         "showlegend": true,
         "type": "scatter",
         "x": [
          30.6
         ],
         "xaxis": "x",
         "y": [
          34.4
         ],
         "yaxis": "y"
        },
        {
         "hovertemplate": "Country name=Palestinian Territories<br>Median age=%{x}<br>Gini coefficient of income=%{y}<extra></extra>",
         "legendgroup": "Palestinian Territories",
         "marker": {
          "color": "#FF97FF",
          "symbol": "circle"
         },
         "mode": "markers",
         "name": "Palestinian Territories",
         "orientation": "v",
         "showlegend": true,
         "type": "scatter",
         "x": [
          20.4
         ],
         "xaxis": "x",
         "y": [
          33.69
         ],
         "yaxis": "y"
        },
        {
         "hovertemplate": "Country name=Ghana<br>Median age=%{x}<br>Gini coefficient of income=%{y}<extra></extra>",
         "legendgroup": "Ghana",
         "marker": {
          "color": "#FECB52",
          "symbol": "circle"
         },
         "mode": "markers",
         "name": "Ghana",
         "orientation": "v",
         "showlegend": true,
         "type": "scatter",
         "x": [
          21.1
         ],
         "xaxis": "x",
         "y": [
          43.52
         ],
         "yaxis": "y"
        },
        {
         "hovertemplate": "Country name=Uganda<br>Median age=%{x}<br>Gini coefficient of income=%{y}<extra></extra>",
         "legendgroup": "Uganda",
         "marker": {
          "color": "#636efa",
          "symbol": "circle"
         },
         "mode": "markers",
         "name": "Uganda",
         "orientation": "v",
         "showlegend": true,
         "type": "scatter",
         "x": [
          16.4
         ],
         "xaxis": "x",
         "y": [
          42.75
         ],
         "yaxis": "y"
        },
        {
         "hovertemplate": "Country name=Benin<br>Median age=%{x}<br>Gini coefficient of income=%{y}<extra></extra>",
         "legendgroup": "Benin",
         "marker": {
          "color": "#EF553B",
          "symbol": "circle"
         },
         "mode": "markers",
         "name": "Benin",
         "orientation": "v",
         "showlegend": true,
         "type": "scatter",
         "x": [
          18.8
         ],
         "xaxis": "x",
         "y": [
          47.76
         ],
         "yaxis": "y"
        },
        {
         "hovertemplate": "Country name=Madagascar<br>Median age=%{x}<br>Gini coefficient of income=%{y}<extra></extra>",
         "legendgroup": "Madagascar",
         "marker": {
          "color": "#00cc96",
          "symbol": "circle"
         },
         "mode": "markers",
         "name": "Madagascar",
         "orientation": "v",
         "showlegend": true,
         "type": "scatter",
         "x": [
          19.6
         ],
         "xaxis": "x",
         "y": [
          42.65
         ],
         "yaxis": "y"
        },
        {
         "hovertemplate": "Country name=Malawi<br>Median age=%{x}<br>Gini coefficient of income=%{y}<extra></extra>",
         "legendgroup": "Malawi",
         "marker": {
          "color": "#ab63fa",
          "symbol": "circle"
         },
         "mode": "markers",
         "name": "Malawi",
         "orientation": "v",
         "showlegend": true,
         "type": "scatter",
         "x": [
          18.1
         ],
         "xaxis": "x",
         "y": [
          44.69
         ],
         "yaxis": "y"
        },
        {
         "hovertemplate": "Country name=South Africa<br>Median age=%{x}<br>Gini coefficient of income=%{y}<extra></extra>",
         "legendgroup": "South Africa",
         "marker": {
          "color": "#FFA15A",
          "symbol": "circle"
         },
         "mode": "markers",
         "name": "South Africa",
         "orientation": "v",
         "showlegend": true,
         "type": "scatter",
         "x": [
          27.3
         ],
         "xaxis": "x",
         "y": [
          65.426
         ],
         "yaxis": "y"
        },
        {
         "hovertemplate": "Country name=Canada<br>Median age=%{x}<br>Gini coefficient of income=%{y}<extra></extra>",
         "legendgroup": "Canada",
         "marker": {
          "color": "#19d3f3",
          "symbol": "circle"
         },
         "mode": "markers",
         "name": "Canada",
         "orientation": "v",
         "showlegend": true,
         "type": "scatter",
         "x": [
          41.4
         ],
         "xaxis": "x",
         "y": [
          35.25
         ],
         "yaxis": "y"
        },
        {
         "hovertemplate": "Country name=Australia<br>Median age=%{x}<br>Gini coefficient of income=%{y}<extra></extra>",
         "legendgroup": "Australia",
         "marker": {
          "color": "#FF6692",
          "symbol": "circle"
         },
         "mode": "markers",
         "name": "Australia",
         "orientation": "v",
         "showlegend": true,
         "type": "scatter",
         "x": [
          37.9
         ],
         "xaxis": "x",
         "y": [
          33
         ],
         "yaxis": "y"
        },
        {
         "hovertemplate": "Country name=Philippines<br>Median age=%{x}<br>Gini coefficient of income=%{y}<extra></extra>",
         "legendgroup": "Philippines",
         "marker": {
          "color": "#B6E880",
          "symbol": "circle"
         },
         "mode": "markers",
         "name": "Philippines",
         "orientation": "v",
         "showlegend": true,
         "type": "scatter",
         "x": [
          25.2
         ],
         "xaxis": "x",
         "y": [
          42.23
         ],
         "yaxis": "y"
        },
        {
         "hovertemplate": "Country name=Sri Lanka<br>Median age=%{x}<br>Gini coefficient of income=%{y}<extra></extra>",
         "legendgroup": "Sri Lanka",
         "marker": {
          "color": "#FF97FF",
          "symbol": "circle"
         },
         "mode": "markers",
         "name": "Sri Lanka",
         "orientation": "v",
         "showlegend": true,
         "type": "scatter",
         "x": [
          34.1
         ],
         "xaxis": "x",
         "y": [
          41.937
         ],
         "yaxis": "y"
        },
        {
         "hovertemplate": "Country name=Vietnam<br>Median age=%{x}<br>Gini coefficient of income=%{y}<extra></extra>",
         "legendgroup": "Vietnam",
         "marker": {
          "color": "#FECB52",
          "symbol": "circle"
         },
         "mode": "markers",
         "name": "Vietnam",
         "orientation": "v",
         "showlegend": true,
         "type": "scatter",
         "x": [
          32.6
         ],
         "xaxis": "x",
         "y": [
          40.1
         ],
         "yaxis": "y"
        },
        {
         "hovertemplate": "Country name=Thailand<br>Median age=%{x}<br>Gini coefficient of income=%{y}<extra></extra>",
         "legendgroup": "Thailand",
         "marker": {
          "color": "#636efa",
          "symbol": "circle"
         },
         "mode": "markers",
         "name": "Thailand",
         "orientation": "v",
         "showlegend": true,
         "type": "scatter",
         "x": [
          40.1
         ],
         "xaxis": "x",
         "y": [
          35.315
         ],
         "yaxis": "y"
        },
        {
         "hovertemplate": "Country name=Cambodia<br>Median age=%{x}<br>Gini coefficient of income=%{y}<extra></extra>",
         "legendgroup": "Cambodia",
         "marker": {
          "color": "#EF553B",
          "symbol": "circle"
         },
         "mode": "markers",
         "name": "Cambodia",
         "orientation": "v",
         "showlegend": true,
         "type": "scatter",
         "x": [
          25.6
         ],
         "xaxis": "x",
         "y": [
          36
         ],
         "yaxis": "y"
        },
        {
         "hovertemplate": "Country name=Laos<br>Median age=%{x}<br>Gini coefficient of income=%{y}<extra></extra>",
         "legendgroup": "Laos",
         "marker": {
          "color": "#00cc96",
          "symbol": "circle"
         },
         "mode": "markers",
         "name": "Laos",
         "orientation": "v",
         "showlegend": true,
         "type": "scatter",
         "x": [
          24.4
         ],
         "xaxis": "x",
         "y": [
          36.39
         ],
         "yaxis": "y"
        },
        {
         "hovertemplate": "Country name=Myanmar<br>Median age=%{x}<br>Gini coefficient of income=%{y}<extra></extra>",
         "legendgroup": "Myanmar",
         "marker": {
          "color": "#ab63fa",
          "symbol": "circle"
         },
         "mode": "markers",
         "name": "Myanmar",
         "orientation": "v",
         "showlegend": true,
         "type": "scatter",
         "x": [
          29.1
         ],
         "xaxis": "x",
         "y": [
          38.07
         ],
         "yaxis": "y"
        },
        {
         "hovertemplate": "Country name=New Zealand<br>Median age=%{x}<br>Gini coefficient of income=%{y}<extra></extra>",
         "legendgroup": "New Zealand",
         "marker": {
          "color": "#FFA15A",
          "symbol": "circle"
         },
         "mode": "markers",
         "name": "New Zealand",
         "orientation": "v",
         "showlegend": true,
         "type": "scatter",
         "x": [
          37.9
         ],
         "xaxis": "x",
         "y": [
          34.1
         ],
         "yaxis": "y"
        },
        {
         "hovertemplate": "Country name=Angola<br>Median age=%{x}<br>Gini coefficient of income=%{y}<extra></extra>",
         "legendgroup": "Angola",
         "marker": {
          "color": "#19d3f3",
          "symbol": "circle"
         },
         "mode": "markers",
         "name": "Angola",
         "orientation": "v",
         "showlegend": true,
         "type": "scatter",
         "x": [
          16.8
         ],
         "xaxis": "x",
         "y": [
          46.103
         ],
         "yaxis": "y"
        },
        {
         "hovertemplate": "Country name=Botswana<br>Median age=%{x}<br>Gini coefficient of income=%{y}<extra></extra>",
         "legendgroup": "Botswana",
         "marker": {
          "color": "#FF6692",
          "symbol": "circle"
         },
         "mode": "markers",
         "name": "Botswana",
         "orientation": "v",
         "showlegend": true,
         "type": "scatter",
         "x": [
          25.8
         ],
         "xaxis": "x",
         "y": [
          53.33
         ],
         "yaxis": "y"
        },
        {
         "hovertemplate": "Country name=Ethiopia<br>Median age=%{x}<br>Gini coefficient of income=%{y}<extra></extra>",
         "legendgroup": "Ethiopia",
         "marker": {
          "color": "#B6E880",
          "symbol": "circle"
         },
         "mode": "markers",
         "name": "Ethiopia",
         "orientation": "v",
         "showlegend": true,
         "type": "scatter",
         "x": [
          19.8
         ],
         "xaxis": "x",
         "y": [
          33.498000000000005
         ],
         "yaxis": "y"
        },
        {
         "hovertemplate": "Country name=Mali<br>Median age=%{x}<br>Gini coefficient of income=%{y}<extra></extra>",
         "legendgroup": "Mali",
         "marker": {
          "color": "#FF97FF",
          "symbol": "circle"
         },
         "mode": "markers",
         "name": "Mali",
         "orientation": "v",
         "showlegend": true,
         "type": "scatter",
         "x": [
          16.4
         ],
         "xaxis": "x",
         "y": [
          33.04
         ],
         "yaxis": "y"
        },
        {
         "hovertemplate": "Country name=Mauritania<br>Median age=%{x}<br>Gini coefficient of income=%{y}<extra></extra>",
         "legendgroup": "Mauritania",
         "marker": {
          "color": "#FECB52",
          "symbol": "circle"
         },
         "mode": "markers",
         "name": "Mauritania",
         "orientation": "v",
         "showlegend": true,
         "type": "scatter",
         "x": [
          20.3
         ],
         "xaxis": "x",
         "y": [
          32.62
         ],
         "yaxis": "y"
        },
        {
         "hovertemplate": "Country name=Mozambique<br>Median age=%{x}<br>Gini coefficient of income=%{y}<extra></extra>",
         "legendgroup": "Mozambique",
         "marker": {
          "color": "#636efa",
          "symbol": "circle"
         },
         "mode": "markers",
         "name": "Mozambique",
         "orientation": "v",
         "showlegend": true,
         "type": "scatter",
         "x": [
          17.7
         ],
         "xaxis": "x",
         "y": [
          49.417
         ],
         "yaxis": "y"
        },
        {
         "hovertemplate": "Country name=Niger<br>Median age=%{x}<br>Gini coefficient of income=%{y}<extra></extra>",
         "legendgroup": "Niger",
         "marker": {
          "color": "#EF553B",
          "symbol": "circle"
         },
         "mode": "markers",
         "name": "Niger",
         "orientation": "v",
         "showlegend": true,
         "type": "scatter",
         "x": [
          15.1
         ],
         "xaxis": "x",
         "y": [
          34.28
         ],
         "yaxis": "y"
        },
        {
         "hovertemplate": "Country name=Rwanda<br>Median age=%{x}<br>Gini coefficient of income=%{y}<extra></extra>",
         "legendgroup": "Rwanda",
         "marker": {
          "color": "#00cc96",
          "symbol": "circle"
         },
         "mode": "markers",
         "name": "Rwanda",
         "orientation": "v",
         "showlegend": true,
         "type": "scatter",
         "x": [
          20.3
         ],
         "xaxis": "x",
         "y": [
          43.71
         ],
         "yaxis": "y"
        },
        {
         "hovertemplate": "Country name=Senegal<br>Median age=%{x}<br>Gini coefficient of income=%{y}<extra></extra>",
         "legendgroup": "Senegal",
         "marker": {
          "color": "#ab63fa",
          "symbol": "circle"
         },
         "mode": "markers",
         "name": "Senegal",
         "orientation": "v",
         "showlegend": true,
         "type": "scatter",
         "x": [
          18.7
         ],
         "xaxis": "x",
         "y": [
          40.29
         ],
         "yaxis": "y"
        },
        {
         "hovertemplate": "Country name=Zambia<br>Median age=%{x}<br>Gini coefficient of income=%{y}<extra></extra>",
         "legendgroup": "Zambia",
         "marker": {
          "color": "#FFA15A",
          "symbol": "circle"
         },
         "mode": "markers",
         "name": "Zambia",
         "orientation": "v",
         "showlegend": true,
         "type": "scatter",
         "x": [
          17.7
         ],
         "xaxis": "x",
         "y": [
          57.14
         ],
         "yaxis": "y"
        },
        {
         "hovertemplate": "Country name=South Korea<br>Median age=%{x}<br>Gini coefficient of income=%{y}<extra></extra>",
         "legendgroup": "South Korea",
         "marker": {
          "color": "#19d3f3",
          "symbol": "circle"
         },
         "mode": "markers",
         "name": "South Korea",
         "orientation": "v",
         "showlegend": true,
         "type": "scatter",
         "x": [
          43.4
         ],
         "xaxis": "x",
         "y": [
          35.5
         ],
         "yaxis": "y"
        },
        {
         "hovertemplate": "Country name=Taiwan Province of China<br>Median age=%{x}<br>Gini coefficient of income=%{y}<extra></extra>",
         "legendgroup": "Taiwan Province of China",
         "marker": {
          "color": "#FF6692",
          "symbol": "circle"
         },
         "mode": "markers",
         "name": "Taiwan Province of China",
         "orientation": "v",
         "showlegend": true,
         "type": "scatter",
         "x": [
          42.2
         ],
         "xaxis": "x",
         "y": [
          29.467
         ],
         "yaxis": "y"
        },
        {
         "hovertemplate": "Country name=Afghanistan<br>Median age=%{x}<br>Gini coefficient of income=%{y}<extra></extra>",
         "legendgroup": "Afghanistan",
         "marker": {
          "color": "#B6E880",
          "symbol": "circle"
         },
         "mode": "markers",
         "name": "Afghanistan",
         "orientation": "v",
         "showlegend": true,
         "type": "scatter",
         "x": [
          18.6
         ],
         "xaxis": "x",
         "y": [
          31
         ],
         "yaxis": "y"
        },
        {
         "hovertemplate": "Country name=Belarus<br>Median age=%{x}<br>Gini coefficient of income=%{y}<extra></extra>",
         "legendgroup": "Belarus",
         "marker": {
          "color": "#FF97FF",
          "symbol": "circle"
         },
         "mode": "markers",
         "name": "Belarus",
         "orientation": "v",
         "showlegend": true,
         "type": "scatter",
         "x": [
          40.3
         ],
         "xaxis": "x",
         "y": [
          25.44
         ],
         "yaxis": "y"
        },
        {
         "hovertemplate": "Country name=Georgia<br>Median age=%{x}<br>Gini coefficient of income=%{y}<extra></extra>",
         "legendgroup": "Georgia",
         "marker": {
          "color": "#FECB52",
          "symbol": "circle"
         },
         "mode": "markers",
         "name": "Georgia",
         "orientation": "v",
         "showlegend": true,
         "type": "scatter",
         "x": [
          38.7
         ],
         "xaxis": "x",
         "y": [
          37.94
         ],
         "yaxis": "y"
        },
        {
         "hovertemplate": "Country name=Kazakhstan<br>Median age=%{x}<br>Gini coefficient of income=%{y}<extra></extra>",
         "legendgroup": "Kazakhstan",
         "marker": {
          "color": "#636efa",
          "symbol": "circle"
         },
         "mode": "markers",
         "name": "Kazakhstan",
         "orientation": "v",
         "showlegend": true,
         "type": "scatter",
         "x": [
          30.6
         ],
         "xaxis": "x",
         "y": [
          27.45
         ],
         "yaxis": "y"
        },
        {
         "hovertemplate": "Country name=Kyrgyzstan<br>Median age=%{x}<br>Gini coefficient of income=%{y}<extra></extra>",
         "legendgroup": "Kyrgyzstan",
         "marker": {
          "color": "#EF553B",
          "symbol": "circle"
         },
         "mode": "markers",
         "name": "Kyrgyzstan",
         "orientation": "v",
         "showlegend": true,
         "type": "scatter",
         "x": [
          26.3
         ],
         "xaxis": "x",
         "y": [
          27.34
         ],
         "yaxis": "y"
        },
        {
         "hovertemplate": "Country name=Moldova<br>Median age=%{x}<br>Gini coefficient of income=%{y}<extra></extra>",
         "legendgroup": "Moldova",
         "marker": {
          "color": "#00cc96",
          "symbol": "circle"
         },
         "mode": "markers",
         "name": "Moldova",
         "orientation": "v",
         "showlegend": true,
         "type": "scatter",
         "x": [
          37.6
         ],
         "xaxis": "x",
         "y": [
          25.9
         ],
         "yaxis": "y"
        },
        {
         "hovertemplate": "Country name=Russia<br>Median age=%{x}<br>Gini coefficient of income=%{y}<extra></extra>",
         "legendgroup": "Russia",
         "marker": {
          "color": "#ab63fa",
          "symbol": "circle"
         },
         "mode": "markers",
         "name": "Russia",
         "orientation": "v",
         "showlegend": true,
         "type": "scatter",
         "x": [
          39.6
         ],
         "xaxis": "x",
         "y": [
          34.56
         ],
         "yaxis": "y"
        },
        {
         "hovertemplate": "Country name=Ukraine<br>Median age=%{x}<br>Gini coefficient of income=%{y}<extra></extra>",
         "legendgroup": "Ukraine",
         "marker": {
          "color": "#FFA15A",
          "symbol": "circle"
         },
         "mode": "markers",
         "name": "Ukraine",
         "orientation": "v",
         "showlegend": true,
         "type": "scatter",
         "x": [
          41.4
         ],
         "xaxis": "x",
         "y": [
          25
         ],
         "yaxis": "y"
        },
        {
         "hovertemplate": "Country name=Burkina Faso<br>Median age=%{x}<br>Gini coefficient of income=%{y}<extra></extra>",
         "legendgroup": "Burkina Faso",
         "marker": {
          "color": "#19d3f3",
          "symbol": "circle"
         },
         "mode": "markers",
         "name": "Burkina Faso",
         "orientation": "v",
         "showlegend": true,
         "type": "scatter",
         "x": [
          17.6
         ],
         "xaxis": "x",
         "y": [
          35.3
         ],
         "yaxis": "y"
        },
        {
         "hovertemplate": "Country name=Cameroon<br>Median age=%{x}<br>Gini coefficient of income=%{y}<extra></extra>",
         "legendgroup": "Cameroon",
         "marker": {
          "color": "#FF6692",
          "symbol": "circle"
         },
         "mode": "markers",
         "name": "Cameroon",
         "orientation": "v",
         "showlegend": true,
         "type": "scatter",
         "x": [
          18.8
         ],
         "xaxis": "x",
         "y": [
          46.64
         ],
         "yaxis": "y"
        },
        {
         "hovertemplate": "Country name=Sierra Leone<br>Median age=%{x}<br>Gini coefficient of income=%{y}<extra></extra>",
         "legendgroup": "Sierra Leone",
         "marker": {
          "color": "#B6E880",
          "symbol": "circle"
         },
         "mode": "markers",
         "name": "Sierra Leone",
         "orientation": "v",
         "showlegend": true,
         "type": "scatter",
         "x": [
          19.1
         ],
         "xaxis": "x",
         "y": [
          34.03
         ],
         "yaxis": "y"
        },
        {
         "hovertemplate": "Country name=Zimbabwe<br>Median age=%{x}<br>Gini coefficient of income=%{y}<extra></extra>",
         "legendgroup": "Zimbabwe",
         "marker": {
          "color": "#FF97FF",
          "symbol": "circle"
         },
         "mode": "markers",
         "name": "Zimbabwe",
         "orientation": "v",
         "showlegend": true,
         "type": "scatter",
         "x": [
          19.6
         ],
         "xaxis": "x",
         "y": [
          40.363
         ],
         "yaxis": "y"
        },
        {
         "hovertemplate": "Country name=Costa Rica<br>Median age=%{x}<br>Gini coefficient of income=%{y}<extra></extra>",
         "legendgroup": "Costa Rica",
         "marker": {
          "color": "#FECB52",
          "symbol": "circle"
         },
         "mode": "markers",
         "name": "Costa Rica",
         "orientation": "v",
         "showlegend": true,
         "type": "scatter",
         "x": [
          33.6
         ],
         "xaxis": "x",
         "y": [
          48.6
         ],
         "yaxis": "y"
        },
        {
         "hovertemplate": "Country name=Albania<br>Median age=%{x}<br>Gini coefficient of income=%{y}<extra></extra>",
         "legendgroup": "Albania",
         "marker": {
          "color": "#636efa",
          "symbol": "circle"
         },
         "mode": "markers",
         "name": "Albania",
         "orientation": "v",
         "showlegend": true,
         "type": "scatter",
         "x": [
          38
         ],
         "xaxis": "x",
         "y": [
          28.96
         ],
         "yaxis": "y"
        },
        {
         "hovertemplate": "Country name=Algeria<br>Median age=%{x}<br>Gini coefficient of income=%{y}<extra></extra>",
         "legendgroup": "Algeria",
         "marker": {
          "color": "#EF553B",
          "symbol": "circle"
         },
         "mode": "markers",
         "name": "Algeria",
         "orientation": "v",
         "showlegend": true,
         "type": "scatter",
         "x": [
          29.1
         ],
         "xaxis": "x",
         "y": [
          27.62
         ],
         "yaxis": "y"
        },
        {
         "hovertemplate": "Country name=Argentina<br>Median age=%{x}<br>Gini coefficient of income=%{y}<extra></extra>",
         "legendgroup": "Argentina",
         "marker": {
          "color": "#00cc96",
          "symbol": "circle"
         },
         "mode": "markers",
         "name": "Argentina",
         "orientation": "v",
         "showlegend": true,
         "type": "scatter",
         "x": [
          31.9
         ],
         "xaxis": "x",
         "y": [
          39.6
         ],
         "yaxis": "y"
        },
        {
         "hovertemplate": "Country name=Armenia<br>Median age=%{x}<br>Gini coefficient of income=%{y}<extra></extra>",
         "legendgroup": "Armenia",
         "marker": {
          "color": "#ab63fa",
          "symbol": "circle"
         },
         "mode": "markers",
         "name": "Armenia",
         "orientation": "v",
         "showlegend": true,
         "type": "scatter",
         "x": [
          35.7
         ],
         "xaxis": "x",
         "y": [
          33.62
         ],
         "yaxis": "y"
        },
        {
         "hovertemplate": "Country name=Austria<br>Median age=%{x}<br>Gini coefficient of income=%{y}<extra></extra>",
         "legendgroup": "Austria",
         "marker": {
          "color": "#FFA15A",
          "symbol": "circle"
         },
         "mode": "markers",
         "name": "Austria",
         "orientation": "v",
         "showlegend": true,
         "type": "scatter",
         "x": [
          44.4
         ],
         "xaxis": "x",
         "y": [
          26.8
         ],
         "yaxis": "y"
        },
        {
         "hovertemplate": "Country name=Azerbaijan<br>Median age=%{x}<br>Gini coefficient of income=%{y}<extra></extra>",
         "legendgroup": "Azerbaijan",
         "marker": {
          "color": "#19d3f3",
          "symbol": "circle"
         },
         "mode": "markers",
         "name": "Azerbaijan",
         "orientation": "v",
         "showlegend": true,
         "type": "scatter",
         "x": [
          32.4
         ],
         "xaxis": "x",
         "y": [
          26.6
         ],
         "yaxis": "y"
        },
        {
         "hovertemplate": "Country name=Bahrain<br>Median age=%{x}<br>Gini coefficient of income=%{y}<extra></extra>",
         "legendgroup": "Bahrain",
         "marker": {
          "color": "#FF6692",
          "symbol": "circle"
         },
         "mode": "markers",
         "name": "Bahrain",
         "orientation": "v",
         "showlegend": true,
         "type": "scatter",
         "x": [
          32.4
         ],
         "xaxis": "x",
         "y": [
          59.6
         ],
         "yaxis": "y"
        },
        {
         "hovertemplate": "Country name=Belize<br>Median age=%{x}<br>Gini coefficient of income=%{y}<extra></extra>",
         "legendgroup": "Belize",
         "marker": {
          "color": "#B6E880",
          "symbol": "circle"
         },
         "mode": "markers",
         "name": "Belize",
         "orientation": "v",
         "showlegend": true,
         "type": "scatter",
         "x": [
          25
         ],
         "xaxis": "x",
         "y": [
          53.26
         ],
         "yaxis": "y"
        },
        {
         "hovertemplate": "Country name=Bhutan<br>Median age=%{x}<br>Gini coefficient of income=%{y}<extra></extra>",
         "legendgroup": "Bhutan",
         "marker": {
          "color": "#FF97FF",
          "symbol": "circle"
         },
         "mode": "markers",
         "name": "Bhutan",
         "orientation": "v",
         "showlegend": true,
         "type": "scatter",
         "x": [
          28.6
         ],
         "xaxis": "x",
         "y": [
          37.44
         ],
         "yaxis": "y"
        },
        {
         "hovertemplate": "Country name=Bolivia<br>Median age=%{x}<br>Gini coefficient of income=%{y}<extra></extra>",
         "legendgroup": "Bolivia",
         "marker": {
          "color": "#FECB52",
          "symbol": "circle"
         },
         "mode": "markers",
         "name": "Bolivia",
         "orientation": "v",
         "showlegend": true,
         "type": "scatter",
         "x": [
          25.4
         ],
         "xaxis": "x",
         "y": [
          43.8
         ],
         "yaxis": "y"
        },
        {
         "hovertemplate": "Country name=Bosnia and Herzegovina<br>Median age=%{x}<br>Gini coefficient of income=%{y}<extra></extra>",
         "legendgroup": "Bosnia and Herzegovina",
         "marker": {
          "color": "#636efa",
          "symbol": "circle"
         },
         "mode": "markers",
         "name": "Bosnia and Herzegovina",
         "orientation": "v",
         "showlegend": true,
         "type": "scatter",
         "x": [
          42.5
         ],
         "xaxis": "x",
         "y": [
          33.03
         ],
         "yaxis": "y"
        },
        {
         "hovertemplate": "Country name=Bulgaria<br>Median age=%{x}<br>Gini coefficient of income=%{y}<extra></extra>",
         "legendgroup": "Bulgaria",
         "marker": {
          "color": "#EF553B",
          "symbol": "circle"
         },
         "mode": "markers",
         "name": "Bulgaria",
         "orientation": "v",
         "showlegend": true,
         "type": "scatter",
         "x": [
          44.7
         ],
         "xaxis": "x",
         "y": [
          39.6
         ],
         "yaxis": "y"
        },
        {
         "hovertemplate": "Country name=Burundi<br>Median age=%{x}<br>Gini coefficient of income=%{y}<extra></extra>",
         "legendgroup": "Burundi",
         "marker": {
          "color": "#00cc96",
          "symbol": "circle"
         },
         "mode": "markers",
         "name": "Burundi",
         "orientation": "v",
         "showlegend": true,
         "type": "scatter",
         "x": [
          17.5
         ],
         "xaxis": "x",
         "y": [
          38.62
         ],
         "yaxis": "y"
        },
        {
         "hovertemplate": "Country name=Central African Republic<br>Median age=%{x}<br>Gini coefficient of income=%{y}<extra></extra>",
         "legendgroup": "Central African Republic",
         "marker": {
          "color": "#ab63fa",
          "symbol": "circle"
         },
         "mode": "markers",
         "name": "Central African Republic",
         "orientation": "v",
         "showlegend": true,
         "type": "scatter",
         "x": [
          18.3
         ],
         "xaxis": "x",
         "y": [
          56.24
         ],
         "yaxis": "y"
        },
        {
         "hovertemplate": "Country name=Chad<br>Median age=%{x}<br>Gini coefficient of income=%{y}<extra></extra>",
         "legendgroup": "Chad",
         "marker": {
          "color": "#FFA15A",
          "symbol": "circle"
         },
         "mode": "markers",
         "name": "Chad",
         "orientation": "v",
         "showlegend": true,
         "type": "scatter",
         "x": [
          16.7
         ],
         "xaxis": "x",
         "y": [
          43.32
         ],
         "yaxis": "y"
        },
        {
         "hovertemplate": "Country name=Chile<br>Median age=%{x}<br>Gini coefficient of income=%{y}<extra></extra>",
         "legendgroup": "Chile",
         "marker": {
          "color": "#19d3f3",
          "symbol": "circle"
         },
         "mode": "markers",
         "name": "Chile",
         "orientation": "v",
         "showlegend": true,
         "type": "scatter",
         "x": [
          35.4
         ],
         "xaxis": "x",
         "y": [
          45.92
         ],
         "yaxis": "y"
        },
        {
         "hovertemplate": "Country name=Colombia<br>Median age=%{x}<br>Gini coefficient of income=%{y}<extra></extra>",
         "legendgroup": "Colombia",
         "marker": {
          "color": "#FF6692",
          "symbol": "circle"
         },
         "mode": "markers",
         "name": "Colombia",
         "orientation": "v",
         "showlegend": true,
         "type": "scatter",
         "x": [
          32.2
         ],
         "xaxis": "x",
         "y": [
          52
         ],
         "yaxis": "y"
        },
        {
         "hovertemplate": "Country name=Comoros<br>Median age=%{x}<br>Gini coefficient of income=%{y}<extra></extra>",
         "legendgroup": "Comoros",
         "marker": {
          "color": "#B6E880",
          "symbol": "circle"
         },
         "mode": "markers",
         "name": "Comoros",
         "orientation": "v",
         "showlegend": true,
         "type": "scatter",
         "x": [
          20.4
         ],
         "xaxis": "x",
         "y": [
          45.33
         ],
         "yaxis": "y"
        },
        {
         "hovertemplate": "Country name=Congo (Kinshasa)<br>Median age=%{x}<br>Gini coefficient of income=%{y}<extra></extra>",
         "legendgroup": "Congo (Kinshasa)",
         "marker": {
          "color": "#FF97FF",
          "symbol": "circle"
         },
         "mode": "markers",
         "name": "Congo (Kinshasa)",
         "orientation": "v",
         "showlegend": true,
         "type": "scatter",
         "x": [
          17
         ],
         "xaxis": "x",
         "y": [
          42.1
         ],
         "yaxis": "y"
        },
        {
         "hovertemplate": "Country name=Congo (Brazzaville)<br>Median age=%{x}<br>Gini coefficient of income=%{y}<extra></extra>",
         "legendgroup": "Congo (Brazzaville)",
         "marker": {
          "color": "#FECB52",
          "symbol": "circle"
         },
         "mode": "markers",
         "name": "Congo (Brazzaville)",
         "orientation": "v",
         "showlegend": true,
         "type": "scatter",
         "x": [
          19
         ],
         "xaxis": "x",
         "y": [
          48.94
         ],
         "yaxis": "y"
        },
        {
         "hovertemplate": "Country name=Croatia<br>Median age=%{x}<br>Gini coefficient of income=%{y}<extra></extra>",
         "legendgroup": "Croatia",
         "marker": {
          "color": "#636efa",
          "symbol": "circle"
         },
         "mode": "markers",
         "name": "Croatia",
         "orientation": "v",
         "showlegend": true,
         "type": "scatter",
         "x": [
          44
         ],
         "xaxis": "x",
         "y": [
          29.7
         ],
         "yaxis": "y"
        },
        {
         "hovertemplate": "Country name=Cuba<br>Median age=%{x}<br>Gini coefficient of income=%{y}<extra></extra>",
         "legendgroup": "Cuba",
         "marker": {
          "color": "#EF553B",
          "symbol": "circle"
         },
         "mode": "markers",
         "name": "Cuba",
         "orientation": "v",
         "showlegend": true,
         "type": "scatter",
         "x": [
          43.1
         ],
         "xaxis": "x",
         "y": [
          38
         ],
         "yaxis": "y"
        },
        {
         "hovertemplate": "Country name=Cyprus<br>Median age=%{x}<br>Gini coefficient of income=%{y}<extra></extra>",
         "legendgroup": "Cyprus",
         "marker": {
          "color": "#00cc96",
          "symbol": "circle"
         },
         "mode": "markers",
         "name": "Cyprus",
         "orientation": "v",
         "showlegend": true,
         "type": "scatter",
         "x": [
          37.3
         ],
         "xaxis": "x",
         "y": [
          29.1
         ],
         "yaxis": "y"
        },
        {
         "hovertemplate": "Country name=Djibouti<br>Median age=%{x}<br>Gini coefficient of income=%{y}<extra></extra>",
         "legendgroup": "Djibouti",
         "marker": {
          "color": "#ab63fa",
          "symbol": "circle"
         },
         "mode": "markers",
         "name": "Djibouti",
         "orientation": "v",
         "showlegend": true,
         "type": "scatter",
         "x": [
          25.4
         ],
         "xaxis": "x",
         "y": [
          41.59
         ],
         "yaxis": "y"
        },
        {
         "hovertemplate": "Country name=Dominican Republic<br>Median age=%{x}<br>Gini coefficient of income=%{y}<extra></extra>",
         "legendgroup": "Dominican Republic",
         "marker": {
          "color": "#FFA15A",
          "symbol": "circle"
         },
         "mode": "markers",
         "name": "Dominican Republic",
         "orientation": "v",
         "showlegend": true,
         "type": "scatter",
         "x": [
          27.6
         ],
         "xaxis": "x",
         "y": [
          44.4
         ],
         "yaxis": "y"
        },
        {
         "hovertemplate": "Country name=Ecuador<br>Median age=%{x}<br>Gini coefficient of income=%{y}<extra></extra>",
         "legendgroup": "Ecuador",
         "marker": {
          "color": "#19d3f3",
          "symbol": "circle"
         },
         "mode": "markers",
         "name": "Ecuador",
         "orientation": "v",
         "showlegend": true,
         "type": "scatter",
         "x": [
          28.1
         ],
         "xaxis": "x",
         "y": [
          45.4
         ],
         "yaxis": "y"
        },
        {
         "hovertemplate": "Country name=El Salvador<br>Median age=%{x}<br>Gini coefficient of income=%{y}<extra></extra>",
         "legendgroup": "El Salvador",
         "marker": {
          "color": "#FF6692",
          "symbol": "circle"
         },
         "mode": "markers",
         "name": "El Salvador",
         "orientation": "v",
         "showlegend": true,
         "type": "scatter",
         "x": [
          27.6
         ],
         "xaxis": "x",
         "y": [
          40.5
         ],
         "yaxis": "y"
        },
        {
         "hovertemplate": "Country name=Estonia<br>Median age=%{x}<br>Gini coefficient of income=%{y}<extra></extra>",
         "legendgroup": "Estonia",
         "marker": {
          "color": "#B6E880",
          "symbol": "circle"
         },
         "mode": "markers",
         "name": "Estonia",
         "orientation": "v",
         "showlegend": true,
         "type": "scatter",
         "x": [
          42.7
         ],
         "xaxis": "x",
         "y": [
          30.6
         ],
         "yaxis": "y"
        },
        {
         "hovertemplate": "Country name=Finland<br>Median age=%{x}<br>Gini coefficient of income=%{y}<extra></extra>",
         "legendgroup": "Finland",
         "marker": {
          "color": "#FF97FF",
          "symbol": "circle"
         },
         "mode": "markers",
         "name": "Finland",
         "orientation": "v",
         "showlegend": true,
         "type": "scatter",
         "x": [
          42.8
         ],
         "xaxis": "x",
         "y": [
          25.9
         ],
         "yaxis": "y"
        },
        {
         "hovertemplate": "Country name=Gabon<br>Median age=%{x}<br>Gini coefficient of income=%{y}<extra></extra>",
         "legendgroup": "Gabon",
         "marker": {
          "color": "#FECB52",
          "symbol": "circle"
         },
         "mode": "markers",
         "name": "Gabon",
         "orientation": "v",
         "showlegend": true,
         "type": "scatter",
         "x": [
          23.1
         ],
         "xaxis": "x",
         "y": [
          38.02
         ],
         "yaxis": "y"
        },
        {
         "hovertemplate": "Country name=Guatemala<br>Median age=%{x}<br>Gini coefficient of income=%{y}<extra></extra>",
         "legendgroup": "Guatemala",
         "marker": {
          "color": "#636efa",
          "symbol": "circle"
         },
         "mode": "markers",
         "name": "Guatemala",
         "orientation": "v",
         "showlegend": true,
         "type": "scatter",
         "x": [
          22.9
         ],
         "xaxis": "x",
         "y": [
          44.488
         ],
         "yaxis": "y"
        },
        {
         "hovertemplate": "Country name=Guinea<br>Median age=%{x}<br>Gini coefficient of income=%{y}<extra></extra>",
         "legendgroup": "Guinea",
         "marker": {
          "color": "#EF553B",
          "symbol": "circle"
         },
         "mode": "markers",
         "name": "Guinea",
         "orientation": "v",
         "showlegend": true,
         "type": "scatter",
         "x": [
          19
         ],
         "xaxis": "x",
         "y": [
          33.73
         ],
         "yaxis": "y"
        },
        {
         "hovertemplate": "Country name=Guyana<br>Median age=%{x}<br>Gini coefficient of income=%{y}<extra></extra>",
         "legendgroup": "Guyana",
         "marker": {
          "color": "#00cc96",
          "symbol": "circle"
         },
         "mode": "markers",
         "name": "Guyana",
         "orientation": "v",
         "showlegend": true,
         "type": "scatter",
         "x": [
          26.3
         ],
         "xaxis": "x",
         "y": [
          35
         ],
         "yaxis": "y"
        },
        {
         "hovertemplate": "Country name=Haiti<br>Median age=%{x}<br>Gini coefficient of income=%{y}<extra></extra>",
         "legendgroup": "Haiti",
         "marker": {
          "color": "#ab63fa",
          "symbol": "circle"
         },
         "mode": "markers",
         "name": "Haiti",
         "orientation": "v",
         "showlegend": true,
         "type": "scatter",
         "x": [
          24.3
         ],
         "xaxis": "x",
         "y": [
          50.945
         ],
         "yaxis": "y"
        },
        {
         "hovertemplate": "Country name=Honduras<br>Median age=%{x}<br>Gini coefficient of income=%{y}<extra></extra>",
         "legendgroup": "Honduras",
         "marker": {
          "color": "#FFA15A",
          "symbol": "circle"
         },
         "mode": "markers",
         "name": "Honduras",
         "orientation": "v",
         "showlegend": true,
         "type": "scatter",
         "x": [
          24.9
         ],
         "xaxis": "x",
         "y": [
          48.1
         ],
         "yaxis": "y"
        },
        {
         "hovertemplate": "Country name=Iceland<br>Median age=%{x}<br>Gini coefficient of income=%{y}<extra></extra>",
         "legendgroup": "Iceland",
         "marker": {
          "color": "#19d3f3",
          "symbol": "circle"
         },
         "mode": "markers",
         "name": "Iceland",
         "orientation": "v",
         "showlegend": true,
         "type": "scatter",
         "x": [
          37.3
         ],
         "xaxis": "x",
         "y": [
          24.1
         ],
         "yaxis": "y"
        },
        {
         "hovertemplate": "Country name=Iraq<br>Median age=%{x}<br>Gini coefficient of income=%{y}<extra></extra>",
         "legendgroup": "Iraq",
         "marker": {
          "color": "#FF6692",
          "symbol": "circle"
         },
         "mode": "markers",
         "name": "Iraq",
         "orientation": "v",
         "showlegend": true,
         "type": "scatter",
         "x": [
          20
         ],
         "xaxis": "x",
         "y": [
          33.12
         ],
         "yaxis": "y"
        },
        {
         "hovertemplate": "Country name=Ireland<br>Median age=%{x}<br>Gini coefficient of income=%{y}<extra></extra>",
         "legendgroup": "Ireland",
         "marker": {
          "color": "#B6E880",
          "symbol": "circle"
         },
         "mode": "markers",
         "name": "Ireland",
         "orientation": "v",
         "showlegend": true,
         "type": "scatter",
         "x": [
          38.7
         ],
         "xaxis": "x",
         "y": [
          30.6
         ],
         "yaxis": "y"
        },
        {
         "hovertemplate": "Country name=Ivory Coast<br>Median age=%{x}<br>Gini coefficient of income=%{y}<extra></extra>",
         "legendgroup": "Ivory Coast",
         "marker": {
          "color": "#FF97FF",
          "symbol": "circle"
         },
         "mode": "markers",
         "name": "Ivory Coast",
         "orientation": "v",
         "showlegend": true,
         "type": "scatter",
         "x": [
          18.7
         ],
         "xaxis": "x",
         "y": [
          48.593999999999994
         ],
         "yaxis": "y"
        },
        {
         "hovertemplate": "Country name=Jamaica<br>Median age=%{x}<br>Gini coefficient of income=%{y}<extra></extra>",
         "legendgroup": "Jamaica",
         "marker": {
          "color": "#FECB52",
          "symbol": "circle"
         },
         "mode": "markers",
         "name": "Jamaica",
         "orientation": "v",
         "showlegend": true,
         "type": "scatter",
         "x": [
          31.4
         ],
         "xaxis": "x",
         "y": [
          37.48
         ],
         "yaxis": "y"
        },
        {
         "hovertemplate": "Country name=Kuwait<br>Median age=%{x}<br>Gini coefficient of income=%{y}<extra></extra>",
         "legendgroup": "Kuwait",
         "marker": {
          "color": "#636efa",
          "symbol": "circle"
         },
         "mode": "markers",
         "name": "Kuwait",
         "orientation": "v",
         "showlegend": true,
         "type": "scatter",
         "x": [
          33.7
         ],
         "xaxis": "x",
         "y": [
          36.02
         ],
         "yaxis": "y"
        },
        {
         "hovertemplate": "Country name=Latvia<br>Median age=%{x}<br>Gini coefficient of income=%{y}<extra></extra>",
         "legendgroup": "Latvia",
         "marker": {
          "color": "#EF553B",
          "symbol": "circle"
         },
         "mode": "markers",
         "name": "Latvia",
         "orientation": "v",
         "showlegend": true,
         "type": "scatter",
         "x": [
          43.9
         ],
         "xaxis": "x",
         "y": [
          35.6
         ],
         "yaxis": "y"
        },
        {
         "hovertemplate": "Country name=Lesotho<br>Median age=%{x}<br>Gini coefficient of income=%{y}<extra></extra>",
         "legendgroup": "Lesotho",
         "marker": {
          "color": "#00cc96",
          "symbol": "circle"
         },
         "mode": "markers",
         "name": "Lesotho",
         "orientation": "v",
         "showlegend": true,
         "type": "scatter",
         "x": [
          24
         ],
         "xaxis": "x",
         "y": [
          54.18
         ],
         "yaxis": "y"
        },
        {
         "hovertemplate": "Country name=Liberia<br>Median age=%{x}<br>Gini coefficient of income=%{y}<extra></extra>",
         "legendgroup": "Liberia",
         "marker": {
          "color": "#ab63fa",
          "symbol": "circle"
         },
         "mode": "markers",
         "name": "Liberia",
         "orientation": "v",
         "showlegend": true,
         "type": "scatter",
         "x": [
          19.2
         ],
         "xaxis": "x",
         "y": [
          35.27
         ],
         "yaxis": "y"
        },
        {
         "hovertemplate": "Country name=Libya<br>Median age=%{x}<br>Gini coefficient of income=%{y}<extra></extra>",
         "legendgroup": "Libya",
         "marker": {
          "color": "#FFA15A",
          "symbol": "circle"
         },
         "mode": "markers",
         "name": "Libya",
         "orientation": "v",
         "showlegend": true,
         "type": "scatter",
         "x": [
          29
         ],
         "xaxis": "x",
         "y": [
          30.2
         ],
         "yaxis": "y"
        },
        {
         "hovertemplate": "Country name=Lithuania<br>Median age=%{x}<br>Gini coefficient of income=%{y}<extra></extra>",
         "legendgroup": "Lithuania",
         "marker": {
          "color": "#19d3f3",
          "symbol": "circle"
         },
         "mode": "markers",
         "name": "Lithuania",
         "orientation": "v",
         "showlegend": true,
         "type": "scatter",
         "x": [
          43.5
         ],
         "xaxis": "x",
         "y": [
          36.9
         ],
         "yaxis": "y"
        },
        {
         "hovertemplate": "Country name=Luxembourg<br>Median age=%{x}<br>Gini coefficient of income=%{y}<extra></extra>",
         "legendgroup": "Luxembourg",
         "marker": {
          "color": "#FF6692",
          "symbol": "circle"
         },
         "mode": "markers",
         "name": "Luxembourg",
         "orientation": "v",
         "showlegend": true,
         "type": "scatter",
         "x": [
          39.7
         ],
         "xaxis": "x",
         "y": [
          30.9
         ],
         "yaxis": "y"
        },
        {
         "hovertemplate": "Country name=North Macedonia<br>Median age=%{x}<br>Gini coefficient of income=%{y}<extra></extra>",
         "legendgroup": "North Macedonia",
         "marker": {
          "color": "#B6E880",
          "symbol": "circle"
         },
         "mode": "markers",
         "name": "North Macedonia",
         "orientation": "v",
         "showlegend": true,
         "type": "scatter",
         "x": [
          39.1
         ],
         "xaxis": "x",
         "y": [
          32.4
         ],
         "yaxis": "y"
        },
        {
         "hovertemplate": "Country name=Malaysia<br>Median age=%{x}<br>Gini coefficient of income=%{y}<extra></extra>",
         "legendgroup": "Malaysia",
         "marker": {
          "color": "#FF97FF",
          "symbol": "circle"
         },
         "mode": "markers",
         "name": "Malaysia",
         "orientation": "v",
         "showlegend": true,
         "type": "scatter",
         "x": [
          29.9
         ],
         "xaxis": "x",
         "y": [
          41.04
         ],
         "yaxis": "y"
        },
        {
         "hovertemplate": "Country name=Maldives<br>Median age=%{x}<br>Gini coefficient of income=%{y}<extra></extra>",
         "legendgroup": "Maldives",
         "marker": {
          "color": "#FECB52",
          "symbol": "circle"
         },
         "mode": "markers",
         "name": "Maldives",
         "orientation": "v",
         "showlegend": true,
         "type": "scatter",
         "x": [
          30.6
         ],
         "xaxis": "x",
         "y": [
          37.343
         ],
         "yaxis": "y"
        },
        {
         "hovertemplate": "Country name=Malta<br>Median age=%{x}<br>Gini coefficient of income=%{y}<extra></extra>",
         "legendgroup": "Malta",
         "marker": {
          "color": "#636efa",
          "symbol": "circle"
         },
         "mode": "markers",
         "name": "Malta",
         "orientation": "v",
         "showlegend": true,
         "type": "scatter",
         "x": [
          42.4
         ],
         "xaxis": "x",
         "y": [
          28.7
         ],
         "yaxis": "y"
        },
        {
         "hovertemplate": "Country name=Mauritius<br>Median age=%{x}<br>Gini coefficient of income=%{y}<extra></extra>",
         "legendgroup": "Mauritius",
         "marker": {
          "color": "#EF553B",
          "symbol": "circle"
         },
         "mode": "markers",
         "name": "Mauritius",
         "orientation": "v",
         "showlegend": true,
         "type": "scatter",
         "x": [
          37.4
         ],
         "xaxis": "x",
         "y": [
          38.47
         ],
         "yaxis": "y"
        },
        {
         "hovertemplate": "Country name=Mongolia<br>Median age=%{x}<br>Gini coefficient of income=%{y}<extra></extra>",
         "legendgroup": "Mongolia",
         "marker": {
          "color": "#00cc96",
          "symbol": "circle"
         },
         "mode": "markers",
         "name": "Mongolia",
         "orientation": "v",
         "showlegend": true,
         "type": "scatter",
         "x": [
          28.6
         ],
         "xaxis": "x",
         "y": [
          32.35
         ],
         "yaxis": "y"
        },
        {
         "hovertemplate": "Country name=Montenegro<br>Median age=%{x}<br>Gini coefficient of income=%{y}<extra></extra>",
         "legendgroup": "Montenegro",
         "marker": {
          "color": "#ab63fa",
          "symbol": "circle"
         },
         "mode": "markers",
         "name": "Montenegro",
         "orientation": "v",
         "showlegend": true,
         "type": "scatter",
         "x": [
          39.1
         ],
         "xaxis": "x",
         "y": [
          31.93
         ],
         "yaxis": "y"
        },
        {
         "hovertemplate": "Country name=Namibia<br>Median age=%{x}<br>Gini coefficient of income=%{y}<extra></extra>",
         "legendgroup": "Namibia",
         "marker": {
          "color": "#FFA15A",
          "symbol": "circle"
         },
         "mode": "markers",
         "name": "Namibia",
         "orientation": "v",
         "showlegend": true,
         "type": "scatter",
         "x": [
          22
         ],
         "xaxis": "x",
         "y": [
          57.535
         ],
         "yaxis": "y"
        },
        {
         "hovertemplate": "Country name=Nepal<br>Median age=%{x}<br>Gini coefficient of income=%{y}<extra></extra>",
         "legendgroup": "Nepal",
         "marker": {
          "color": "#19d3f3",
          "symbol": "circle"
         },
         "mode": "markers",
         "name": "Nepal",
         "orientation": "v",
         "showlegend": true,
         "type": "scatter",
         "x": [
          25
         ],
         "xaxis": "x",
         "y": [
          32.84
         ],
         "yaxis": "y"
        },
        {
         "hovertemplate": "Country name=Nicaragua<br>Median age=%{x}<br>Gini coefficient of income=%{y}<extra></extra>",
         "legendgroup": "Nicaragua",
         "marker": {
          "color": "#FF6692",
          "symbol": "circle"
         },
         "mode": "markers",
         "name": "Nicaragua",
         "orientation": "v",
         "showlegend": true,
         "type": "scatter",
         "x": [
          27.3
         ],
         "xaxis": "x",
         "y": [
          46.515
         ],
         "yaxis": "y"
        },
        {
         "hovertemplate": "Country name=Norway<br>Median age=%{x}<br>Gini coefficient of income=%{y}<extra></extra>",
         "legendgroup": "Norway",
         "marker": {
          "color": "#B6E880",
          "symbol": "circle"
         },
         "mode": "markers",
         "name": "Norway",
         "orientation": "v",
         "showlegend": true,
         "type": "scatter",
         "x": [
          39.7
         ],
         "xaxis": "x",
         "y": [
          24.8
         ],
         "yaxis": "y"
        },
        {
         "hovertemplate": "Country name=Oman<br>Median age=%{x}<br>Gini coefficient of income=%{y}<extra></extra>",
         "legendgroup": "Oman",
         "marker": {
          "color": "#FF97FF",
          "symbol": "circle"
         },
         "mode": "markers",
         "name": "Oman",
         "orientation": "v",
         "showlegend": true,
         "type": "scatter",
         "x": [
          30.7
         ],
         "xaxis": "x",
         "y": [
          30.7
         ],
         "yaxis": "y"
        },
        {
         "hovertemplate": "Country name=Panama<br>Median age=%{x}<br>Gini coefficient of income=%{y}<extra></extra>",
         "legendgroup": "Panama",
         "marker": {
          "color": "#FECB52",
          "symbol": "circle"
         },
         "mode": "markers",
         "name": "Panama",
         "orientation": "v",
         "showlegend": true,
         "type": "scatter",
         "x": [
          29.7
         ],
         "xaxis": "x",
         "y": [
          49.8
         ],
         "yaxis": "y"
        },
        {
         "hovertemplate": "Country name=Paraguay<br>Median age=%{x}<br>Gini coefficient of income=%{y}<extra></extra>",
         "legendgroup": "Paraguay",
         "marker": {
          "color": "#636efa",
          "symbol": "circle"
         },
         "mode": "markers",
         "name": "Paraguay",
         "orientation": "v",
         "showlegend": true,
         "type": "scatter",
         "x": [
          26.5
         ],
         "xaxis": "x",
         "y": [
          47.4
         ],
         "yaxis": "y"
        },
        {
         "hovertemplate": "Country name=Peru<br>Median age=%{x}<br>Gini coefficient of income=%{y}<extra></extra>",
         "legendgroup": "Peru",
         "marker": {
          "color": "#EF553B",
          "symbol": "circle"
         },
         "mode": "markers",
         "name": "Peru",
         "orientation": "v",
         "showlegend": true,
         "type": "scatter",
         "x": [
          29.1
         ],
         "xaxis": "x",
         "y": [
          43.9
         ],
         "yaxis": "y"
        },
        {
         "hovertemplate": "Country name=Portugal<br>Median age=%{x}<br>Gini coefficient of income=%{y}<extra></extra>",
         "legendgroup": "Portugal",
         "marker": {
          "color": "#00cc96",
          "symbol": "circle"
         },
         "mode": "markers",
         "name": "Portugal",
         "orientation": "v",
         "showlegend": true,
         "type": "scatter",
         "x": [
          46.2
         ],
         "xaxis": "x",
         "y": [
          32.1
         ],
         "yaxis": "y"
        },
        {
         "hovertemplate": "Country name=Qatar<br>Median age=%{x}<br>Gini coefficient of income=%{y}<extra></extra>",
         "legendgroup": "Qatar",
         "marker": {
          "color": "#ab63fa",
          "symbol": "circle"
         },
         "mode": "markers",
         "name": "Qatar",
         "orientation": "v",
         "showlegend": true,
         "type": "scatter",
         "x": [
          31.9
         ],
         "xaxis": "x",
         "y": [
          30.233
         ],
         "yaxis": "y"
        },
        {
         "hovertemplate": "Country name=Serbia<br>Median age=%{x}<br>Gini coefficient of income=%{y}<extra></extra>",
         "legendgroup": "Serbia",
         "marker": {
          "color": "#FFA15A",
          "symbol": "circle"
         },
         "mode": "markers",
         "name": "Serbia",
         "orientation": "v",
         "showlegend": true,
         "type": "scatter",
         "x": [
          41.2
         ],
         "xaxis": "x",
         "y": [
          37.8
         ],
         "yaxis": "y"
        },
        {
         "hovertemplate": "Country name=Slovakia<br>Median age=%{x}<br>Gini coefficient of income=%{y}<extra></extra>",
         "legendgroup": "Slovakia",
         "marker": {
          "color": "#19d3f3",
          "symbol": "circle"
         },
         "mode": "markers",
         "name": "Slovakia",
         "orientation": "v",
         "showlegend": true,
         "type": "scatter",
         "x": [
          41.2
         ],
         "xaxis": "x",
         "y": [
          23.2
         ],
         "yaxis": "y"
        },
        {
         "hovertemplate": "Country name=Slovenia<br>Median age=%{x}<br>Gini coefficient of income=%{y}<extra></extra>",
         "legendgroup": "Slovenia",
         "marker": {
          "color": "#FF6692",
          "symbol": "circle"
         },
         "mode": "markers",
         "name": "Slovenia",
         "orientation": "v",
         "showlegend": true,
         "type": "scatter",
         "x": [
          44.5
         ],
         "xaxis": "x",
         "y": [
          23.4
         ],
         "yaxis": "y"
        },
        {
         "hovertemplate": "Country name=Somalia<br>Median age=%{x}<br>Gini coefficient of income=%{y}<extra></extra>",
         "legendgroup": "Somalia",
         "marker": {
          "color": "#B6E880",
          "symbol": "circle"
         },
         "mode": "markers",
         "name": "Somalia",
         "orientation": "v",
         "showlegend": true,
         "type": "scatter",
         "x": [
          16.8
         ],
         "xaxis": "x",
         "y": [
          39.7
         ],
         "yaxis": "y"
        },
        {
         "hovertemplate": "Country name=Sudan<br>Median age=%{x}<br>Gini coefficient of income=%{y}<extra></extra>",
         "legendgroup": "Sudan",
         "marker": {
          "color": "#FF97FF",
          "symbol": "circle"
         },
         "mode": "markers",
         "name": "Sudan",
         "orientation": "v",
         "showlegend": true,
         "type": "scatter",
         "x": [
          19.7
         ],
         "xaxis": "x",
         "y": [
          45.05
         ],
         "yaxis": "y"
        },
        {
         "hovertemplate": "Country name=Suriname<br>Median age=%{x}<br>Gini coefficient of income=%{y}<extra></extra>",
         "legendgroup": "Suriname",
         "marker": {
          "color": "#FECB52",
          "symbol": "circle"
         },
         "mode": "markers",
         "name": "Suriname",
         "orientation": "v",
         "showlegend": true,
         "type": "scatter",
         "x": [
          29.6
         ],
         "xaxis": "x",
         "y": [
          38.1
         ],
         "yaxis": "y"
        },
        {
         "hovertemplate": "Country name=Eswatini<br>Median age=%{x}<br>Gini coefficient of income=%{y}<extra></extra>",
         "legendgroup": "Eswatini",
         "marker": {
          "color": "#636efa",
          "symbol": "circle"
         },
         "mode": "markers",
         "name": "Eswatini",
         "orientation": "v",
         "showlegend": true,
         "type": "scatter",
         "x": [
          21.5
         ],
         "xaxis": "x",
         "y": [
          51.45
         ],
         "yaxis": "y"
        },
        {
         "hovertemplate": "Country name=Switzerland<br>Median age=%{x}<br>Gini coefficient of income=%{y}<extra></extra>",
         "legendgroup": "Switzerland",
         "marker": {
          "color": "#EF553B",
          "symbol": "circle"
         },
         "mode": "markers",
         "name": "Switzerland",
         "orientation": "v",
         "showlegend": true,
         "type": "scatter",
         "x": [
          43.1
         ],
         "xaxis": "x",
         "y": [
          30.1
         ],
         "yaxis": "y"
        },
        {
         "hovertemplate": "Country name=Tajikistan<br>Median age=%{x}<br>Gini coefficient of income=%{y}<extra></extra>",
         "legendgroup": "Tajikistan",
         "marker": {
          "color": "#00cc96",
          "symbol": "circle"
         },
         "mode": "markers",
         "name": "Tajikistan",
         "orientation": "v",
         "showlegend": true,
         "type": "scatter",
         "x": [
          23.3
         ],
         "xaxis": "x",
         "y": [
          34
         ],
         "yaxis": "y"
        },
        {
         "hovertemplate": "Country name=Gambia<br>Median age=%{x}<br>Gini coefficient of income=%{y}<extra></extra>",
         "legendgroup": "Gambia",
         "marker": {
          "color": "#ab63fa",
          "symbol": "circle"
         },
         "mode": "markers",
         "name": "Gambia",
         "orientation": "v",
         "showlegend": true,
         "type": "scatter",
         "x": [
          17.5
         ],
         "xaxis": "x",
         "y": [
          35.92
         ],
         "yaxis": "y"
        },
        {
         "hovertemplate": "Country name=Togo<br>Median age=%{x}<br>Gini coefficient of income=%{y}<extra></extra>",
         "legendgroup": "Togo",
         "marker": {
          "color": "#FFA15A",
          "symbol": "circle"
         },
         "mode": "markers",
         "name": "Togo",
         "orientation": "v",
         "showlegend": true,
         "type": "scatter",
         "x": [
          19.4
         ],
         "xaxis": "x",
         "y": [
          43.06
         ],
         "yaxis": "y"
        },
        {
         "hovertemplate": "Country name=Trinidad and Tobago<br>Median age=%{x}<br>Gini coefficient of income=%{y}<extra></extra>",
         "legendgroup": "Trinidad and Tobago",
         "marker": {
          "color": "#19d3f3",
          "symbol": "circle"
         },
         "mode": "markers",
         "name": "Trinidad and Tobago",
         "orientation": "v",
         "showlegend": true,
         "type": "scatter",
         "x": [
          36.2
         ],
         "xaxis": "x",
         "y": [
          47.243
         ],
         "yaxis": "y"
        },
        {
         "hovertemplate": "Country name=Tunisia<br>Median age=%{x}<br>Gini coefficient of income=%{y}<extra></extra>",
         "legendgroup": "Tunisia",
         "marker": {
          "color": "#FF6692",
          "symbol": "circle"
         },
         "mode": "markers",
         "name": "Tunisia",
         "orientation": "v",
         "showlegend": true,
         "type": "scatter",
         "x": [
          32.7
         ],
         "xaxis": "x",
         "y": [
          32.82
         ],
         "yaxis": "y"
        },
        {
         "hovertemplate": "Country name=United Arab Emirates<br>Median age=%{x}<br>Gini coefficient of income=%{y}<extra></extra>",
         "legendgroup": "United Arab Emirates",
         "marker": {
          "color": "#B6E880",
          "symbol": "circle"
         },
         "mode": "markers",
         "name": "United Arab Emirates",
         "orientation": "v",
         "showlegend": true,
         "type": "scatter",
         "x": [
          34
         ],
         "xaxis": "x",
         "y": [
          38.3
         ],
         "yaxis": "y"
        },
        {
         "hovertemplate": "Country name=Uruguay<br>Median age=%{x}<br>Gini coefficient of income=%{y}<extra></extra>",
         "legendgroup": "Uruguay",
         "marker": {
          "color": "#FF97FF",
          "symbol": "circle"
         },
         "mode": "markers",
         "name": "Uruguay",
         "orientation": "v",
         "showlegend": true,
         "type": "scatter",
         "x": [
          35.6
         ],
         "xaxis": "x",
         "y": [
          39.25
         ],
         "yaxis": "y"
        },
        {
         "hovertemplate": "Country name=Uzbekistan<br>Median age=%{x}<br>Gini coefficient of income=%{y}<extra></extra>",
         "legendgroup": "Uzbekistan",
         "marker": {
          "color": "#FECB52",
          "symbol": "circle"
         },
         "mode": "markers",
         "name": "Uzbekistan",
         "orientation": "v",
         "showlegend": true,
         "type": "scatter",
         "x": [
          28.2
         ],
         "xaxis": "x",
         "y": [
          39.7
         ],
         "yaxis": "y"
        },
        {
         "hovertemplate": "Country name=Yemen<br>Median age=%{x}<br>Gini coefficient of income=%{y}<extra></extra>",
         "legendgroup": "Yemen",
         "marker": {
          "color": "#636efa",
          "symbol": "circle"
         },
         "mode": "markers",
         "name": "Yemen",
         "orientation": "v",
         "showlegend": true,
         "type": "scatter",
         "x": [
          20.3
         ],
         "xaxis": "x",
         "y": [
          36.71
         ],
         "yaxis": "y"
        },
        {
         "hovertemplate": "Country name=Kosovo<br>Median age=%{x}<br>Gini coefficient of income=%{y}<extra></extra>",
         "legendgroup": "Kosovo",
         "marker": {
          "color": "#EF553B",
          "symbol": "circle"
         },
         "mode": "markers",
         "name": "Kosovo",
         "orientation": "v",
         "showlegend": true,
         "type": "scatter",
         "x": [
          35
         ],
         "xaxis": "x",
         "y": [
          29.01
         ],
         "yaxis": "y"
        },
        {
         "hovertemplate": "Country name=South Sudan<br>Median age=%{x}<br>Gini coefficient of income=%{y}<extra></extra>",
         "legendgroup": "South Sudan",
         "marker": {
          "color": "#00cc96",
          "symbol": "circle"
         },
         "mode": "markers",
         "name": "South Sudan",
         "orientation": "v",
         "showlegend": true,
         "type": "scatter",
         "x": [
          19.2
         ],
         "xaxis": "x",
         "y": [
          46.34
         ],
         "yaxis": "y"
        },
        {
         "hovertemplate": "<b>OLS trendline</b><br>Gini coefficient of income = -0.405127 * Median age + 50.3806<br>R<sup>2</sup>=0.208626<br><br>Median age=%{x}<br>Gini coefficient of income=%{y} <b>(trend)</b><extra></extra>",
         "legendgroup": "Overall Trendline",
         "line": {
          "color": "black"
         },
         "mode": "lines",
         "name": "Overall Trendline",
         "showlegend": true,
         "type": "scatter",
         "x": [
          15.1,
          16.4,
          16.4,
          16.7,
          16.8,
          16.8,
          17,
          17.5,
          17.5,
          17.6,
          17.7,
          17.7,
          17.7,
          18.1,
          18.1,
          18.3,
          18.6,
          18.7,
          18.7,
          18.8,
          18.8,
          19,
          19,
          19.1,
          19.2,
          19.2,
          19.4,
          19.6,
          19.6,
          19.7,
          19.8,
          20,
          20,
          20.3,
          20.3,
          20.3,
          20.4,
          20.4,
          21.1,
          21.5,
          21.7,
          22,
          22.9,
          23.1,
          23.2,
          23.3,
          23.5,
          24,
          24.3,
          24.4,
          24.9,
          25,
          25,
          25.2,
          25.3,
          25.4,
          25.4,
          25.6,
          25.8,
          26.3,
          26.3,
          26.5,
          27.3,
          27.3,
          27.5,
          27.6,
          27.6,
          28.1,
          28.2,
          28.2,
          28.6,
          28.6,
          29,
          29,
          29.1,
          29.1,
          29.1,
          29.3,
          29.3,
          29.6,
          29.6,
          29.7,
          29.9,
          30.6,
          30.6,
          30.6,
          30.7,
          31.1,
          31.4,
          31.6,
          31.9,
          31.9,
          31.9,
          32.2,
          32.4,
          32.4,
          32.4,
          32.6,
          32.7,
          33.5,
          33.6,
          33.7,
          34,
          34.1,
          35,
          35.4,
          35.6,
          35.7,
          36.2,
          37.3,
          37.3,
          37.4,
          37.6,
          37.9,
          37.9,
          38,
          38.3,
          38.7,
          38.7,
          38.7,
          39.1,
          39.1,
          39.6,
          39.7,
          39.7,
          40.1,
          40.3,
          40.8,
          41,
          41.2,
          41.2,
          41.4,
          41.4,
          41.8,
          41.8,
          42,
          42.2,
          42.3,
          42.4,
          42.4,
          42.5,
          42.7,
          42.8,
          43,
          43.1,
          43.1,
          43.2,
          43.3,
          43.4,
          43.4,
          43.5,
          43.9,
          44,
          44.4,
          44.5,
          44.7,
          44.8,
          45.3,
          45.5,
          46.2,
          46.6,
          47.9,
          48.2
         ],
         "xaxis": "x",
         "y": [
          44.26316416122871,
          43.73649906339054,
          43.73649906339054,
          43.61496096388942,
          43.57444826405572,
          43.57444826405572,
          43.49342286438831,
          43.29085936521978,
          43.29085936521978,
          43.250346665386076,
          43.20983396555237,
          43.20983396555237,
          43.20983396555237,
          43.04778316621755,
          43.04778316621755,
          42.96675776655014,
          42.84521966704902,
          42.80470696721532,
          42.80470696721532,
          42.76419426738161,
          42.76419426738161,
          42.6831688677142,
          42.6831688677142,
          42.642656167880496,
          42.60214346804679,
          42.60214346804679,
          42.52111806837938,
          42.44009266871197,
          42.44009266871197,
          42.399579968878264,
          42.35906726904456,
          42.27804186937715,
          42.27804186937715,
          42.15650376987603,
          42.15650376987603,
          42.15650376987603,
          42.11599107004233,
          42.11599107004233,
          41.83240217120638,
          41.67035137187157,
          41.58932597220416,
          41.46778787270304,
          41.103173574199694,
          41.022148174532276,
          40.98163547469858,
          40.941122774864866,
          40.86009737519746,
          40.657533876028936,
          40.53599577652781,
          40.495483076694114,
          40.29291957752559,
          40.25240687769188,
          40.25240687769188,
          40.17138147802447,
          40.13086877819076,
          40.09035607835706,
          40.09035607835706,
          40.00933067868965,
          39.92830527902224,
          39.725741779853706,
          39.725741779853706,
          39.644716380186296,
          39.32061478151665,
          39.32061478151665,
          39.23958938184924,
          39.199076682015544,
          39.199076682015544,
          38.99651318284701,
          38.95600048301331,
          38.95600048301331,
          38.79394968367849,
          38.79394968367849,
          38.63189888434367,
          38.63189888434367,
          38.59138618450996,
          38.59138618450996,
          38.59138618450996,
          38.51036078484255,
          38.51036078484255,
          38.38882268534144,
          38.38882268534144,
          38.348309985507726,
          38.267284585840315,
          37.983695687004385,
          37.983695687004385,
          37.983695687004385,
          37.94318298717067,
          37.78113218783585,
          37.65959408833474,
          37.57856868866733,
          37.45703058916621,
          37.45703058916621,
          37.45703058916621,
          37.33549248966509,
          37.25446708999769,
          37.25446708999769,
          37.25446708999769,
          37.17344169033028,
          37.132928990496566,
          36.808827391826924,
          36.768314691993226,
          36.72780199215951,
          36.606263892658404,
          36.56575119282469,
          36.20113689432135,
          36.03908609498653,
          35.95806069531911,
          35.91754799548541,
          35.71498449631688,
          35.26934479814612,
          35.26934479814612,
          35.228832098312424,
          35.147806698645006,
          35.02626859914389,
          35.02626859914389,
          34.98575589931019,
          34.86421779980907,
          34.70216700047425,
          34.70216700047425,
          34.70216700047425,
          34.540116201139426,
          34.540116201139426,
          34.33755270197091,
          34.297040002137194,
          34.297040002137194,
          34.13498920280237,
          34.05396380313496,
          33.85140030396644,
          33.77037490429903,
          33.689349504631615,
          33.689349504631615,
          33.60832410496421,
          33.60832410496421,
          33.44627330562939,
          33.44627330562939,
          33.36524790596198,
          33.28422250629456,
          33.243709806460856,
          33.20319710662716,
          33.20319710662716,
          33.162684406793446,
          33.081659007126035,
          33.04114630729234,
          32.960120907624926,
          32.919608207791214,
          32.919608207791214,
          32.87909550795751,
          32.8385828081238,
          32.798070108290105,
          32.798070108290105,
          32.75755740845639,
          32.59550660912157,
          32.55499390928787,
          32.39294310995305,
          32.35243041011934,
          32.27140501045193,
          32.23089231061823,
          32.0283288114497,
          31.94730341178229,
          31.66371451294635,
          31.501663713611528,
          30.974998615773362,
          30.853460516272243
         ],
         "yaxis": "y"
        }
       ],
       "layout": {
        "legend": {
         "title": {
          "text": "Country name"
         },
         "tracegroupgap": 0
        },
        "margin": {
         "t": 60
        },
        "template": {
         "data": {
          "bar": [
           {
            "error_x": {
             "color": "#2a3f5f"
            },
            "error_y": {
             "color": "#2a3f5f"
            },
            "marker": {
             "line": {
              "color": "#E5ECF6",
              "width": 0.5
             },
             "pattern": {
              "fillmode": "overlay",
              "size": 10,
              "solidity": 0.2
             }
            },
            "type": "bar"
           }
          ],
          "barpolar": [
           {
            "marker": {
             "line": {
              "color": "#E5ECF6",
              "width": 0.5
             },
             "pattern": {
              "fillmode": "overlay",
              "size": 10,
              "solidity": 0.2
             }
            },
            "type": "barpolar"
           }
          ],
          "carpet": [
           {
            "aaxis": {
             "endlinecolor": "#2a3f5f",
             "gridcolor": "white",
             "linecolor": "white",
             "minorgridcolor": "white",
             "startlinecolor": "#2a3f5f"
            },
            "baxis": {
             "endlinecolor": "#2a3f5f",
             "gridcolor": "white",
             "linecolor": "white",
             "minorgridcolor": "white",
             "startlinecolor": "#2a3f5f"
            },
            "type": "carpet"
           }
          ],
          "choropleth": [
           {
            "colorbar": {
             "outlinewidth": 0,
             "ticks": ""
            },
            "type": "choropleth"
           }
          ],
          "contour": [
           {
            "colorbar": {
             "outlinewidth": 0,
             "ticks": ""
            },
            "colorscale": [
             [
              0,
              "#0d0887"
             ],
             [
              0.1111111111111111,
              "#46039f"
             ],
             [
              0.2222222222222222,
              "#7201a8"
             ],
             [
              0.3333333333333333,
              "#9c179e"
             ],
             [
              0.4444444444444444,
              "#bd3786"
             ],
             [
              0.5555555555555556,
              "#d8576b"
             ],
             [
              0.6666666666666666,
              "#ed7953"
             ],
             [
              0.7777777777777778,
              "#fb9f3a"
             ],
             [
              0.8888888888888888,
              "#fdca26"
             ],
             [
              1,
              "#f0f921"
             ]
            ],
            "type": "contour"
           }
          ],
          "contourcarpet": [
           {
            "colorbar": {
             "outlinewidth": 0,
             "ticks": ""
            },
            "type": "contourcarpet"
           }
          ],
          "heatmap": [
           {
            "colorbar": {
             "outlinewidth": 0,
             "ticks": ""
            },
            "colorscale": [
             [
              0,
              "#0d0887"
             ],
             [
              0.1111111111111111,
              "#46039f"
             ],
             [
              0.2222222222222222,
              "#7201a8"
             ],
             [
              0.3333333333333333,
              "#9c179e"
             ],
             [
              0.4444444444444444,
              "#bd3786"
             ],
             [
              0.5555555555555556,
              "#d8576b"
             ],
             [
              0.6666666666666666,
              "#ed7953"
             ],
             [
              0.7777777777777778,
              "#fb9f3a"
             ],
             [
              0.8888888888888888,
              "#fdca26"
             ],
             [
              1,
              "#f0f921"
             ]
            ],
            "type": "heatmap"
           }
          ],
          "heatmapgl": [
           {
            "colorbar": {
             "outlinewidth": 0,
             "ticks": ""
            },
            "colorscale": [
             [
              0,
              "#0d0887"
             ],
             [
              0.1111111111111111,
              "#46039f"
             ],
             [
              0.2222222222222222,
              "#7201a8"
             ],
             [
              0.3333333333333333,
              "#9c179e"
             ],
             [
              0.4444444444444444,
              "#bd3786"
             ],
             [
              0.5555555555555556,
              "#d8576b"
             ],
             [
              0.6666666666666666,
              "#ed7953"
             ],
             [
              0.7777777777777778,
              "#fb9f3a"
             ],
             [
              0.8888888888888888,
              "#fdca26"
             ],
             [
              1,
              "#f0f921"
             ]
            ],
            "type": "heatmapgl"
           }
          ],
          "histogram": [
           {
            "marker": {
             "pattern": {
              "fillmode": "overlay",
              "size": 10,
              "solidity": 0.2
             }
            },
            "type": "histogram"
           }
          ],
          "histogram2d": [
           {
            "colorbar": {
             "outlinewidth": 0,
             "ticks": ""
            },
            "colorscale": [
             [
              0,
              "#0d0887"
             ],
             [
              0.1111111111111111,
              "#46039f"
             ],
             [
              0.2222222222222222,
              "#7201a8"
             ],
             [
              0.3333333333333333,
              "#9c179e"
             ],
             [
              0.4444444444444444,
              "#bd3786"
             ],
             [
              0.5555555555555556,
              "#d8576b"
             ],
             [
              0.6666666666666666,
              "#ed7953"
             ],
             [
              0.7777777777777778,
              "#fb9f3a"
             ],
             [
              0.8888888888888888,
              "#fdca26"
             ],
             [
              1,
              "#f0f921"
             ]
            ],
            "type": "histogram2d"
           }
          ],
          "histogram2dcontour": [
           {
            "colorbar": {
             "outlinewidth": 0,
             "ticks": ""
            },
            "colorscale": [
             [
              0,
              "#0d0887"
             ],
             [
              0.1111111111111111,
              "#46039f"
             ],
             [
              0.2222222222222222,
              "#7201a8"
             ],
             [
              0.3333333333333333,
              "#9c179e"
             ],
             [
              0.4444444444444444,
              "#bd3786"
             ],
             [
              0.5555555555555556,
              "#d8576b"
             ],
             [
              0.6666666666666666,
              "#ed7953"
             ],
             [
              0.7777777777777778,
              "#fb9f3a"
             ],
             [
              0.8888888888888888,
              "#fdca26"
             ],
             [
              1,
              "#f0f921"
             ]
            ],
            "type": "histogram2dcontour"
           }
          ],
          "mesh3d": [
           {
            "colorbar": {
             "outlinewidth": 0,
             "ticks": ""
            },
            "type": "mesh3d"
           }
          ],
          "parcoords": [
           {
            "line": {
             "colorbar": {
              "outlinewidth": 0,
              "ticks": ""
             }
            },
            "type": "parcoords"
           }
          ],
          "pie": [
           {
            "automargin": true,
            "type": "pie"
           }
          ],
          "scatter": [
           {
            "marker": {
             "colorbar": {
              "outlinewidth": 0,
              "ticks": ""
             }
            },
            "type": "scatter"
           }
          ],
          "scatter3d": [
           {
            "line": {
             "colorbar": {
              "outlinewidth": 0,
              "ticks": ""
             }
            },
            "marker": {
             "colorbar": {
              "outlinewidth": 0,
              "ticks": ""
             }
            },
            "type": "scatter3d"
           }
          ],
          "scattercarpet": [
           {
            "marker": {
             "colorbar": {
              "outlinewidth": 0,
              "ticks": ""
             }
            },
            "type": "scattercarpet"
           }
          ],
          "scattergeo": [
           {
            "marker": {
             "colorbar": {
              "outlinewidth": 0,
              "ticks": ""
             }
            },
            "type": "scattergeo"
           }
          ],
          "scattergl": [
           {
            "marker": {
             "colorbar": {
              "outlinewidth": 0,
              "ticks": ""
             }
            },
            "type": "scattergl"
           }
          ],
          "scattermapbox": [
           {
            "marker": {
             "colorbar": {
              "outlinewidth": 0,
              "ticks": ""
             }
            },
            "type": "scattermapbox"
           }
          ],
          "scatterpolar": [
           {
            "marker": {
             "colorbar": {
              "outlinewidth": 0,
              "ticks": ""
             }
            },
            "type": "scatterpolar"
           }
          ],
          "scatterpolargl": [
           {
            "marker": {
             "colorbar": {
              "outlinewidth": 0,
              "ticks": ""
             }
            },
            "type": "scatterpolargl"
           }
          ],
          "scatterternary": [
           {
            "marker": {
             "colorbar": {
              "outlinewidth": 0,
              "ticks": ""
             }
            },
            "type": "scatterternary"
           }
          ],
          "surface": [
           {
            "colorbar": {
             "outlinewidth": 0,
             "ticks": ""
            },
            "colorscale": [
             [
              0,
              "#0d0887"
             ],
             [
              0.1111111111111111,
              "#46039f"
             ],
             [
              0.2222222222222222,
              "#7201a8"
             ],
             [
              0.3333333333333333,
              "#9c179e"
             ],
             [
              0.4444444444444444,
              "#bd3786"
             ],
             [
              0.5555555555555556,
              "#d8576b"
             ],
             [
              0.6666666666666666,
              "#ed7953"
             ],
             [
              0.7777777777777778,
              "#fb9f3a"
             ],
             [
              0.8888888888888888,
              "#fdca26"
             ],
             [
              1,
              "#f0f921"
             ]
            ],
            "type": "surface"
           }
          ],
          "table": [
           {
            "cells": {
             "fill": {
              "color": "#EBF0F8"
             },
             "line": {
              "color": "white"
             }
            },
            "header": {
             "fill": {
              "color": "#C8D4E3"
             },
             "line": {
              "color": "white"
             }
            },
            "type": "table"
           }
          ]
         },
         "layout": {
          "annotationdefaults": {
           "arrowcolor": "#2a3f5f",
           "arrowhead": 0,
           "arrowwidth": 1
          },
          "autotypenumbers": "strict",
          "coloraxis": {
           "colorbar": {
            "outlinewidth": 0,
            "ticks": ""
           }
          },
          "colorscale": {
           "diverging": [
            [
             0,
             "#8e0152"
            ],
            [
             0.1,
             "#c51b7d"
            ],
            [
             0.2,
             "#de77ae"
            ],
            [
             0.3,
             "#f1b6da"
            ],
            [
             0.4,
             "#fde0ef"
            ],
            [
             0.5,
             "#f7f7f7"
            ],
            [
             0.6,
             "#e6f5d0"
            ],
            [
             0.7,
             "#b8e186"
            ],
            [
             0.8,
             "#7fbc41"
            ],
            [
             0.9,
             "#4d9221"
            ],
            [
             1,
             "#276419"
            ]
           ],
           "sequential": [
            [
             0,
             "#0d0887"
            ],
            [
             0.1111111111111111,
             "#46039f"
            ],
            [
             0.2222222222222222,
             "#7201a8"
            ],
            [
             0.3333333333333333,
             "#9c179e"
            ],
            [
             0.4444444444444444,
             "#bd3786"
            ],
            [
             0.5555555555555556,
             "#d8576b"
            ],
            [
             0.6666666666666666,
             "#ed7953"
            ],
            [
             0.7777777777777778,
             "#fb9f3a"
            ],
            [
             0.8888888888888888,
             "#fdca26"
            ],
            [
             1,
             "#f0f921"
            ]
           ],
           "sequentialminus": [
            [
             0,
             "#0d0887"
            ],
            [
             0.1111111111111111,
             "#46039f"
            ],
            [
             0.2222222222222222,
             "#7201a8"
            ],
            [
             0.3333333333333333,
             "#9c179e"
            ],
            [
             0.4444444444444444,
             "#bd3786"
            ],
            [
             0.5555555555555556,
             "#d8576b"
            ],
            [
             0.6666666666666666,
             "#ed7953"
            ],
            [
             0.7777777777777778,
             "#fb9f3a"
            ],
            [
             0.8888888888888888,
             "#fdca26"
            ],
            [
             1,
             "#f0f921"
            ]
           ]
          },
          "colorway": [
           "#636efa",
           "#EF553B",
           "#00cc96",
           "#ab63fa",
           "#FFA15A",
           "#19d3f3",
           "#FF6692",
           "#B6E880",
           "#FF97FF",
           "#FECB52"
          ],
          "font": {
           "color": "#2a3f5f"
          },
          "geo": {
           "bgcolor": "white",
           "lakecolor": "white",
           "landcolor": "#E5ECF6",
           "showlakes": true,
           "showland": true,
           "subunitcolor": "white"
          },
          "hoverlabel": {
           "align": "left"
          },
          "hovermode": "closest",
          "mapbox": {
           "style": "light"
          },
          "paper_bgcolor": "white",
          "plot_bgcolor": "#E5ECF6",
          "polar": {
           "angularaxis": {
            "gridcolor": "white",
            "linecolor": "white",
            "ticks": ""
           },
           "bgcolor": "#E5ECF6",
           "radialaxis": {
            "gridcolor": "white",
            "linecolor": "white",
            "ticks": ""
           }
          },
          "scene": {
           "xaxis": {
            "backgroundcolor": "#E5ECF6",
            "gridcolor": "white",
            "gridwidth": 2,
            "linecolor": "white",
            "showbackground": true,
            "ticks": "",
            "zerolinecolor": "white"
           },
           "yaxis": {
            "backgroundcolor": "#E5ECF6",
            "gridcolor": "white",
            "gridwidth": 2,
            "linecolor": "white",
            "showbackground": true,
            "ticks": "",
            "zerolinecolor": "white"
           },
           "zaxis": {
            "backgroundcolor": "#E5ECF6",
            "gridcolor": "white",
            "gridwidth": 2,
            "linecolor": "white",
            "showbackground": true,
            "ticks": "",
            "zerolinecolor": "white"
           }
          },
          "shapedefaults": {
           "line": {
            "color": "#2a3f5f"
           }
          },
          "ternary": {
           "aaxis": {
            "gridcolor": "white",
            "linecolor": "white",
            "ticks": ""
           },
           "baxis": {
            "gridcolor": "white",
            "linecolor": "white",
            "ticks": ""
           },
           "bgcolor": "#E5ECF6",
           "caxis": {
            "gridcolor": "white",
            "linecolor": "white",
            "ticks": ""
           }
          },
          "title": {
           "x": 0.05
          },
          "xaxis": {
           "automargin": true,
           "gridcolor": "white",
           "linecolor": "white",
           "ticks": "",
           "title": {
            "standoff": 15
           },
           "zerolinecolor": "white",
           "zerolinewidth": 2
          },
          "yaxis": {
           "automargin": true,
           "gridcolor": "white",
           "linecolor": "white",
           "ticks": "",
           "title": {
            "standoff": 15
           },
           "zerolinecolor": "white",
           "zerolinewidth": 2
          }
         }
        },
        "xaxis": {
         "anchor": "y",
         "domain": [
          0,
          1
         ],
         "title": {
          "text": "Median age"
         }
        },
        "yaxis": {
         "anchor": "x",
         "domain": [
          0,
          1
         ],
         "title": {
          "text": "Gini coefficient of income"
         }
        }
       }
      },
      "text/html": [
       "<div>                            <div id=\"982cf528-518a-486e-804b-c2b75d6facc6\" class=\"plotly-graph-div\" style=\"height:525px; width:100%;\"></div>            <script type=\"text/javascript\">                require([\"plotly\"], function(Plotly) {                    window.PLOTLYENV=window.PLOTLYENV || {};                                    if (document.getElementById(\"982cf528-518a-486e-804b-c2b75d6facc6\")) {                    Plotly.newPlot(                        \"982cf528-518a-486e-804b-c2b75d6facc6\",                        [{\"hovertemplate\":\"Country name=United States<br>Median age=%{x}<br>Gini coefficient of income=%{y}<extra></extra>\",\"legendgroup\":\"United States\",\"marker\":{\"color\":\"#636efa\",\"symbol\":\"circle\"},\"mode\":\"markers\",\"name\":\"United States\",\"orientation\":\"v\",\"showlegend\":true,\"x\":[38.3],\"xaxis\":\"x\",\"y\":[47.51],\"yaxis\":\"y\",\"type\":\"scatter\"},{\"hovertemplate\":\"Country name=Egypt<br>Median age=%{x}<br>Gini coefficient of income=%{y}<extra></extra>\",\"legendgroup\":\"Egypt\",\"marker\":{\"color\":\"#EF553B\",\"symbol\":\"circle\"},\"mode\":\"markers\",\"name\":\"Egypt\",\"orientation\":\"v\",\"showlegend\":true,\"x\":[25.3],\"xaxis\":\"x\",\"y\":[31.56],\"yaxis\":\"y\",\"type\":\"scatter\"},{\"hovertemplate\":\"Country name=Morocco<br>Median age=%{x}<br>Gini coefficient of income=%{y}<extra></extra>\",\"legendgroup\":\"Morocco\",\"marker\":{\"color\":\"#00cc96\",\"symbol\":\"circle\"},\"mode\":\"markers\",\"name\":\"Morocco\",\"orientation\":\"v\",\"showlegend\":true,\"x\":[29.6],\"xaxis\":\"x\",\"y\":[39.55],\"yaxis\":\"y\",\"type\":\"scatter\"},{\"hovertemplate\":\"Country name=Lebanon<br>Median age=%{x}<br>Gini coefficient of income=%{y}<extra></extra>\",\"legendgroup\":\"Lebanon\",\"marker\":{\"color\":\"#ab63fa\",\"symbol\":\"circle\"},\"mode\":\"markers\",\"name\":\"Lebanon\",\"orientation\":\"v\",\"showlegend\":true,\"x\":[31.1],\"xaxis\":\"x\",\"y\":[31.83],\"yaxis\":\"y\",\"type\":\"scatter\"},{\"hovertemplate\":\"Country name=Saudi Arabia<br>Median age=%{x}<br>Gini coefficient of income=%{y}<extra></extra>\",\"legendgroup\":\"Saudi Arabia\",\"marker\":{\"color\":\"#FFA15A\",\"symbol\":\"circle\"},\"mode\":\"markers\",\"name\":\"Saudi Arabia\",\"orientation\":\"v\",\"showlegend\":true,\"x\":[31.9],\"xaxis\":\"x\",\"y\":[45.9],\"yaxis\":\"y\",\"type\":\"scatter\"},{\"hovertemplate\":\"Country name=Jordan<br>Median age=%{x}<br>Gini coefficient of income=%{y}<extra></extra>\",\"legendgroup\":\"Jordan\",\"marker\":{\"color\":\"#19d3f3\",\"symbol\":\"circle\"},\"mode\":\"markers\",\"name\":\"Jordan\",\"orientation\":\"v\",\"showlegend\":true,\"x\":[23.2],\"xaxis\":\"x\",\"y\":[33.1],\"yaxis\":\"y\",\"type\":\"scatter\"},{\"hovertemplate\":\"Country name=Syria<br>Median age=%{x}<br>Gini coefficient of income=%{y}<extra></extra>\",\"legendgroup\":\"Syria\",\"marker\":{\"color\":\"#FF6692\",\"symbol\":\"circle\"},\"mode\":\"markers\",\"name\":\"Syria\",\"orientation\":\"v\",\"showlegend\":true,\"x\":[21.7],\"xaxis\":\"x\",\"y\":[34.2],\"yaxis\":\"y\",\"type\":\"scatter\"},{\"hovertemplate\":\"Country name=Turkey<br>Median age=%{x}<br>Gini coefficient of income=%{y}<extra></extra>\",\"legendgroup\":\"Turkey\",\"marker\":{\"color\":\"#B6E880\",\"symbol\":\"circle\"},\"mode\":\"markers\",\"name\":\"Turkey\",\"orientation\":\"v\",\"showlegend\":true,\"x\":[31.6],\"xaxis\":\"x\",\"y\":[40.55],\"yaxis\":\"y\",\"type\":\"scatter\"},{\"hovertemplate\":\"Country name=Pakistan<br>Median age=%{x}<br>Gini coefficient of income=%{y}<extra></extra>\",\"legendgroup\":\"Pakistan\",\"marker\":{\"color\":\"#FF97FF\",\"symbol\":\"circle\"},\"mode\":\"markers\",\"name\":\"Pakistan\",\"orientation\":\"v\",\"showlegend\":true,\"x\":[23.5],\"xaxis\":\"x\",\"y\":[33.45],\"yaxis\":\"y\",\"type\":\"scatter\"},{\"hovertemplate\":\"Country name=Indonesia<br>Median age=%{x}<br>Gini coefficient of income=%{y}<extra></extra>\",\"legendgroup\":\"Indonesia\",\"marker\":{\"color\":\"#FECB52\",\"symbol\":\"circle\"},\"mode\":\"markers\",\"name\":\"Indonesia\",\"orientation\":\"v\",\"showlegend\":true,\"x\":[29.3],\"xaxis\":\"x\",\"y\":[37.478],\"yaxis\":\"y\",\"type\":\"scatter\"},{\"hovertemplate\":\"Country name=Bangladesh<br>Median age=%{x}<br>Gini coefficient of income=%{y}<extra></extra>\",\"legendgroup\":\"Bangladesh\",\"marker\":{\"color\":\"#636efa\",\"symbol\":\"circle\"},\"mode\":\"markers\",\"name\":\"Bangladesh\",\"orientation\":\"v\",\"showlegend\":true,\"x\":[27.5],\"xaxis\":\"x\",\"y\":[43.973],\"yaxis\":\"y\",\"type\":\"scatter\"},{\"hovertemplate\":\"Country name=United Kingdom<br>Median age=%{x}<br>Gini coefficient of income=%{y}<extra></extra>\",\"legendgroup\":\"United Kingdom\",\"marker\":{\"color\":\"#EF553B\",\"symbol\":\"circle\"},\"mode\":\"markers\",\"name\":\"United Kingdom\",\"orientation\":\"v\",\"showlegend\":true,\"x\":[40.8],\"xaxis\":\"x\",\"y\":[34.07],\"yaxis\":\"y\",\"type\":\"scatter\"},{\"hovertemplate\":\"Country name=France<br>Median age=%{x}<br>Gini coefficient of income=%{y}<extra></extra>\",\"legendgroup\":\"France\",\"marker\":{\"color\":\"#00cc96\",\"symbol\":\"circle\"},\"mode\":\"markers\",\"name\":\"France\",\"orientation\":\"v\",\"showlegend\":true,\"x\":[42.0],\"xaxis\":\"x\",\"y\":[29.3],\"yaxis\":\"y\",\"type\":\"scatter\"},{\"hovertemplate\":\"Country name=Germany<br>Median age=%{x}<br>Gini coefficient of income=%{y}<extra></extra>\",\"legendgroup\":\"Germany\",\"marker\":{\"color\":\"#ab63fa\",\"symbol\":\"circle\"},\"mode\":\"markers\",\"name\":\"Germany\",\"orientation\":\"v\",\"showlegend\":true,\"x\":[46.6],\"xaxis\":\"x\",\"y\":[31.1],\"yaxis\":\"y\",\"type\":\"scatter\"},{\"hovertemplate\":\"Country name=Netherlands<br>Median age=%{x}<br>Gini coefficient of income=%{y}<extra></extra>\",\"legendgroup\":\"Netherlands\",\"marker\":{\"color\":\"#FFA15A\",\"symbol\":\"circle\"},\"mode\":\"markers\",\"name\":\"Netherlands\",\"orientation\":\"v\",\"showlegend\":true,\"x\":[43.2],\"xaxis\":\"x\",\"y\":[27.0],\"yaxis\":\"y\",\"type\":\"scatter\"},{\"hovertemplate\":\"Country name=Belgium<br>Median age=%{x}<br>Gini coefficient of income=%{y}<extra></extra>\",\"legendgroup\":\"Belgium\",\"marker\":{\"color\":\"#19d3f3\",\"symbol\":\"circle\"},\"mode\":\"markers\",\"name\":\"Belgium\",\"orientation\":\"v\",\"showlegend\":true,\"x\":[41.8],\"xaxis\":\"x\",\"y\":[25.6],\"yaxis\":\"y\",\"type\":\"scatter\"},{\"hovertemplate\":\"Country name=Spain<br>Median age=%{x}<br>Gini coefficient of income=%{y}<extra></extra>\",\"legendgroup\":\"Spain\",\"marker\":{\"color\":\"#FF6692\",\"symbol\":\"circle\"},\"mode\":\"markers\",\"name\":\"Spain\",\"orientation\":\"v\",\"showlegend\":true,\"x\":[45.5],\"xaxis\":\"x\",\"y\":[33.2],\"yaxis\":\"y\",\"type\":\"scatter\"},{\"hovertemplate\":\"Country name=Italy<br>Median age=%{x}<br>Gini coefficient of income=%{y}<extra></extra>\",\"legendgroup\":\"Italy\",\"marker\":{\"color\":\"#B6E880\",\"symbol\":\"circle\"},\"mode\":\"markers\",\"name\":\"Italy\",\"orientation\":\"v\",\"showlegend\":true,\"x\":[47.9],\"xaxis\":\"x\",\"y\":[33.4],\"yaxis\":\"y\",\"type\":\"scatter\"},{\"hovertemplate\":\"Country name=Poland<br>Median age=%{x}<br>Gini coefficient of income=%{y}<extra></extra>\",\"legendgroup\":\"Poland\",\"marker\":{\"color\":\"#FF97FF\",\"symbol\":\"circle\"},\"mode\":\"markers\",\"name\":\"Poland\",\"orientation\":\"v\",\"showlegend\":true,\"x\":[41.8],\"xaxis\":\"x\",\"y\":[27.8],\"yaxis\":\"y\",\"type\":\"scatter\"},{\"hovertemplate\":\"Country name=Hungary<br>Median age=%{x}<br>Gini coefficient of income=%{y}<extra></extra>\",\"legendgroup\":\"Hungary\",\"marker\":{\"color\":\"#FECB52\",\"symbol\":\"circle\"},\"mode\":\"markers\",\"name\":\"Hungary\",\"orientation\":\"v\",\"showlegend\":true,\"x\":[43.4],\"xaxis\":\"x\",\"y\":[28.7],\"yaxis\":\"y\",\"type\":\"scatter\"},{\"hovertemplate\":\"Country name=Czech Republic<br>Median age=%{x}<br>Gini coefficient of income=%{y}<extra></extra>\",\"legendgroup\":\"Czech Republic\",\"marker\":{\"color\":\"#636efa\",\"symbol\":\"circle\"},\"mode\":\"markers\",\"name\":\"Czech Republic\",\"orientation\":\"v\",\"showlegend\":true,\"x\":[43.3],\"xaxis\":\"x\",\"y\":[24.0],\"yaxis\":\"y\",\"type\":\"scatter\"},{\"hovertemplate\":\"Country name=Romania<br>Median age=%{x}<br>Gini coefficient of income=%{y}<extra></extra>\",\"legendgroup\":\"Romania\",\"marker\":{\"color\":\"#EF553B\",\"symbol\":\"circle\"},\"mode\":\"markers\",\"name\":\"Romania\",\"orientation\":\"v\",\"showlegend\":true,\"x\":[43.0],\"xaxis\":\"x\",\"y\":[35.1],\"yaxis\":\"y\",\"type\":\"scatter\"},{\"hovertemplate\":\"Country name=Sweden<br>Median age=%{x}<br>Gini coefficient of income=%{y}<extra></extra>\",\"legendgroup\":\"Sweden\",\"marker\":{\"color\":\"#00cc96\",\"symbol\":\"circle\"},\"mode\":\"markers\",\"name\":\"Sweden\",\"orientation\":\"v\",\"showlegend\":true,\"x\":[41.0],\"xaxis\":\"x\",\"y\":[27.0],\"yaxis\":\"y\",\"type\":\"scatter\"},{\"hovertemplate\":\"Country name=Greece<br>Median age=%{x}<br>Gini coefficient of income=%{y}<extra></extra>\",\"legendgroup\":\"Greece\",\"marker\":{\"color\":\"#ab63fa\",\"symbol\":\"circle\"},\"mode\":\"markers\",\"name\":\"Greece\",\"orientation\":\"v\",\"showlegend\":true,\"x\":[45.3],\"xaxis\":\"x\",\"y\":[32.3],\"yaxis\":\"y\",\"type\":\"scatter\"},{\"hovertemplate\":\"Country name=Denmark<br>Median age=%{x}<br>Gini coefficient of income=%{y}<extra></extra>\",\"legendgroup\":\"Denmark\",\"marker\":{\"color\":\"#FFA15A\",\"symbol\":\"circle\"},\"mode\":\"markers\",\"name\":\"Denmark\",\"orientation\":\"v\",\"showlegend\":true,\"x\":[42.3],\"xaxis\":\"x\",\"y\":[27.8],\"yaxis\":\"y\",\"type\":\"scatter\"},{\"hovertemplate\":\"Country name=Iran<br>Median age=%{x}<br>Gini coefficient of income=%{y}<extra></extra>\",\"legendgroup\":\"Iran\",\"marker\":{\"color\":\"#19d3f3\",\"symbol\":\"circle\"},\"mode\":\"markers\",\"name\":\"Iran\",\"orientation\":\"v\",\"showlegend\":true,\"x\":[32.4],\"xaxis\":\"x\",\"y\":[39.97],\"yaxis\":\"y\",\"type\":\"scatter\"},{\"hovertemplate\":\"Country name=Hong Kong S.A.R. of China<br>Median age=%{x}<br>Gini coefficient of income=%{y}<extra></extra>\",\"legendgroup\":\"Hong Kong S.A.R. of China\",\"marker\":{\"color\":\"#FF6692\",\"symbol\":\"circle\"},\"mode\":\"markers\",\"name\":\"Hong Kong S.A.R. of China\",\"orientation\":\"v\",\"showlegend\":true,\"x\":[44.8],\"xaxis\":\"x\",\"y\":[48.275],\"yaxis\":\"y\",\"type\":\"scatter\"},{\"hovertemplate\":\"Country name=Singapore<br>Median age=%{x}<br>Gini coefficient of income=%{y}<extra></extra>\",\"legendgroup\":\"Singapore\",\"marker\":{\"color\":\"#B6E880\",\"symbol\":\"circle\"},\"mode\":\"markers\",\"name\":\"Singapore\",\"orientation\":\"v\",\"showlegend\":true,\"x\":[42.4],\"xaxis\":\"x\",\"y\":[45.2],\"yaxis\":\"y\",\"type\":\"scatter\"},{\"hovertemplate\":\"Country name=Japan<br>Median age=%{x}<br>Gini coefficient of income=%{y}<extra></extra>\",\"legendgroup\":\"Japan\",\"marker\":{\"color\":\"#FF97FF\",\"symbol\":\"circle\"},\"mode\":\"markers\",\"name\":\"Japan\",\"orientation\":\"v\",\"showlegend\":true,\"x\":[48.2],\"xaxis\":\"x\",\"y\":[33.9],\"yaxis\":\"y\",\"type\":\"scatter\"},{\"hovertemplate\":\"Country name=China<br>Median age=%{x}<br>Gini coefficient of income=%{y}<extra></extra>\",\"legendgroup\":\"China\",\"marker\":{\"color\":\"#FECB52\",\"symbol\":\"circle\"},\"mode\":\"markers\",\"name\":\"China\",\"orientation\":\"v\",\"showlegend\":true,\"x\":[38.7],\"xaxis\":\"x\",\"y\":[46.7],\"yaxis\":\"y\",\"type\":\"scatter\"},{\"hovertemplate\":\"Country name=India<br>Median age=%{x}<br>Gini coefficient of income=%{y}<extra></extra>\",\"legendgroup\":\"India\",\"marker\":{\"color\":\"#636efa\",\"symbol\":\"circle\"},\"mode\":\"markers\",\"name\":\"India\",\"orientation\":\"v\",\"showlegend\":true,\"x\":[28.2],\"xaxis\":\"x\",\"y\":[39.334],\"yaxis\":\"y\",\"type\":\"scatter\"},{\"hovertemplate\":\"Country name=Venezuela<br>Median age=%{x}<br>Gini coefficient of income=%{y}<extra></extra>\",\"legendgroup\":\"Venezuela\",\"marker\":{\"color\":\"#EF553B\",\"symbol\":\"circle\"},\"mode\":\"markers\",\"name\":\"Venezuela\",\"orientation\":\"v\",\"showlegend\":true,\"x\":[29.0],\"xaxis\":\"x\",\"y\":[37.8],\"yaxis\":\"y\",\"type\":\"scatter\"},{\"hovertemplate\":\"Country name=Brazil<br>Median age=%{x}<br>Gini coefficient of income=%{y}<extra></extra>\",\"legendgroup\":\"Brazil\",\"marker\":{\"color\":\"#00cc96\",\"symbol\":\"circle\"},\"mode\":\"markers\",\"name\":\"Brazil\",\"orientation\":\"v\",\"showlegend\":true,\"x\":[33.5],\"xaxis\":\"x\",\"y\":[54.0],\"yaxis\":\"y\",\"type\":\"scatter\"},{\"hovertemplate\":\"Country name=Mexico<br>Median age=%{x}<br>Gini coefficient of income=%{y}<extra></extra>\",\"legendgroup\":\"Mexico\",\"marker\":{\"color\":\"#ab63fa\",\"symbol\":\"circle\"},\"mode\":\"markers\",\"name\":\"Mexico\",\"orientation\":\"v\",\"showlegend\":true,\"x\":[29.3],\"xaxis\":\"x\",\"y\":[47.5],\"yaxis\":\"y\",\"type\":\"scatter\"},{\"hovertemplate\":\"Country name=Nigeria<br>Median age=%{x}<br>Gini coefficient of income=%{y}<extra></extra>\",\"legendgroup\":\"Nigeria\",\"marker\":{\"color\":\"#FFA15A\",\"symbol\":\"circle\"},\"mode\":\"markers\",\"name\":\"Nigeria\",\"orientation\":\"v\",\"showlegend\":true,\"x\":[18.1],\"xaxis\":\"x\",\"y\":[44.894],\"yaxis\":\"y\",\"type\":\"scatter\"},{\"hovertemplate\":\"Country name=Kenya<br>Median age=%{x}<br>Gini coefficient of income=%{y}<extra></extra>\",\"legendgroup\":\"Kenya\",\"marker\":{\"color\":\"#19d3f3\",\"symbol\":\"circle\"},\"mode\":\"markers\",\"name\":\"Kenya\",\"orientation\":\"v\",\"showlegend\":true,\"x\":[20.0],\"xaxis\":\"x\",\"y\":[40.78],\"yaxis\":\"y\",\"type\":\"scatter\"},{\"hovertemplate\":\"Country name=Tanzania<br>Median age=%{x}<br>Gini coefficient of income=%{y}<extra></extra>\",\"legendgroup\":\"Tanzania\",\"marker\":{\"color\":\"#FF6692\",\"symbol\":\"circle\"},\"mode\":\"markers\",\"name\":\"Tanzania\",\"orientation\":\"v\",\"showlegend\":true,\"x\":[17.7],\"xaxis\":\"x\",\"y\":[37.78],\"yaxis\":\"y\",\"type\":\"scatter\"},{\"hovertemplate\":\"Country name=Israel<br>Median age=%{x}<br>Gini coefficient of income=%{y}<extra></extra>\",\"legendgroup\":\"Israel\",\"marker\":{\"color\":\"#B6E880\",\"symbol\":\"circle\"},\"mode\":\"markers\",\"name\":\"Israel\",\"orientation\":\"v\",\"showlegend\":true,\"x\":[30.6],\"xaxis\":\"x\",\"y\":[34.4],\"yaxis\":\"y\",\"type\":\"scatter\"},{\"hovertemplate\":\"Country name=Palestinian Territories<br>Median age=%{x}<br>Gini coefficient of income=%{y}<extra></extra>\",\"legendgroup\":\"Palestinian Territories\",\"marker\":{\"color\":\"#FF97FF\",\"symbol\":\"circle\"},\"mode\":\"markers\",\"name\":\"Palestinian Territories\",\"orientation\":\"v\",\"showlegend\":true,\"x\":[20.4],\"xaxis\":\"x\",\"y\":[33.69],\"yaxis\":\"y\",\"type\":\"scatter\"},{\"hovertemplate\":\"Country name=Ghana<br>Median age=%{x}<br>Gini coefficient of income=%{y}<extra></extra>\",\"legendgroup\":\"Ghana\",\"marker\":{\"color\":\"#FECB52\",\"symbol\":\"circle\"},\"mode\":\"markers\",\"name\":\"Ghana\",\"orientation\":\"v\",\"showlegend\":true,\"x\":[21.1],\"xaxis\":\"x\",\"y\":[43.52],\"yaxis\":\"y\",\"type\":\"scatter\"},{\"hovertemplate\":\"Country name=Uganda<br>Median age=%{x}<br>Gini coefficient of income=%{y}<extra></extra>\",\"legendgroup\":\"Uganda\",\"marker\":{\"color\":\"#636efa\",\"symbol\":\"circle\"},\"mode\":\"markers\",\"name\":\"Uganda\",\"orientation\":\"v\",\"showlegend\":true,\"x\":[16.4],\"xaxis\":\"x\",\"y\":[42.75],\"yaxis\":\"y\",\"type\":\"scatter\"},{\"hovertemplate\":\"Country name=Benin<br>Median age=%{x}<br>Gini coefficient of income=%{y}<extra></extra>\",\"legendgroup\":\"Benin\",\"marker\":{\"color\":\"#EF553B\",\"symbol\":\"circle\"},\"mode\":\"markers\",\"name\":\"Benin\",\"orientation\":\"v\",\"showlegend\":true,\"x\":[18.8],\"xaxis\":\"x\",\"y\":[47.76],\"yaxis\":\"y\",\"type\":\"scatter\"},{\"hovertemplate\":\"Country name=Madagascar<br>Median age=%{x}<br>Gini coefficient of income=%{y}<extra></extra>\",\"legendgroup\":\"Madagascar\",\"marker\":{\"color\":\"#00cc96\",\"symbol\":\"circle\"},\"mode\":\"markers\",\"name\":\"Madagascar\",\"orientation\":\"v\",\"showlegend\":true,\"x\":[19.6],\"xaxis\":\"x\",\"y\":[42.65],\"yaxis\":\"y\",\"type\":\"scatter\"},{\"hovertemplate\":\"Country name=Malawi<br>Median age=%{x}<br>Gini coefficient of income=%{y}<extra></extra>\",\"legendgroup\":\"Malawi\",\"marker\":{\"color\":\"#ab63fa\",\"symbol\":\"circle\"},\"mode\":\"markers\",\"name\":\"Malawi\",\"orientation\":\"v\",\"showlegend\":true,\"x\":[18.1],\"xaxis\":\"x\",\"y\":[44.69],\"yaxis\":\"y\",\"type\":\"scatter\"},{\"hovertemplate\":\"Country name=South Africa<br>Median age=%{x}<br>Gini coefficient of income=%{y}<extra></extra>\",\"legendgroup\":\"South Africa\",\"marker\":{\"color\":\"#FFA15A\",\"symbol\":\"circle\"},\"mode\":\"markers\",\"name\":\"South Africa\",\"orientation\":\"v\",\"showlegend\":true,\"x\":[27.3],\"xaxis\":\"x\",\"y\":[65.426],\"yaxis\":\"y\",\"type\":\"scatter\"},{\"hovertemplate\":\"Country name=Canada<br>Median age=%{x}<br>Gini coefficient of income=%{y}<extra></extra>\",\"legendgroup\":\"Canada\",\"marker\":{\"color\":\"#19d3f3\",\"symbol\":\"circle\"},\"mode\":\"markers\",\"name\":\"Canada\",\"orientation\":\"v\",\"showlegend\":true,\"x\":[41.4],\"xaxis\":\"x\",\"y\":[35.25],\"yaxis\":\"y\",\"type\":\"scatter\"},{\"hovertemplate\":\"Country name=Australia<br>Median age=%{x}<br>Gini coefficient of income=%{y}<extra></extra>\",\"legendgroup\":\"Australia\",\"marker\":{\"color\":\"#FF6692\",\"symbol\":\"circle\"},\"mode\":\"markers\",\"name\":\"Australia\",\"orientation\":\"v\",\"showlegend\":true,\"x\":[37.9],\"xaxis\":\"x\",\"y\":[33.0],\"yaxis\":\"y\",\"type\":\"scatter\"},{\"hovertemplate\":\"Country name=Philippines<br>Median age=%{x}<br>Gini coefficient of income=%{y}<extra></extra>\",\"legendgroup\":\"Philippines\",\"marker\":{\"color\":\"#B6E880\",\"symbol\":\"circle\"},\"mode\":\"markers\",\"name\":\"Philippines\",\"orientation\":\"v\",\"showlegend\":true,\"x\":[25.2],\"xaxis\":\"x\",\"y\":[42.23],\"yaxis\":\"y\",\"type\":\"scatter\"},{\"hovertemplate\":\"Country name=Sri Lanka<br>Median age=%{x}<br>Gini coefficient of income=%{y}<extra></extra>\",\"legendgroup\":\"Sri Lanka\",\"marker\":{\"color\":\"#FF97FF\",\"symbol\":\"circle\"},\"mode\":\"markers\",\"name\":\"Sri Lanka\",\"orientation\":\"v\",\"showlegend\":true,\"x\":[34.1],\"xaxis\":\"x\",\"y\":[41.937],\"yaxis\":\"y\",\"type\":\"scatter\"},{\"hovertemplate\":\"Country name=Vietnam<br>Median age=%{x}<br>Gini coefficient of income=%{y}<extra></extra>\",\"legendgroup\":\"Vietnam\",\"marker\":{\"color\":\"#FECB52\",\"symbol\":\"circle\"},\"mode\":\"markers\",\"name\":\"Vietnam\",\"orientation\":\"v\",\"showlegend\":true,\"x\":[32.6],\"xaxis\":\"x\",\"y\":[40.1],\"yaxis\":\"y\",\"type\":\"scatter\"},{\"hovertemplate\":\"Country name=Thailand<br>Median age=%{x}<br>Gini coefficient of income=%{y}<extra></extra>\",\"legendgroup\":\"Thailand\",\"marker\":{\"color\":\"#636efa\",\"symbol\":\"circle\"},\"mode\":\"markers\",\"name\":\"Thailand\",\"orientation\":\"v\",\"showlegend\":true,\"x\":[40.1],\"xaxis\":\"x\",\"y\":[35.315],\"yaxis\":\"y\",\"type\":\"scatter\"},{\"hovertemplate\":\"Country name=Cambodia<br>Median age=%{x}<br>Gini coefficient of income=%{y}<extra></extra>\",\"legendgroup\":\"Cambodia\",\"marker\":{\"color\":\"#EF553B\",\"symbol\":\"circle\"},\"mode\":\"markers\",\"name\":\"Cambodia\",\"orientation\":\"v\",\"showlegend\":true,\"x\":[25.6],\"xaxis\":\"x\",\"y\":[36.0],\"yaxis\":\"y\",\"type\":\"scatter\"},{\"hovertemplate\":\"Country name=Laos<br>Median age=%{x}<br>Gini coefficient of income=%{y}<extra></extra>\",\"legendgroup\":\"Laos\",\"marker\":{\"color\":\"#00cc96\",\"symbol\":\"circle\"},\"mode\":\"markers\",\"name\":\"Laos\",\"orientation\":\"v\",\"showlegend\":true,\"x\":[24.4],\"xaxis\":\"x\",\"y\":[36.39],\"yaxis\":\"y\",\"type\":\"scatter\"},{\"hovertemplate\":\"Country name=Myanmar<br>Median age=%{x}<br>Gini coefficient of income=%{y}<extra></extra>\",\"legendgroup\":\"Myanmar\",\"marker\":{\"color\":\"#ab63fa\",\"symbol\":\"circle\"},\"mode\":\"markers\",\"name\":\"Myanmar\",\"orientation\":\"v\",\"showlegend\":true,\"x\":[29.1],\"xaxis\":\"x\",\"y\":[38.07],\"yaxis\":\"y\",\"type\":\"scatter\"},{\"hovertemplate\":\"Country name=New Zealand<br>Median age=%{x}<br>Gini coefficient of income=%{y}<extra></extra>\",\"legendgroup\":\"New Zealand\",\"marker\":{\"color\":\"#FFA15A\",\"symbol\":\"circle\"},\"mode\":\"markers\",\"name\":\"New Zealand\",\"orientation\":\"v\",\"showlegend\":true,\"x\":[37.9],\"xaxis\":\"x\",\"y\":[34.1],\"yaxis\":\"y\",\"type\":\"scatter\"},{\"hovertemplate\":\"Country name=Angola<br>Median age=%{x}<br>Gini coefficient of income=%{y}<extra></extra>\",\"legendgroup\":\"Angola\",\"marker\":{\"color\":\"#19d3f3\",\"symbol\":\"circle\"},\"mode\":\"markers\",\"name\":\"Angola\",\"orientation\":\"v\",\"showlegend\":true,\"x\":[16.8],\"xaxis\":\"x\",\"y\":[46.103],\"yaxis\":\"y\",\"type\":\"scatter\"},{\"hovertemplate\":\"Country name=Botswana<br>Median age=%{x}<br>Gini coefficient of income=%{y}<extra></extra>\",\"legendgroup\":\"Botswana\",\"marker\":{\"color\":\"#FF6692\",\"symbol\":\"circle\"},\"mode\":\"markers\",\"name\":\"Botswana\",\"orientation\":\"v\",\"showlegend\":true,\"x\":[25.8],\"xaxis\":\"x\",\"y\":[53.33],\"yaxis\":\"y\",\"type\":\"scatter\"},{\"hovertemplate\":\"Country name=Ethiopia<br>Median age=%{x}<br>Gini coefficient of income=%{y}<extra></extra>\",\"legendgroup\":\"Ethiopia\",\"marker\":{\"color\":\"#B6E880\",\"symbol\":\"circle\"},\"mode\":\"markers\",\"name\":\"Ethiopia\",\"orientation\":\"v\",\"showlegend\":true,\"x\":[19.8],\"xaxis\":\"x\",\"y\":[33.498000000000005],\"yaxis\":\"y\",\"type\":\"scatter\"},{\"hovertemplate\":\"Country name=Mali<br>Median age=%{x}<br>Gini coefficient of income=%{y}<extra></extra>\",\"legendgroup\":\"Mali\",\"marker\":{\"color\":\"#FF97FF\",\"symbol\":\"circle\"},\"mode\":\"markers\",\"name\":\"Mali\",\"orientation\":\"v\",\"showlegend\":true,\"x\":[16.4],\"xaxis\":\"x\",\"y\":[33.04],\"yaxis\":\"y\",\"type\":\"scatter\"},{\"hovertemplate\":\"Country name=Mauritania<br>Median age=%{x}<br>Gini coefficient of income=%{y}<extra></extra>\",\"legendgroup\":\"Mauritania\",\"marker\":{\"color\":\"#FECB52\",\"symbol\":\"circle\"},\"mode\":\"markers\",\"name\":\"Mauritania\",\"orientation\":\"v\",\"showlegend\":true,\"x\":[20.3],\"xaxis\":\"x\",\"y\":[32.62],\"yaxis\":\"y\",\"type\":\"scatter\"},{\"hovertemplate\":\"Country name=Mozambique<br>Median age=%{x}<br>Gini coefficient of income=%{y}<extra></extra>\",\"legendgroup\":\"Mozambique\",\"marker\":{\"color\":\"#636efa\",\"symbol\":\"circle\"},\"mode\":\"markers\",\"name\":\"Mozambique\",\"orientation\":\"v\",\"showlegend\":true,\"x\":[17.7],\"xaxis\":\"x\",\"y\":[49.417],\"yaxis\":\"y\",\"type\":\"scatter\"},{\"hovertemplate\":\"Country name=Niger<br>Median age=%{x}<br>Gini coefficient of income=%{y}<extra></extra>\",\"legendgroup\":\"Niger\",\"marker\":{\"color\":\"#EF553B\",\"symbol\":\"circle\"},\"mode\":\"markers\",\"name\":\"Niger\",\"orientation\":\"v\",\"showlegend\":true,\"x\":[15.1],\"xaxis\":\"x\",\"y\":[34.28],\"yaxis\":\"y\",\"type\":\"scatter\"},{\"hovertemplate\":\"Country name=Rwanda<br>Median age=%{x}<br>Gini coefficient of income=%{y}<extra></extra>\",\"legendgroup\":\"Rwanda\",\"marker\":{\"color\":\"#00cc96\",\"symbol\":\"circle\"},\"mode\":\"markers\",\"name\":\"Rwanda\",\"orientation\":\"v\",\"showlegend\":true,\"x\":[20.3],\"xaxis\":\"x\",\"y\":[43.71],\"yaxis\":\"y\",\"type\":\"scatter\"},{\"hovertemplate\":\"Country name=Senegal<br>Median age=%{x}<br>Gini coefficient of income=%{y}<extra></extra>\",\"legendgroup\":\"Senegal\",\"marker\":{\"color\":\"#ab63fa\",\"symbol\":\"circle\"},\"mode\":\"markers\",\"name\":\"Senegal\",\"orientation\":\"v\",\"showlegend\":true,\"x\":[18.7],\"xaxis\":\"x\",\"y\":[40.29],\"yaxis\":\"y\",\"type\":\"scatter\"},{\"hovertemplate\":\"Country name=Zambia<br>Median age=%{x}<br>Gini coefficient of income=%{y}<extra></extra>\",\"legendgroup\":\"Zambia\",\"marker\":{\"color\":\"#FFA15A\",\"symbol\":\"circle\"},\"mode\":\"markers\",\"name\":\"Zambia\",\"orientation\":\"v\",\"showlegend\":true,\"x\":[17.7],\"xaxis\":\"x\",\"y\":[57.14],\"yaxis\":\"y\",\"type\":\"scatter\"},{\"hovertemplate\":\"Country name=South Korea<br>Median age=%{x}<br>Gini coefficient of income=%{y}<extra></extra>\",\"legendgroup\":\"South Korea\",\"marker\":{\"color\":\"#19d3f3\",\"symbol\":\"circle\"},\"mode\":\"markers\",\"name\":\"South Korea\",\"orientation\":\"v\",\"showlegend\":true,\"x\":[43.4],\"xaxis\":\"x\",\"y\":[35.5],\"yaxis\":\"y\",\"type\":\"scatter\"},{\"hovertemplate\":\"Country name=Taiwan Province of China<br>Median age=%{x}<br>Gini coefficient of income=%{y}<extra></extra>\",\"legendgroup\":\"Taiwan Province of China\",\"marker\":{\"color\":\"#FF6692\",\"symbol\":\"circle\"},\"mode\":\"markers\",\"name\":\"Taiwan Province of China\",\"orientation\":\"v\",\"showlegend\":true,\"x\":[42.2],\"xaxis\":\"x\",\"y\":[29.467],\"yaxis\":\"y\",\"type\":\"scatter\"},{\"hovertemplate\":\"Country name=Afghanistan<br>Median age=%{x}<br>Gini coefficient of income=%{y}<extra></extra>\",\"legendgroup\":\"Afghanistan\",\"marker\":{\"color\":\"#B6E880\",\"symbol\":\"circle\"},\"mode\":\"markers\",\"name\":\"Afghanistan\",\"orientation\":\"v\",\"showlegend\":true,\"x\":[18.6],\"xaxis\":\"x\",\"y\":[31.0],\"yaxis\":\"y\",\"type\":\"scatter\"},{\"hovertemplate\":\"Country name=Belarus<br>Median age=%{x}<br>Gini coefficient of income=%{y}<extra></extra>\",\"legendgroup\":\"Belarus\",\"marker\":{\"color\":\"#FF97FF\",\"symbol\":\"circle\"},\"mode\":\"markers\",\"name\":\"Belarus\",\"orientation\":\"v\",\"showlegend\":true,\"x\":[40.3],\"xaxis\":\"x\",\"y\":[25.44],\"yaxis\":\"y\",\"type\":\"scatter\"},{\"hovertemplate\":\"Country name=Georgia<br>Median age=%{x}<br>Gini coefficient of income=%{y}<extra></extra>\",\"legendgroup\":\"Georgia\",\"marker\":{\"color\":\"#FECB52\",\"symbol\":\"circle\"},\"mode\":\"markers\",\"name\":\"Georgia\",\"orientation\":\"v\",\"showlegend\":true,\"x\":[38.7],\"xaxis\":\"x\",\"y\":[37.94],\"yaxis\":\"y\",\"type\":\"scatter\"},{\"hovertemplate\":\"Country name=Kazakhstan<br>Median age=%{x}<br>Gini coefficient of income=%{y}<extra></extra>\",\"legendgroup\":\"Kazakhstan\",\"marker\":{\"color\":\"#636efa\",\"symbol\":\"circle\"},\"mode\":\"markers\",\"name\":\"Kazakhstan\",\"orientation\":\"v\",\"showlegend\":true,\"x\":[30.6],\"xaxis\":\"x\",\"y\":[27.45],\"yaxis\":\"y\",\"type\":\"scatter\"},{\"hovertemplate\":\"Country name=Kyrgyzstan<br>Median age=%{x}<br>Gini coefficient of income=%{y}<extra></extra>\",\"legendgroup\":\"Kyrgyzstan\",\"marker\":{\"color\":\"#EF553B\",\"symbol\":\"circle\"},\"mode\":\"markers\",\"name\":\"Kyrgyzstan\",\"orientation\":\"v\",\"showlegend\":true,\"x\":[26.3],\"xaxis\":\"x\",\"y\":[27.34],\"yaxis\":\"y\",\"type\":\"scatter\"},{\"hovertemplate\":\"Country name=Moldova<br>Median age=%{x}<br>Gini coefficient of income=%{y}<extra></extra>\",\"legendgroup\":\"Moldova\",\"marker\":{\"color\":\"#00cc96\",\"symbol\":\"circle\"},\"mode\":\"markers\",\"name\":\"Moldova\",\"orientation\":\"v\",\"showlegend\":true,\"x\":[37.6],\"xaxis\":\"x\",\"y\":[25.9],\"yaxis\":\"y\",\"type\":\"scatter\"},{\"hovertemplate\":\"Country name=Russia<br>Median age=%{x}<br>Gini coefficient of income=%{y}<extra></extra>\",\"legendgroup\":\"Russia\",\"marker\":{\"color\":\"#ab63fa\",\"symbol\":\"circle\"},\"mode\":\"markers\",\"name\":\"Russia\",\"orientation\":\"v\",\"showlegend\":true,\"x\":[39.6],\"xaxis\":\"x\",\"y\":[34.56],\"yaxis\":\"y\",\"type\":\"scatter\"},{\"hovertemplate\":\"Country name=Ukraine<br>Median age=%{x}<br>Gini coefficient of income=%{y}<extra></extra>\",\"legendgroup\":\"Ukraine\",\"marker\":{\"color\":\"#FFA15A\",\"symbol\":\"circle\"},\"mode\":\"markers\",\"name\":\"Ukraine\",\"orientation\":\"v\",\"showlegend\":true,\"x\":[41.4],\"xaxis\":\"x\",\"y\":[25.0],\"yaxis\":\"y\",\"type\":\"scatter\"},{\"hovertemplate\":\"Country name=Burkina Faso<br>Median age=%{x}<br>Gini coefficient of income=%{y}<extra></extra>\",\"legendgroup\":\"Burkina Faso\",\"marker\":{\"color\":\"#19d3f3\",\"symbol\":\"circle\"},\"mode\":\"markers\",\"name\":\"Burkina Faso\",\"orientation\":\"v\",\"showlegend\":true,\"x\":[17.6],\"xaxis\":\"x\",\"y\":[35.3],\"yaxis\":\"y\",\"type\":\"scatter\"},{\"hovertemplate\":\"Country name=Cameroon<br>Median age=%{x}<br>Gini coefficient of income=%{y}<extra></extra>\",\"legendgroup\":\"Cameroon\",\"marker\":{\"color\":\"#FF6692\",\"symbol\":\"circle\"},\"mode\":\"markers\",\"name\":\"Cameroon\",\"orientation\":\"v\",\"showlegend\":true,\"x\":[18.8],\"xaxis\":\"x\",\"y\":[46.64],\"yaxis\":\"y\",\"type\":\"scatter\"},{\"hovertemplate\":\"Country name=Sierra Leone<br>Median age=%{x}<br>Gini coefficient of income=%{y}<extra></extra>\",\"legendgroup\":\"Sierra Leone\",\"marker\":{\"color\":\"#B6E880\",\"symbol\":\"circle\"},\"mode\":\"markers\",\"name\":\"Sierra Leone\",\"orientation\":\"v\",\"showlegend\":true,\"x\":[19.1],\"xaxis\":\"x\",\"y\":[34.03],\"yaxis\":\"y\",\"type\":\"scatter\"},{\"hovertemplate\":\"Country name=Zimbabwe<br>Median age=%{x}<br>Gini coefficient of income=%{y}<extra></extra>\",\"legendgroup\":\"Zimbabwe\",\"marker\":{\"color\":\"#FF97FF\",\"symbol\":\"circle\"},\"mode\":\"markers\",\"name\":\"Zimbabwe\",\"orientation\":\"v\",\"showlegend\":true,\"x\":[19.6],\"xaxis\":\"x\",\"y\":[40.363],\"yaxis\":\"y\",\"type\":\"scatter\"},{\"hovertemplate\":\"Country name=Costa Rica<br>Median age=%{x}<br>Gini coefficient of income=%{y}<extra></extra>\",\"legendgroup\":\"Costa Rica\",\"marker\":{\"color\":\"#FECB52\",\"symbol\":\"circle\"},\"mode\":\"markers\",\"name\":\"Costa Rica\",\"orientation\":\"v\",\"showlegend\":true,\"x\":[33.6],\"xaxis\":\"x\",\"y\":[48.6],\"yaxis\":\"y\",\"type\":\"scatter\"},{\"hovertemplate\":\"Country name=Albania<br>Median age=%{x}<br>Gini coefficient of income=%{y}<extra></extra>\",\"legendgroup\":\"Albania\",\"marker\":{\"color\":\"#636efa\",\"symbol\":\"circle\"},\"mode\":\"markers\",\"name\":\"Albania\",\"orientation\":\"v\",\"showlegend\":true,\"x\":[38.0],\"xaxis\":\"x\",\"y\":[28.96],\"yaxis\":\"y\",\"type\":\"scatter\"},{\"hovertemplate\":\"Country name=Algeria<br>Median age=%{x}<br>Gini coefficient of income=%{y}<extra></extra>\",\"legendgroup\":\"Algeria\",\"marker\":{\"color\":\"#EF553B\",\"symbol\":\"circle\"},\"mode\":\"markers\",\"name\":\"Algeria\",\"orientation\":\"v\",\"showlegend\":true,\"x\":[29.1],\"xaxis\":\"x\",\"y\":[27.62],\"yaxis\":\"y\",\"type\":\"scatter\"},{\"hovertemplate\":\"Country name=Argentina<br>Median age=%{x}<br>Gini coefficient of income=%{y}<extra></extra>\",\"legendgroup\":\"Argentina\",\"marker\":{\"color\":\"#00cc96\",\"symbol\":\"circle\"},\"mode\":\"markers\",\"name\":\"Argentina\",\"orientation\":\"v\",\"showlegend\":true,\"x\":[31.9],\"xaxis\":\"x\",\"y\":[39.6],\"yaxis\":\"y\",\"type\":\"scatter\"},{\"hovertemplate\":\"Country name=Armenia<br>Median age=%{x}<br>Gini coefficient of income=%{y}<extra></extra>\",\"legendgroup\":\"Armenia\",\"marker\":{\"color\":\"#ab63fa\",\"symbol\":\"circle\"},\"mode\":\"markers\",\"name\":\"Armenia\",\"orientation\":\"v\",\"showlegend\":true,\"x\":[35.7],\"xaxis\":\"x\",\"y\":[33.62],\"yaxis\":\"y\",\"type\":\"scatter\"},{\"hovertemplate\":\"Country name=Austria<br>Median age=%{x}<br>Gini coefficient of income=%{y}<extra></extra>\",\"legendgroup\":\"Austria\",\"marker\":{\"color\":\"#FFA15A\",\"symbol\":\"circle\"},\"mode\":\"markers\",\"name\":\"Austria\",\"orientation\":\"v\",\"showlegend\":true,\"x\":[44.4],\"xaxis\":\"x\",\"y\":[26.8],\"yaxis\":\"y\",\"type\":\"scatter\"},{\"hovertemplate\":\"Country name=Azerbaijan<br>Median age=%{x}<br>Gini coefficient of income=%{y}<extra></extra>\",\"legendgroup\":\"Azerbaijan\",\"marker\":{\"color\":\"#19d3f3\",\"symbol\":\"circle\"},\"mode\":\"markers\",\"name\":\"Azerbaijan\",\"orientation\":\"v\",\"showlegend\":true,\"x\":[32.4],\"xaxis\":\"x\",\"y\":[26.6],\"yaxis\":\"y\",\"type\":\"scatter\"},{\"hovertemplate\":\"Country name=Bahrain<br>Median age=%{x}<br>Gini coefficient of income=%{y}<extra></extra>\",\"legendgroup\":\"Bahrain\",\"marker\":{\"color\":\"#FF6692\",\"symbol\":\"circle\"},\"mode\":\"markers\",\"name\":\"Bahrain\",\"orientation\":\"v\",\"showlegend\":true,\"x\":[32.4],\"xaxis\":\"x\",\"y\":[59.6],\"yaxis\":\"y\",\"type\":\"scatter\"},{\"hovertemplate\":\"Country name=Belize<br>Median age=%{x}<br>Gini coefficient of income=%{y}<extra></extra>\",\"legendgroup\":\"Belize\",\"marker\":{\"color\":\"#B6E880\",\"symbol\":\"circle\"},\"mode\":\"markers\",\"name\":\"Belize\",\"orientation\":\"v\",\"showlegend\":true,\"x\":[25.0],\"xaxis\":\"x\",\"y\":[53.26],\"yaxis\":\"y\",\"type\":\"scatter\"},{\"hovertemplate\":\"Country name=Bhutan<br>Median age=%{x}<br>Gini coefficient of income=%{y}<extra></extra>\",\"legendgroup\":\"Bhutan\",\"marker\":{\"color\":\"#FF97FF\",\"symbol\":\"circle\"},\"mode\":\"markers\",\"name\":\"Bhutan\",\"orientation\":\"v\",\"showlegend\":true,\"x\":[28.6],\"xaxis\":\"x\",\"y\":[37.44],\"yaxis\":\"y\",\"type\":\"scatter\"},{\"hovertemplate\":\"Country name=Bolivia<br>Median age=%{x}<br>Gini coefficient of income=%{y}<extra></extra>\",\"legendgroup\":\"Bolivia\",\"marker\":{\"color\":\"#FECB52\",\"symbol\":\"circle\"},\"mode\":\"markers\",\"name\":\"Bolivia\",\"orientation\":\"v\",\"showlegend\":true,\"x\":[25.4],\"xaxis\":\"x\",\"y\":[43.8],\"yaxis\":\"y\",\"type\":\"scatter\"},{\"hovertemplate\":\"Country name=Bosnia and Herzegovina<br>Median age=%{x}<br>Gini coefficient of income=%{y}<extra></extra>\",\"legendgroup\":\"Bosnia and Herzegovina\",\"marker\":{\"color\":\"#636efa\",\"symbol\":\"circle\"},\"mode\":\"markers\",\"name\":\"Bosnia and Herzegovina\",\"orientation\":\"v\",\"showlegend\":true,\"x\":[42.5],\"xaxis\":\"x\",\"y\":[33.03],\"yaxis\":\"y\",\"type\":\"scatter\"},{\"hovertemplate\":\"Country name=Bulgaria<br>Median age=%{x}<br>Gini coefficient of income=%{y}<extra></extra>\",\"legendgroup\":\"Bulgaria\",\"marker\":{\"color\":\"#EF553B\",\"symbol\":\"circle\"},\"mode\":\"markers\",\"name\":\"Bulgaria\",\"orientation\":\"v\",\"showlegend\":true,\"x\":[44.7],\"xaxis\":\"x\",\"y\":[39.6],\"yaxis\":\"y\",\"type\":\"scatter\"},{\"hovertemplate\":\"Country name=Burundi<br>Median age=%{x}<br>Gini coefficient of income=%{y}<extra></extra>\",\"legendgroup\":\"Burundi\",\"marker\":{\"color\":\"#00cc96\",\"symbol\":\"circle\"},\"mode\":\"markers\",\"name\":\"Burundi\",\"orientation\":\"v\",\"showlegend\":true,\"x\":[17.5],\"xaxis\":\"x\",\"y\":[38.62],\"yaxis\":\"y\",\"type\":\"scatter\"},{\"hovertemplate\":\"Country name=Central African Republic<br>Median age=%{x}<br>Gini coefficient of income=%{y}<extra></extra>\",\"legendgroup\":\"Central African Republic\",\"marker\":{\"color\":\"#ab63fa\",\"symbol\":\"circle\"},\"mode\":\"markers\",\"name\":\"Central African Republic\",\"orientation\":\"v\",\"showlegend\":true,\"x\":[18.3],\"xaxis\":\"x\",\"y\":[56.24],\"yaxis\":\"y\",\"type\":\"scatter\"},{\"hovertemplate\":\"Country name=Chad<br>Median age=%{x}<br>Gini coefficient of income=%{y}<extra></extra>\",\"legendgroup\":\"Chad\",\"marker\":{\"color\":\"#FFA15A\",\"symbol\":\"circle\"},\"mode\":\"markers\",\"name\":\"Chad\",\"orientation\":\"v\",\"showlegend\":true,\"x\":[16.7],\"xaxis\":\"x\",\"y\":[43.32],\"yaxis\":\"y\",\"type\":\"scatter\"},{\"hovertemplate\":\"Country name=Chile<br>Median age=%{x}<br>Gini coefficient of income=%{y}<extra></extra>\",\"legendgroup\":\"Chile\",\"marker\":{\"color\":\"#19d3f3\",\"symbol\":\"circle\"},\"mode\":\"markers\",\"name\":\"Chile\",\"orientation\":\"v\",\"showlegend\":true,\"x\":[35.4],\"xaxis\":\"x\",\"y\":[45.92],\"yaxis\":\"y\",\"type\":\"scatter\"},{\"hovertemplate\":\"Country name=Colombia<br>Median age=%{x}<br>Gini coefficient of income=%{y}<extra></extra>\",\"legendgroup\":\"Colombia\",\"marker\":{\"color\":\"#FF6692\",\"symbol\":\"circle\"},\"mode\":\"markers\",\"name\":\"Colombia\",\"orientation\":\"v\",\"showlegend\":true,\"x\":[32.2],\"xaxis\":\"x\",\"y\":[52.0],\"yaxis\":\"y\",\"type\":\"scatter\"},{\"hovertemplate\":\"Country name=Comoros<br>Median age=%{x}<br>Gini coefficient of income=%{y}<extra></extra>\",\"legendgroup\":\"Comoros\",\"marker\":{\"color\":\"#B6E880\",\"symbol\":\"circle\"},\"mode\":\"markers\",\"name\":\"Comoros\",\"orientation\":\"v\",\"showlegend\":true,\"x\":[20.4],\"xaxis\":\"x\",\"y\":[45.33],\"yaxis\":\"y\",\"type\":\"scatter\"},{\"hovertemplate\":\"Country name=Congo (Kinshasa)<br>Median age=%{x}<br>Gini coefficient of income=%{y}<extra></extra>\",\"legendgroup\":\"Congo (Kinshasa)\",\"marker\":{\"color\":\"#FF97FF\",\"symbol\":\"circle\"},\"mode\":\"markers\",\"name\":\"Congo (Kinshasa)\",\"orientation\":\"v\",\"showlegend\":true,\"x\":[17.0],\"xaxis\":\"x\",\"y\":[42.1],\"yaxis\":\"y\",\"type\":\"scatter\"},{\"hovertemplate\":\"Country name=Congo (Brazzaville)<br>Median age=%{x}<br>Gini coefficient of income=%{y}<extra></extra>\",\"legendgroup\":\"Congo (Brazzaville)\",\"marker\":{\"color\":\"#FECB52\",\"symbol\":\"circle\"},\"mode\":\"markers\",\"name\":\"Congo (Brazzaville)\",\"orientation\":\"v\",\"showlegend\":true,\"x\":[19.0],\"xaxis\":\"x\",\"y\":[48.94],\"yaxis\":\"y\",\"type\":\"scatter\"},{\"hovertemplate\":\"Country name=Croatia<br>Median age=%{x}<br>Gini coefficient of income=%{y}<extra></extra>\",\"legendgroup\":\"Croatia\",\"marker\":{\"color\":\"#636efa\",\"symbol\":\"circle\"},\"mode\":\"markers\",\"name\":\"Croatia\",\"orientation\":\"v\",\"showlegend\":true,\"x\":[44.0],\"xaxis\":\"x\",\"y\":[29.7],\"yaxis\":\"y\",\"type\":\"scatter\"},{\"hovertemplate\":\"Country name=Cuba<br>Median age=%{x}<br>Gini coefficient of income=%{y}<extra></extra>\",\"legendgroup\":\"Cuba\",\"marker\":{\"color\":\"#EF553B\",\"symbol\":\"circle\"},\"mode\":\"markers\",\"name\":\"Cuba\",\"orientation\":\"v\",\"showlegend\":true,\"x\":[43.1],\"xaxis\":\"x\",\"y\":[38.0],\"yaxis\":\"y\",\"type\":\"scatter\"},{\"hovertemplate\":\"Country name=Cyprus<br>Median age=%{x}<br>Gini coefficient of income=%{y}<extra></extra>\",\"legendgroup\":\"Cyprus\",\"marker\":{\"color\":\"#00cc96\",\"symbol\":\"circle\"},\"mode\":\"markers\",\"name\":\"Cyprus\",\"orientation\":\"v\",\"showlegend\":true,\"x\":[37.3],\"xaxis\":\"x\",\"y\":[29.1],\"yaxis\":\"y\",\"type\":\"scatter\"},{\"hovertemplate\":\"Country name=Djibouti<br>Median age=%{x}<br>Gini coefficient of income=%{y}<extra></extra>\",\"legendgroup\":\"Djibouti\",\"marker\":{\"color\":\"#ab63fa\",\"symbol\":\"circle\"},\"mode\":\"markers\",\"name\":\"Djibouti\",\"orientation\":\"v\",\"showlegend\":true,\"x\":[25.4],\"xaxis\":\"x\",\"y\":[41.59],\"yaxis\":\"y\",\"type\":\"scatter\"},{\"hovertemplate\":\"Country name=Dominican Republic<br>Median age=%{x}<br>Gini coefficient of income=%{y}<extra></extra>\",\"legendgroup\":\"Dominican Republic\",\"marker\":{\"color\":\"#FFA15A\",\"symbol\":\"circle\"},\"mode\":\"markers\",\"name\":\"Dominican Republic\",\"orientation\":\"v\",\"showlegend\":true,\"x\":[27.6],\"xaxis\":\"x\",\"y\":[44.4],\"yaxis\":\"y\",\"type\":\"scatter\"},{\"hovertemplate\":\"Country name=Ecuador<br>Median age=%{x}<br>Gini coefficient of income=%{y}<extra></extra>\",\"legendgroup\":\"Ecuador\",\"marker\":{\"color\":\"#19d3f3\",\"symbol\":\"circle\"},\"mode\":\"markers\",\"name\":\"Ecuador\",\"orientation\":\"v\",\"showlegend\":true,\"x\":[28.1],\"xaxis\":\"x\",\"y\":[45.4],\"yaxis\":\"y\",\"type\":\"scatter\"},{\"hovertemplate\":\"Country name=El Salvador<br>Median age=%{x}<br>Gini coefficient of income=%{y}<extra></extra>\",\"legendgroup\":\"El Salvador\",\"marker\":{\"color\":\"#FF6692\",\"symbol\":\"circle\"},\"mode\":\"markers\",\"name\":\"El Salvador\",\"orientation\":\"v\",\"showlegend\":true,\"x\":[27.6],\"xaxis\":\"x\",\"y\":[40.5],\"yaxis\":\"y\",\"type\":\"scatter\"},{\"hovertemplate\":\"Country name=Estonia<br>Median age=%{x}<br>Gini coefficient of income=%{y}<extra></extra>\",\"legendgroup\":\"Estonia\",\"marker\":{\"color\":\"#B6E880\",\"symbol\":\"circle\"},\"mode\":\"markers\",\"name\":\"Estonia\",\"orientation\":\"v\",\"showlegend\":true,\"x\":[42.7],\"xaxis\":\"x\",\"y\":[30.6],\"yaxis\":\"y\",\"type\":\"scatter\"},{\"hovertemplate\":\"Country name=Finland<br>Median age=%{x}<br>Gini coefficient of income=%{y}<extra></extra>\",\"legendgroup\":\"Finland\",\"marker\":{\"color\":\"#FF97FF\",\"symbol\":\"circle\"},\"mode\":\"markers\",\"name\":\"Finland\",\"orientation\":\"v\",\"showlegend\":true,\"x\":[42.8],\"xaxis\":\"x\",\"y\":[25.9],\"yaxis\":\"y\",\"type\":\"scatter\"},{\"hovertemplate\":\"Country name=Gabon<br>Median age=%{x}<br>Gini coefficient of income=%{y}<extra></extra>\",\"legendgroup\":\"Gabon\",\"marker\":{\"color\":\"#FECB52\",\"symbol\":\"circle\"},\"mode\":\"markers\",\"name\":\"Gabon\",\"orientation\":\"v\",\"showlegend\":true,\"x\":[23.1],\"xaxis\":\"x\",\"y\":[38.02],\"yaxis\":\"y\",\"type\":\"scatter\"},{\"hovertemplate\":\"Country name=Guatemala<br>Median age=%{x}<br>Gini coefficient of income=%{y}<extra></extra>\",\"legendgroup\":\"Guatemala\",\"marker\":{\"color\":\"#636efa\",\"symbol\":\"circle\"},\"mode\":\"markers\",\"name\":\"Guatemala\",\"orientation\":\"v\",\"showlegend\":true,\"x\":[22.9],\"xaxis\":\"x\",\"y\":[44.488],\"yaxis\":\"y\",\"type\":\"scatter\"},{\"hovertemplate\":\"Country name=Guinea<br>Median age=%{x}<br>Gini coefficient of income=%{y}<extra></extra>\",\"legendgroup\":\"Guinea\",\"marker\":{\"color\":\"#EF553B\",\"symbol\":\"circle\"},\"mode\":\"markers\",\"name\":\"Guinea\",\"orientation\":\"v\",\"showlegend\":true,\"x\":[19.0],\"xaxis\":\"x\",\"y\":[33.73],\"yaxis\":\"y\",\"type\":\"scatter\"},{\"hovertemplate\":\"Country name=Guyana<br>Median age=%{x}<br>Gini coefficient of income=%{y}<extra></extra>\",\"legendgroup\":\"Guyana\",\"marker\":{\"color\":\"#00cc96\",\"symbol\":\"circle\"},\"mode\":\"markers\",\"name\":\"Guyana\",\"orientation\":\"v\",\"showlegend\":true,\"x\":[26.3],\"xaxis\":\"x\",\"y\":[35.0],\"yaxis\":\"y\",\"type\":\"scatter\"},{\"hovertemplate\":\"Country name=Haiti<br>Median age=%{x}<br>Gini coefficient of income=%{y}<extra></extra>\",\"legendgroup\":\"Haiti\",\"marker\":{\"color\":\"#ab63fa\",\"symbol\":\"circle\"},\"mode\":\"markers\",\"name\":\"Haiti\",\"orientation\":\"v\",\"showlegend\":true,\"x\":[24.3],\"xaxis\":\"x\",\"y\":[50.945],\"yaxis\":\"y\",\"type\":\"scatter\"},{\"hovertemplate\":\"Country name=Honduras<br>Median age=%{x}<br>Gini coefficient of income=%{y}<extra></extra>\",\"legendgroup\":\"Honduras\",\"marker\":{\"color\":\"#FFA15A\",\"symbol\":\"circle\"},\"mode\":\"markers\",\"name\":\"Honduras\",\"orientation\":\"v\",\"showlegend\":true,\"x\":[24.9],\"xaxis\":\"x\",\"y\":[48.1],\"yaxis\":\"y\",\"type\":\"scatter\"},{\"hovertemplate\":\"Country name=Iceland<br>Median age=%{x}<br>Gini coefficient of income=%{y}<extra></extra>\",\"legendgroup\":\"Iceland\",\"marker\":{\"color\":\"#19d3f3\",\"symbol\":\"circle\"},\"mode\":\"markers\",\"name\":\"Iceland\",\"orientation\":\"v\",\"showlegend\":true,\"x\":[37.3],\"xaxis\":\"x\",\"y\":[24.1],\"yaxis\":\"y\",\"type\":\"scatter\"},{\"hovertemplate\":\"Country name=Iraq<br>Median age=%{x}<br>Gini coefficient of income=%{y}<extra></extra>\",\"legendgroup\":\"Iraq\",\"marker\":{\"color\":\"#FF6692\",\"symbol\":\"circle\"},\"mode\":\"markers\",\"name\":\"Iraq\",\"orientation\":\"v\",\"showlegend\":true,\"x\":[20.0],\"xaxis\":\"x\",\"y\":[33.12],\"yaxis\":\"y\",\"type\":\"scatter\"},{\"hovertemplate\":\"Country name=Ireland<br>Median age=%{x}<br>Gini coefficient of income=%{y}<extra></extra>\",\"legendgroup\":\"Ireland\",\"marker\":{\"color\":\"#B6E880\",\"symbol\":\"circle\"},\"mode\":\"markers\",\"name\":\"Ireland\",\"orientation\":\"v\",\"showlegend\":true,\"x\":[38.7],\"xaxis\":\"x\",\"y\":[30.6],\"yaxis\":\"y\",\"type\":\"scatter\"},{\"hovertemplate\":\"Country name=Ivory Coast<br>Median age=%{x}<br>Gini coefficient of income=%{y}<extra></extra>\",\"legendgroup\":\"Ivory Coast\",\"marker\":{\"color\":\"#FF97FF\",\"symbol\":\"circle\"},\"mode\":\"markers\",\"name\":\"Ivory Coast\",\"orientation\":\"v\",\"showlegend\":true,\"x\":[18.7],\"xaxis\":\"x\",\"y\":[48.593999999999994],\"yaxis\":\"y\",\"type\":\"scatter\"},{\"hovertemplate\":\"Country name=Jamaica<br>Median age=%{x}<br>Gini coefficient of income=%{y}<extra></extra>\",\"legendgroup\":\"Jamaica\",\"marker\":{\"color\":\"#FECB52\",\"symbol\":\"circle\"},\"mode\":\"markers\",\"name\":\"Jamaica\",\"orientation\":\"v\",\"showlegend\":true,\"x\":[31.4],\"xaxis\":\"x\",\"y\":[37.48],\"yaxis\":\"y\",\"type\":\"scatter\"},{\"hovertemplate\":\"Country name=Kuwait<br>Median age=%{x}<br>Gini coefficient of income=%{y}<extra></extra>\",\"legendgroup\":\"Kuwait\",\"marker\":{\"color\":\"#636efa\",\"symbol\":\"circle\"},\"mode\":\"markers\",\"name\":\"Kuwait\",\"orientation\":\"v\",\"showlegend\":true,\"x\":[33.7],\"xaxis\":\"x\",\"y\":[36.02],\"yaxis\":\"y\",\"type\":\"scatter\"},{\"hovertemplate\":\"Country name=Latvia<br>Median age=%{x}<br>Gini coefficient of income=%{y}<extra></extra>\",\"legendgroup\":\"Latvia\",\"marker\":{\"color\":\"#EF553B\",\"symbol\":\"circle\"},\"mode\":\"markers\",\"name\":\"Latvia\",\"orientation\":\"v\",\"showlegend\":true,\"x\":[43.9],\"xaxis\":\"x\",\"y\":[35.6],\"yaxis\":\"y\",\"type\":\"scatter\"},{\"hovertemplate\":\"Country name=Lesotho<br>Median age=%{x}<br>Gini coefficient of income=%{y}<extra></extra>\",\"legendgroup\":\"Lesotho\",\"marker\":{\"color\":\"#00cc96\",\"symbol\":\"circle\"},\"mode\":\"markers\",\"name\":\"Lesotho\",\"orientation\":\"v\",\"showlegend\":true,\"x\":[24.0],\"xaxis\":\"x\",\"y\":[54.18],\"yaxis\":\"y\",\"type\":\"scatter\"},{\"hovertemplate\":\"Country name=Liberia<br>Median age=%{x}<br>Gini coefficient of income=%{y}<extra></extra>\",\"legendgroup\":\"Liberia\",\"marker\":{\"color\":\"#ab63fa\",\"symbol\":\"circle\"},\"mode\":\"markers\",\"name\":\"Liberia\",\"orientation\":\"v\",\"showlegend\":true,\"x\":[19.2],\"xaxis\":\"x\",\"y\":[35.27],\"yaxis\":\"y\",\"type\":\"scatter\"},{\"hovertemplate\":\"Country name=Libya<br>Median age=%{x}<br>Gini coefficient of income=%{y}<extra></extra>\",\"legendgroup\":\"Libya\",\"marker\":{\"color\":\"#FFA15A\",\"symbol\":\"circle\"},\"mode\":\"markers\",\"name\":\"Libya\",\"orientation\":\"v\",\"showlegend\":true,\"x\":[29.0],\"xaxis\":\"x\",\"y\":[30.2],\"yaxis\":\"y\",\"type\":\"scatter\"},{\"hovertemplate\":\"Country name=Lithuania<br>Median age=%{x}<br>Gini coefficient of income=%{y}<extra></extra>\",\"legendgroup\":\"Lithuania\",\"marker\":{\"color\":\"#19d3f3\",\"symbol\":\"circle\"},\"mode\":\"markers\",\"name\":\"Lithuania\",\"orientation\":\"v\",\"showlegend\":true,\"x\":[43.5],\"xaxis\":\"x\",\"y\":[36.9],\"yaxis\":\"y\",\"type\":\"scatter\"},{\"hovertemplate\":\"Country name=Luxembourg<br>Median age=%{x}<br>Gini coefficient of income=%{y}<extra></extra>\",\"legendgroup\":\"Luxembourg\",\"marker\":{\"color\":\"#FF6692\",\"symbol\":\"circle\"},\"mode\":\"markers\",\"name\":\"Luxembourg\",\"orientation\":\"v\",\"showlegend\":true,\"x\":[39.7],\"xaxis\":\"x\",\"y\":[30.9],\"yaxis\":\"y\",\"type\":\"scatter\"},{\"hovertemplate\":\"Country name=North Macedonia<br>Median age=%{x}<br>Gini coefficient of income=%{y}<extra></extra>\",\"legendgroup\":\"North Macedonia\",\"marker\":{\"color\":\"#B6E880\",\"symbol\":\"circle\"},\"mode\":\"markers\",\"name\":\"North Macedonia\",\"orientation\":\"v\",\"showlegend\":true,\"x\":[39.1],\"xaxis\":\"x\",\"y\":[32.4],\"yaxis\":\"y\",\"type\":\"scatter\"},{\"hovertemplate\":\"Country name=Malaysia<br>Median age=%{x}<br>Gini coefficient of income=%{y}<extra></extra>\",\"legendgroup\":\"Malaysia\",\"marker\":{\"color\":\"#FF97FF\",\"symbol\":\"circle\"},\"mode\":\"markers\",\"name\":\"Malaysia\",\"orientation\":\"v\",\"showlegend\":true,\"x\":[29.9],\"xaxis\":\"x\",\"y\":[41.04],\"yaxis\":\"y\",\"type\":\"scatter\"},{\"hovertemplate\":\"Country name=Maldives<br>Median age=%{x}<br>Gini coefficient of income=%{y}<extra></extra>\",\"legendgroup\":\"Maldives\",\"marker\":{\"color\":\"#FECB52\",\"symbol\":\"circle\"},\"mode\":\"markers\",\"name\":\"Maldives\",\"orientation\":\"v\",\"showlegend\":true,\"x\":[30.6],\"xaxis\":\"x\",\"y\":[37.343],\"yaxis\":\"y\",\"type\":\"scatter\"},{\"hovertemplate\":\"Country name=Malta<br>Median age=%{x}<br>Gini coefficient of income=%{y}<extra></extra>\",\"legendgroup\":\"Malta\",\"marker\":{\"color\":\"#636efa\",\"symbol\":\"circle\"},\"mode\":\"markers\",\"name\":\"Malta\",\"orientation\":\"v\",\"showlegend\":true,\"x\":[42.4],\"xaxis\":\"x\",\"y\":[28.7],\"yaxis\":\"y\",\"type\":\"scatter\"},{\"hovertemplate\":\"Country name=Mauritius<br>Median age=%{x}<br>Gini coefficient of income=%{y}<extra></extra>\",\"legendgroup\":\"Mauritius\",\"marker\":{\"color\":\"#EF553B\",\"symbol\":\"circle\"},\"mode\":\"markers\",\"name\":\"Mauritius\",\"orientation\":\"v\",\"showlegend\":true,\"x\":[37.4],\"xaxis\":\"x\",\"y\":[38.47],\"yaxis\":\"y\",\"type\":\"scatter\"},{\"hovertemplate\":\"Country name=Mongolia<br>Median age=%{x}<br>Gini coefficient of income=%{y}<extra></extra>\",\"legendgroup\":\"Mongolia\",\"marker\":{\"color\":\"#00cc96\",\"symbol\":\"circle\"},\"mode\":\"markers\",\"name\":\"Mongolia\",\"orientation\":\"v\",\"showlegend\":true,\"x\":[28.6],\"xaxis\":\"x\",\"y\":[32.35],\"yaxis\":\"y\",\"type\":\"scatter\"},{\"hovertemplate\":\"Country name=Montenegro<br>Median age=%{x}<br>Gini coefficient of income=%{y}<extra></extra>\",\"legendgroup\":\"Montenegro\",\"marker\":{\"color\":\"#ab63fa\",\"symbol\":\"circle\"},\"mode\":\"markers\",\"name\":\"Montenegro\",\"orientation\":\"v\",\"showlegend\":true,\"x\":[39.1],\"xaxis\":\"x\",\"y\":[31.93],\"yaxis\":\"y\",\"type\":\"scatter\"},{\"hovertemplate\":\"Country name=Namibia<br>Median age=%{x}<br>Gini coefficient of income=%{y}<extra></extra>\",\"legendgroup\":\"Namibia\",\"marker\":{\"color\":\"#FFA15A\",\"symbol\":\"circle\"},\"mode\":\"markers\",\"name\":\"Namibia\",\"orientation\":\"v\",\"showlegend\":true,\"x\":[22.0],\"xaxis\":\"x\",\"y\":[57.535],\"yaxis\":\"y\",\"type\":\"scatter\"},{\"hovertemplate\":\"Country name=Nepal<br>Median age=%{x}<br>Gini coefficient of income=%{y}<extra></extra>\",\"legendgroup\":\"Nepal\",\"marker\":{\"color\":\"#19d3f3\",\"symbol\":\"circle\"},\"mode\":\"markers\",\"name\":\"Nepal\",\"orientation\":\"v\",\"showlegend\":true,\"x\":[25.0],\"xaxis\":\"x\",\"y\":[32.84],\"yaxis\":\"y\",\"type\":\"scatter\"},{\"hovertemplate\":\"Country name=Nicaragua<br>Median age=%{x}<br>Gini coefficient of income=%{y}<extra></extra>\",\"legendgroup\":\"Nicaragua\",\"marker\":{\"color\":\"#FF6692\",\"symbol\":\"circle\"},\"mode\":\"markers\",\"name\":\"Nicaragua\",\"orientation\":\"v\",\"showlegend\":true,\"x\":[27.3],\"xaxis\":\"x\",\"y\":[46.515],\"yaxis\":\"y\",\"type\":\"scatter\"},{\"hovertemplate\":\"Country name=Norway<br>Median age=%{x}<br>Gini coefficient of income=%{y}<extra></extra>\",\"legendgroup\":\"Norway\",\"marker\":{\"color\":\"#B6E880\",\"symbol\":\"circle\"},\"mode\":\"markers\",\"name\":\"Norway\",\"orientation\":\"v\",\"showlegend\":true,\"x\":[39.7],\"xaxis\":\"x\",\"y\":[24.8],\"yaxis\":\"y\",\"type\":\"scatter\"},{\"hovertemplate\":\"Country name=Oman<br>Median age=%{x}<br>Gini coefficient of income=%{y}<extra></extra>\",\"legendgroup\":\"Oman\",\"marker\":{\"color\":\"#FF97FF\",\"symbol\":\"circle\"},\"mode\":\"markers\",\"name\":\"Oman\",\"orientation\":\"v\",\"showlegend\":true,\"x\":[30.7],\"xaxis\":\"x\",\"y\":[30.7],\"yaxis\":\"y\",\"type\":\"scatter\"},{\"hovertemplate\":\"Country name=Panama<br>Median age=%{x}<br>Gini coefficient of income=%{y}<extra></extra>\",\"legendgroup\":\"Panama\",\"marker\":{\"color\":\"#FECB52\",\"symbol\":\"circle\"},\"mode\":\"markers\",\"name\":\"Panama\",\"orientation\":\"v\",\"showlegend\":true,\"x\":[29.7],\"xaxis\":\"x\",\"y\":[49.8],\"yaxis\":\"y\",\"type\":\"scatter\"},{\"hovertemplate\":\"Country name=Paraguay<br>Median age=%{x}<br>Gini coefficient of income=%{y}<extra></extra>\",\"legendgroup\":\"Paraguay\",\"marker\":{\"color\":\"#636efa\",\"symbol\":\"circle\"},\"mode\":\"markers\",\"name\":\"Paraguay\",\"orientation\":\"v\",\"showlegend\":true,\"x\":[26.5],\"xaxis\":\"x\",\"y\":[47.4],\"yaxis\":\"y\",\"type\":\"scatter\"},{\"hovertemplate\":\"Country name=Peru<br>Median age=%{x}<br>Gini coefficient of income=%{y}<extra></extra>\",\"legendgroup\":\"Peru\",\"marker\":{\"color\":\"#EF553B\",\"symbol\":\"circle\"},\"mode\":\"markers\",\"name\":\"Peru\",\"orientation\":\"v\",\"showlegend\":true,\"x\":[29.1],\"xaxis\":\"x\",\"y\":[43.9],\"yaxis\":\"y\",\"type\":\"scatter\"},{\"hovertemplate\":\"Country name=Portugal<br>Median age=%{x}<br>Gini coefficient of income=%{y}<extra></extra>\",\"legendgroup\":\"Portugal\",\"marker\":{\"color\":\"#00cc96\",\"symbol\":\"circle\"},\"mode\":\"markers\",\"name\":\"Portugal\",\"orientation\":\"v\",\"showlegend\":true,\"x\":[46.2],\"xaxis\":\"x\",\"y\":[32.1],\"yaxis\":\"y\",\"type\":\"scatter\"},{\"hovertemplate\":\"Country name=Qatar<br>Median age=%{x}<br>Gini coefficient of income=%{y}<extra></extra>\",\"legendgroup\":\"Qatar\",\"marker\":{\"color\":\"#ab63fa\",\"symbol\":\"circle\"},\"mode\":\"markers\",\"name\":\"Qatar\",\"orientation\":\"v\",\"showlegend\":true,\"x\":[31.9],\"xaxis\":\"x\",\"y\":[30.233],\"yaxis\":\"y\",\"type\":\"scatter\"},{\"hovertemplate\":\"Country name=Serbia<br>Median age=%{x}<br>Gini coefficient of income=%{y}<extra></extra>\",\"legendgroup\":\"Serbia\",\"marker\":{\"color\":\"#FFA15A\",\"symbol\":\"circle\"},\"mode\":\"markers\",\"name\":\"Serbia\",\"orientation\":\"v\",\"showlegend\":true,\"x\":[41.2],\"xaxis\":\"x\",\"y\":[37.8],\"yaxis\":\"y\",\"type\":\"scatter\"},{\"hovertemplate\":\"Country name=Slovakia<br>Median age=%{x}<br>Gini coefficient of income=%{y}<extra></extra>\",\"legendgroup\":\"Slovakia\",\"marker\":{\"color\":\"#19d3f3\",\"symbol\":\"circle\"},\"mode\":\"markers\",\"name\":\"Slovakia\",\"orientation\":\"v\",\"showlegend\":true,\"x\":[41.2],\"xaxis\":\"x\",\"y\":[23.2],\"yaxis\":\"y\",\"type\":\"scatter\"},{\"hovertemplate\":\"Country name=Slovenia<br>Median age=%{x}<br>Gini coefficient of income=%{y}<extra></extra>\",\"legendgroup\":\"Slovenia\",\"marker\":{\"color\":\"#FF6692\",\"symbol\":\"circle\"},\"mode\":\"markers\",\"name\":\"Slovenia\",\"orientation\":\"v\",\"showlegend\":true,\"x\":[44.5],\"xaxis\":\"x\",\"y\":[23.4],\"yaxis\":\"y\",\"type\":\"scatter\"},{\"hovertemplate\":\"Country name=Somalia<br>Median age=%{x}<br>Gini coefficient of income=%{y}<extra></extra>\",\"legendgroup\":\"Somalia\",\"marker\":{\"color\":\"#B6E880\",\"symbol\":\"circle\"},\"mode\":\"markers\",\"name\":\"Somalia\",\"orientation\":\"v\",\"showlegend\":true,\"x\":[16.8],\"xaxis\":\"x\",\"y\":[39.7],\"yaxis\":\"y\",\"type\":\"scatter\"},{\"hovertemplate\":\"Country name=Sudan<br>Median age=%{x}<br>Gini coefficient of income=%{y}<extra></extra>\",\"legendgroup\":\"Sudan\",\"marker\":{\"color\":\"#FF97FF\",\"symbol\":\"circle\"},\"mode\":\"markers\",\"name\":\"Sudan\",\"orientation\":\"v\",\"showlegend\":true,\"x\":[19.7],\"xaxis\":\"x\",\"y\":[45.05],\"yaxis\":\"y\",\"type\":\"scatter\"},{\"hovertemplate\":\"Country name=Suriname<br>Median age=%{x}<br>Gini coefficient of income=%{y}<extra></extra>\",\"legendgroup\":\"Suriname\",\"marker\":{\"color\":\"#FECB52\",\"symbol\":\"circle\"},\"mode\":\"markers\",\"name\":\"Suriname\",\"orientation\":\"v\",\"showlegend\":true,\"x\":[29.6],\"xaxis\":\"x\",\"y\":[38.1],\"yaxis\":\"y\",\"type\":\"scatter\"},{\"hovertemplate\":\"Country name=Eswatini<br>Median age=%{x}<br>Gini coefficient of income=%{y}<extra></extra>\",\"legendgroup\":\"Eswatini\",\"marker\":{\"color\":\"#636efa\",\"symbol\":\"circle\"},\"mode\":\"markers\",\"name\":\"Eswatini\",\"orientation\":\"v\",\"showlegend\":true,\"x\":[21.5],\"xaxis\":\"x\",\"y\":[51.45],\"yaxis\":\"y\",\"type\":\"scatter\"},{\"hovertemplate\":\"Country name=Switzerland<br>Median age=%{x}<br>Gini coefficient of income=%{y}<extra></extra>\",\"legendgroup\":\"Switzerland\",\"marker\":{\"color\":\"#EF553B\",\"symbol\":\"circle\"},\"mode\":\"markers\",\"name\":\"Switzerland\",\"orientation\":\"v\",\"showlegend\":true,\"x\":[43.1],\"xaxis\":\"x\",\"y\":[30.1],\"yaxis\":\"y\",\"type\":\"scatter\"},{\"hovertemplate\":\"Country name=Tajikistan<br>Median age=%{x}<br>Gini coefficient of income=%{y}<extra></extra>\",\"legendgroup\":\"Tajikistan\",\"marker\":{\"color\":\"#00cc96\",\"symbol\":\"circle\"},\"mode\":\"markers\",\"name\":\"Tajikistan\",\"orientation\":\"v\",\"showlegend\":true,\"x\":[23.3],\"xaxis\":\"x\",\"y\":[34.0],\"yaxis\":\"y\",\"type\":\"scatter\"},{\"hovertemplate\":\"Country name=Gambia<br>Median age=%{x}<br>Gini coefficient of income=%{y}<extra></extra>\",\"legendgroup\":\"Gambia\",\"marker\":{\"color\":\"#ab63fa\",\"symbol\":\"circle\"},\"mode\":\"markers\",\"name\":\"Gambia\",\"orientation\":\"v\",\"showlegend\":true,\"x\":[17.5],\"xaxis\":\"x\",\"y\":[35.92],\"yaxis\":\"y\",\"type\":\"scatter\"},{\"hovertemplate\":\"Country name=Togo<br>Median age=%{x}<br>Gini coefficient of income=%{y}<extra></extra>\",\"legendgroup\":\"Togo\",\"marker\":{\"color\":\"#FFA15A\",\"symbol\":\"circle\"},\"mode\":\"markers\",\"name\":\"Togo\",\"orientation\":\"v\",\"showlegend\":true,\"x\":[19.4],\"xaxis\":\"x\",\"y\":[43.06],\"yaxis\":\"y\",\"type\":\"scatter\"},{\"hovertemplate\":\"Country name=Trinidad and Tobago<br>Median age=%{x}<br>Gini coefficient of income=%{y}<extra></extra>\",\"legendgroup\":\"Trinidad and Tobago\",\"marker\":{\"color\":\"#19d3f3\",\"symbol\":\"circle\"},\"mode\":\"markers\",\"name\":\"Trinidad and Tobago\",\"orientation\":\"v\",\"showlegend\":true,\"x\":[36.2],\"xaxis\":\"x\",\"y\":[47.243],\"yaxis\":\"y\",\"type\":\"scatter\"},{\"hovertemplate\":\"Country name=Tunisia<br>Median age=%{x}<br>Gini coefficient of income=%{y}<extra></extra>\",\"legendgroup\":\"Tunisia\",\"marker\":{\"color\":\"#FF6692\",\"symbol\":\"circle\"},\"mode\":\"markers\",\"name\":\"Tunisia\",\"orientation\":\"v\",\"showlegend\":true,\"x\":[32.7],\"xaxis\":\"x\",\"y\":[32.82],\"yaxis\":\"y\",\"type\":\"scatter\"},{\"hovertemplate\":\"Country name=United Arab Emirates<br>Median age=%{x}<br>Gini coefficient of income=%{y}<extra></extra>\",\"legendgroup\":\"United Arab Emirates\",\"marker\":{\"color\":\"#B6E880\",\"symbol\":\"circle\"},\"mode\":\"markers\",\"name\":\"United Arab Emirates\",\"orientation\":\"v\",\"showlegend\":true,\"x\":[34.0],\"xaxis\":\"x\",\"y\":[38.3],\"yaxis\":\"y\",\"type\":\"scatter\"},{\"hovertemplate\":\"Country name=Uruguay<br>Median age=%{x}<br>Gini coefficient of income=%{y}<extra></extra>\",\"legendgroup\":\"Uruguay\",\"marker\":{\"color\":\"#FF97FF\",\"symbol\":\"circle\"},\"mode\":\"markers\",\"name\":\"Uruguay\",\"orientation\":\"v\",\"showlegend\":true,\"x\":[35.6],\"xaxis\":\"x\",\"y\":[39.25],\"yaxis\":\"y\",\"type\":\"scatter\"},{\"hovertemplate\":\"Country name=Uzbekistan<br>Median age=%{x}<br>Gini coefficient of income=%{y}<extra></extra>\",\"legendgroup\":\"Uzbekistan\",\"marker\":{\"color\":\"#FECB52\",\"symbol\":\"circle\"},\"mode\":\"markers\",\"name\":\"Uzbekistan\",\"orientation\":\"v\",\"showlegend\":true,\"x\":[28.2],\"xaxis\":\"x\",\"y\":[39.7],\"yaxis\":\"y\",\"type\":\"scatter\"},{\"hovertemplate\":\"Country name=Yemen<br>Median age=%{x}<br>Gini coefficient of income=%{y}<extra></extra>\",\"legendgroup\":\"Yemen\",\"marker\":{\"color\":\"#636efa\",\"symbol\":\"circle\"},\"mode\":\"markers\",\"name\":\"Yemen\",\"orientation\":\"v\",\"showlegend\":true,\"x\":[20.3],\"xaxis\":\"x\",\"y\":[36.71],\"yaxis\":\"y\",\"type\":\"scatter\"},{\"hovertemplate\":\"Country name=Kosovo<br>Median age=%{x}<br>Gini coefficient of income=%{y}<extra></extra>\",\"legendgroup\":\"Kosovo\",\"marker\":{\"color\":\"#EF553B\",\"symbol\":\"circle\"},\"mode\":\"markers\",\"name\":\"Kosovo\",\"orientation\":\"v\",\"showlegend\":true,\"x\":[35.0],\"xaxis\":\"x\",\"y\":[29.01],\"yaxis\":\"y\",\"type\":\"scatter\"},{\"hovertemplate\":\"Country name=South Sudan<br>Median age=%{x}<br>Gini coefficient of income=%{y}<extra></extra>\",\"legendgroup\":\"South Sudan\",\"marker\":{\"color\":\"#00cc96\",\"symbol\":\"circle\"},\"mode\":\"markers\",\"name\":\"South Sudan\",\"orientation\":\"v\",\"showlegend\":true,\"x\":[19.2],\"xaxis\":\"x\",\"y\":[46.34],\"yaxis\":\"y\",\"type\":\"scatter\"},{\"hovertemplate\":\"<b>OLS trendline</b><br>Gini coefficient of income = -0.405127 * Median age + 50.3806<br>R<sup>2</sup>=0.208626<br><br>Median age=%{x}<br>Gini coefficient of income=%{y} <b>(trend)</b><extra></extra>\",\"legendgroup\":\"Overall Trendline\",\"line\":{\"color\":\"black\"},\"mode\":\"lines\",\"name\":\"Overall Trendline\",\"showlegend\":true,\"x\":[15.1,16.4,16.4,16.7,16.8,16.8,17.0,17.5,17.5,17.6,17.7,17.7,17.7,18.1,18.1,18.3,18.6,18.7,18.7,18.8,18.8,19.0,19.0,19.1,19.2,19.2,19.4,19.6,19.6,19.7,19.8,20.0,20.0,20.3,20.3,20.3,20.4,20.4,21.1,21.5,21.7,22.0,22.9,23.1,23.2,23.3,23.5,24.0,24.3,24.4,24.9,25.0,25.0,25.2,25.3,25.4,25.4,25.6,25.8,26.3,26.3,26.5,27.3,27.3,27.5,27.6,27.6,28.1,28.2,28.2,28.6,28.6,29.0,29.0,29.1,29.1,29.1,29.3,29.3,29.6,29.6,29.7,29.9,30.6,30.6,30.6,30.7,31.1,31.4,31.6,31.9,31.9,31.9,32.2,32.4,32.4,32.4,32.6,32.7,33.5,33.6,33.7,34.0,34.1,35.0,35.4,35.6,35.7,36.2,37.3,37.3,37.4,37.6,37.9,37.9,38.0,38.3,38.7,38.7,38.7,39.1,39.1,39.6,39.7,39.7,40.1,40.3,40.8,41.0,41.2,41.2,41.4,41.4,41.8,41.8,42.0,42.2,42.3,42.4,42.4,42.5,42.7,42.8,43.0,43.1,43.1,43.2,43.3,43.4,43.4,43.5,43.9,44.0,44.4,44.5,44.7,44.8,45.3,45.5,46.2,46.6,47.9,48.2],\"y\":[44.26316416122871,43.73649906339054,43.73649906339054,43.61496096388942,43.57444826405572,43.57444826405572,43.49342286438831,43.29085936521978,43.29085936521978,43.250346665386076,43.20983396555237,43.20983396555237,43.20983396555237,43.04778316621755,43.04778316621755,42.96675776655014,42.84521966704902,42.80470696721532,42.80470696721532,42.76419426738161,42.76419426738161,42.6831688677142,42.6831688677142,42.642656167880496,42.60214346804679,42.60214346804679,42.52111806837938,42.44009266871197,42.44009266871197,42.399579968878264,42.35906726904456,42.27804186937715,42.27804186937715,42.15650376987603,42.15650376987603,42.15650376987603,42.11599107004233,42.11599107004233,41.83240217120638,41.67035137187157,41.58932597220416,41.46778787270304,41.103173574199694,41.022148174532276,40.98163547469858,40.941122774864866,40.86009737519746,40.657533876028936,40.53599577652781,40.495483076694114,40.29291957752559,40.25240687769188,40.25240687769188,40.17138147802447,40.13086877819076,40.09035607835706,40.09035607835706,40.00933067868965,39.92830527902224,39.725741779853706,39.725741779853706,39.644716380186296,39.32061478151665,39.32061478151665,39.23958938184924,39.199076682015544,39.199076682015544,38.99651318284701,38.95600048301331,38.95600048301331,38.79394968367849,38.79394968367849,38.63189888434367,38.63189888434367,38.59138618450996,38.59138618450996,38.59138618450996,38.51036078484255,38.51036078484255,38.38882268534144,38.38882268534144,38.348309985507726,38.267284585840315,37.983695687004385,37.983695687004385,37.983695687004385,37.94318298717067,37.78113218783585,37.65959408833474,37.57856868866733,37.45703058916621,37.45703058916621,37.45703058916621,37.33549248966509,37.25446708999769,37.25446708999769,37.25446708999769,37.17344169033028,37.132928990496566,36.808827391826924,36.768314691993226,36.72780199215951,36.606263892658404,36.56575119282469,36.20113689432135,36.03908609498653,35.95806069531911,35.91754799548541,35.71498449631688,35.26934479814612,35.26934479814612,35.228832098312424,35.147806698645006,35.02626859914389,35.02626859914389,34.98575589931019,34.86421779980907,34.70216700047425,34.70216700047425,34.70216700047425,34.540116201139426,34.540116201139426,34.33755270197091,34.297040002137194,34.297040002137194,34.13498920280237,34.05396380313496,33.85140030396644,33.77037490429903,33.689349504631615,33.689349504631615,33.60832410496421,33.60832410496421,33.44627330562939,33.44627330562939,33.36524790596198,33.28422250629456,33.243709806460856,33.20319710662716,33.20319710662716,33.162684406793446,33.081659007126035,33.04114630729234,32.960120907624926,32.919608207791214,32.919608207791214,32.87909550795751,32.8385828081238,32.798070108290105,32.798070108290105,32.75755740845639,32.59550660912157,32.55499390928787,32.39294310995305,32.35243041011934,32.27140501045193,32.23089231061823,32.0283288114497,31.94730341178229,31.66371451294635,31.501663713611528,30.974998615773362,30.853460516272243],\"type\":\"scatter\",\"xaxis\":\"x\",\"yaxis\":\"y\"}],                        {\"template\":{\"data\":{\"bar\":[{\"error_x\":{\"color\":\"#2a3f5f\"},\"error_y\":{\"color\":\"#2a3f5f\"},\"marker\":{\"line\":{\"color\":\"#E5ECF6\",\"width\":0.5},\"pattern\":{\"fillmode\":\"overlay\",\"size\":10,\"solidity\":0.2}},\"type\":\"bar\"}],\"barpolar\":[{\"marker\":{\"line\":{\"color\":\"#E5ECF6\",\"width\":0.5},\"pattern\":{\"fillmode\":\"overlay\",\"size\":10,\"solidity\":0.2}},\"type\":\"barpolar\"}],\"carpet\":[{\"aaxis\":{\"endlinecolor\":\"#2a3f5f\",\"gridcolor\":\"white\",\"linecolor\":\"white\",\"minorgridcolor\":\"white\",\"startlinecolor\":\"#2a3f5f\"},\"baxis\":{\"endlinecolor\":\"#2a3f5f\",\"gridcolor\":\"white\",\"linecolor\":\"white\",\"minorgridcolor\":\"white\",\"startlinecolor\":\"#2a3f5f\"},\"type\":\"carpet\"}],\"choropleth\":[{\"colorbar\":{\"outlinewidth\":0,\"ticks\":\"\"},\"type\":\"choropleth\"}],\"contour\":[{\"colorbar\":{\"outlinewidth\":0,\"ticks\":\"\"},\"colorscale\":[[0.0,\"#0d0887\"],[0.1111111111111111,\"#46039f\"],[0.2222222222222222,\"#7201a8\"],[0.3333333333333333,\"#9c179e\"],[0.4444444444444444,\"#bd3786\"],[0.5555555555555556,\"#d8576b\"],[0.6666666666666666,\"#ed7953\"],[0.7777777777777778,\"#fb9f3a\"],[0.8888888888888888,\"#fdca26\"],[1.0,\"#f0f921\"]],\"type\":\"contour\"}],\"contourcarpet\":[{\"colorbar\":{\"outlinewidth\":0,\"ticks\":\"\"},\"type\":\"contourcarpet\"}],\"heatmap\":[{\"colorbar\":{\"outlinewidth\":0,\"ticks\":\"\"},\"colorscale\":[[0.0,\"#0d0887\"],[0.1111111111111111,\"#46039f\"],[0.2222222222222222,\"#7201a8\"],[0.3333333333333333,\"#9c179e\"],[0.4444444444444444,\"#bd3786\"],[0.5555555555555556,\"#d8576b\"],[0.6666666666666666,\"#ed7953\"],[0.7777777777777778,\"#fb9f3a\"],[0.8888888888888888,\"#fdca26\"],[1.0,\"#f0f921\"]],\"type\":\"heatmap\"}],\"heatmapgl\":[{\"colorbar\":{\"outlinewidth\":0,\"ticks\":\"\"},\"colorscale\":[[0.0,\"#0d0887\"],[0.1111111111111111,\"#46039f\"],[0.2222222222222222,\"#7201a8\"],[0.3333333333333333,\"#9c179e\"],[0.4444444444444444,\"#bd3786\"],[0.5555555555555556,\"#d8576b\"],[0.6666666666666666,\"#ed7953\"],[0.7777777777777778,\"#fb9f3a\"],[0.8888888888888888,\"#fdca26\"],[1.0,\"#f0f921\"]],\"type\":\"heatmapgl\"}],\"histogram\":[{\"marker\":{\"pattern\":{\"fillmode\":\"overlay\",\"size\":10,\"solidity\":0.2}},\"type\":\"histogram\"}],\"histogram2d\":[{\"colorbar\":{\"outlinewidth\":0,\"ticks\":\"\"},\"colorscale\":[[0.0,\"#0d0887\"],[0.1111111111111111,\"#46039f\"],[0.2222222222222222,\"#7201a8\"],[0.3333333333333333,\"#9c179e\"],[0.4444444444444444,\"#bd3786\"],[0.5555555555555556,\"#d8576b\"],[0.6666666666666666,\"#ed7953\"],[0.7777777777777778,\"#fb9f3a\"],[0.8888888888888888,\"#fdca26\"],[1.0,\"#f0f921\"]],\"type\":\"histogram2d\"}],\"histogram2dcontour\":[{\"colorbar\":{\"outlinewidth\":0,\"ticks\":\"\"},\"colorscale\":[[0.0,\"#0d0887\"],[0.1111111111111111,\"#46039f\"],[0.2222222222222222,\"#7201a8\"],[0.3333333333333333,\"#9c179e\"],[0.4444444444444444,\"#bd3786\"],[0.5555555555555556,\"#d8576b\"],[0.6666666666666666,\"#ed7953\"],[0.7777777777777778,\"#fb9f3a\"],[0.8888888888888888,\"#fdca26\"],[1.0,\"#f0f921\"]],\"type\":\"histogram2dcontour\"}],\"mesh3d\":[{\"colorbar\":{\"outlinewidth\":0,\"ticks\":\"\"},\"type\":\"mesh3d\"}],\"parcoords\":[{\"line\":{\"colorbar\":{\"outlinewidth\":0,\"ticks\":\"\"}},\"type\":\"parcoords\"}],\"pie\":[{\"automargin\":true,\"type\":\"pie\"}],\"scatter\":[{\"marker\":{\"colorbar\":{\"outlinewidth\":0,\"ticks\":\"\"}},\"type\":\"scatter\"}],\"scatter3d\":[{\"line\":{\"colorbar\":{\"outlinewidth\":0,\"ticks\":\"\"}},\"marker\":{\"colorbar\":{\"outlinewidth\":0,\"ticks\":\"\"}},\"type\":\"scatter3d\"}],\"scattercarpet\":[{\"marker\":{\"colorbar\":{\"outlinewidth\":0,\"ticks\":\"\"}},\"type\":\"scattercarpet\"}],\"scattergeo\":[{\"marker\":{\"colorbar\":{\"outlinewidth\":0,\"ticks\":\"\"}},\"type\":\"scattergeo\"}],\"scattergl\":[{\"marker\":{\"colorbar\":{\"outlinewidth\":0,\"ticks\":\"\"}},\"type\":\"scattergl\"}],\"scattermapbox\":[{\"marker\":{\"colorbar\":{\"outlinewidth\":0,\"ticks\":\"\"}},\"type\":\"scattermapbox\"}],\"scatterpolar\":[{\"marker\":{\"colorbar\":{\"outlinewidth\":0,\"ticks\":\"\"}},\"type\":\"scatterpolar\"}],\"scatterpolargl\":[{\"marker\":{\"colorbar\":{\"outlinewidth\":0,\"ticks\":\"\"}},\"type\":\"scatterpolargl\"}],\"scatterternary\":[{\"marker\":{\"colorbar\":{\"outlinewidth\":0,\"ticks\":\"\"}},\"type\":\"scatterternary\"}],\"surface\":[{\"colorbar\":{\"outlinewidth\":0,\"ticks\":\"\"},\"colorscale\":[[0.0,\"#0d0887\"],[0.1111111111111111,\"#46039f\"],[0.2222222222222222,\"#7201a8\"],[0.3333333333333333,\"#9c179e\"],[0.4444444444444444,\"#bd3786\"],[0.5555555555555556,\"#d8576b\"],[0.6666666666666666,\"#ed7953\"],[0.7777777777777778,\"#fb9f3a\"],[0.8888888888888888,\"#fdca26\"],[1.0,\"#f0f921\"]],\"type\":\"surface\"}],\"table\":[{\"cells\":{\"fill\":{\"color\":\"#EBF0F8\"},\"line\":{\"color\":\"white\"}},\"header\":{\"fill\":{\"color\":\"#C8D4E3\"},\"line\":{\"color\":\"white\"}},\"type\":\"table\"}]},\"layout\":{\"annotationdefaults\":{\"arrowcolor\":\"#2a3f5f\",\"arrowhead\":0,\"arrowwidth\":1},\"autotypenumbers\":\"strict\",\"coloraxis\":{\"colorbar\":{\"outlinewidth\":0,\"ticks\":\"\"}},\"colorscale\":{\"diverging\":[[0,\"#8e0152\"],[0.1,\"#c51b7d\"],[0.2,\"#de77ae\"],[0.3,\"#f1b6da\"],[0.4,\"#fde0ef\"],[0.5,\"#f7f7f7\"],[0.6,\"#e6f5d0\"],[0.7,\"#b8e186\"],[0.8,\"#7fbc41\"],[0.9,\"#4d9221\"],[1,\"#276419\"]],\"sequential\":[[0.0,\"#0d0887\"],[0.1111111111111111,\"#46039f\"],[0.2222222222222222,\"#7201a8\"],[0.3333333333333333,\"#9c179e\"],[0.4444444444444444,\"#bd3786\"],[0.5555555555555556,\"#d8576b\"],[0.6666666666666666,\"#ed7953\"],[0.7777777777777778,\"#fb9f3a\"],[0.8888888888888888,\"#fdca26\"],[1.0,\"#f0f921\"]],\"sequentialminus\":[[0.0,\"#0d0887\"],[0.1111111111111111,\"#46039f\"],[0.2222222222222222,\"#7201a8\"],[0.3333333333333333,\"#9c179e\"],[0.4444444444444444,\"#bd3786\"],[0.5555555555555556,\"#d8576b\"],[0.6666666666666666,\"#ed7953\"],[0.7777777777777778,\"#fb9f3a\"],[0.8888888888888888,\"#fdca26\"],[1.0,\"#f0f921\"]]},\"colorway\":[\"#636efa\",\"#EF553B\",\"#00cc96\",\"#ab63fa\",\"#FFA15A\",\"#19d3f3\",\"#FF6692\",\"#B6E880\",\"#FF97FF\",\"#FECB52\"],\"font\":{\"color\":\"#2a3f5f\"},\"geo\":{\"bgcolor\":\"white\",\"lakecolor\":\"white\",\"landcolor\":\"#E5ECF6\",\"showlakes\":true,\"showland\":true,\"subunitcolor\":\"white\"},\"hoverlabel\":{\"align\":\"left\"},\"hovermode\":\"closest\",\"mapbox\":{\"style\":\"light\"},\"paper_bgcolor\":\"white\",\"plot_bgcolor\":\"#E5ECF6\",\"polar\":{\"angularaxis\":{\"gridcolor\":\"white\",\"linecolor\":\"white\",\"ticks\":\"\"},\"bgcolor\":\"#E5ECF6\",\"radialaxis\":{\"gridcolor\":\"white\",\"linecolor\":\"white\",\"ticks\":\"\"}},\"scene\":{\"xaxis\":{\"backgroundcolor\":\"#E5ECF6\",\"gridcolor\":\"white\",\"gridwidth\":2,\"linecolor\":\"white\",\"showbackground\":true,\"ticks\":\"\",\"zerolinecolor\":\"white\"},\"yaxis\":{\"backgroundcolor\":\"#E5ECF6\",\"gridcolor\":\"white\",\"gridwidth\":2,\"linecolor\":\"white\",\"showbackground\":true,\"ticks\":\"\",\"zerolinecolor\":\"white\"},\"zaxis\":{\"backgroundcolor\":\"#E5ECF6\",\"gridcolor\":\"white\",\"gridwidth\":2,\"linecolor\":\"white\",\"showbackground\":true,\"ticks\":\"\",\"zerolinecolor\":\"white\"}},\"shapedefaults\":{\"line\":{\"color\":\"#2a3f5f\"}},\"ternary\":{\"aaxis\":{\"gridcolor\":\"white\",\"linecolor\":\"white\",\"ticks\":\"\"},\"baxis\":{\"gridcolor\":\"white\",\"linecolor\":\"white\",\"ticks\":\"\"},\"bgcolor\":\"#E5ECF6\",\"caxis\":{\"gridcolor\":\"white\",\"linecolor\":\"white\",\"ticks\":\"\"}},\"title\":{\"x\":0.05},\"xaxis\":{\"automargin\":true,\"gridcolor\":\"white\",\"linecolor\":\"white\",\"ticks\":\"\",\"title\":{\"standoff\":15},\"zerolinecolor\":\"white\",\"zerolinewidth\":2},\"yaxis\":{\"automargin\":true,\"gridcolor\":\"white\",\"linecolor\":\"white\",\"ticks\":\"\",\"title\":{\"standoff\":15},\"zerolinecolor\":\"white\",\"zerolinewidth\":2}}},\"xaxis\":{\"anchor\":\"y\",\"domain\":[0.0,1.0],\"title\":{\"text\":\"Median age\"}},\"yaxis\":{\"anchor\":\"x\",\"domain\":[0.0,1.0],\"title\":{\"text\":\"Gini coefficient of income\"}},\"legend\":{\"title\":{\"text\":\"Country name\"},\"tracegroupgap\":0},\"margin\":{\"t\":60}},                        {\"responsive\": true}                    ).then(function(){\n",
       "                            \n",
       "var gd = document.getElementById('982cf528-518a-486e-804b-c2b75d6facc6');\n",
       "var x = new MutationObserver(function (mutations, observer) {{\n",
       "        var display = window.getComputedStyle(gd).display;\n",
       "        if (!display || display === 'none') {{\n",
       "            console.log([gd, 'removed!']);\n",
       "            Plotly.purge(gd);\n",
       "            observer.disconnect();\n",
       "        }}\n",
       "}});\n",
       "\n",
       "// Listen for the removal of the full notebook cells\n",
       "var notebookContainer = gd.closest('#notebook-container');\n",
       "if (notebookContainer) {{\n",
       "    x.observe(notebookContainer, {childList: true});\n",
       "}}\n",
       "\n",
       "// Listen for the clearing of the current output cell\n",
       "var outputEl = gd.closest('.output');\n",
       "if (outputEl) {{\n",
       "    x.observe(outputEl, {childList: true});\n",
       "}}\n",
       "\n",
       "                        })                };                });            </script>        </div>"
      ]
     },
     "metadata": {},
     "output_type": "display_data"
    }
   ],
   "source": [
    "fig = px.scatter(df1, \n",
    "                 x='Median age', \n",
    "                 y='Gini coefficient of income', \n",
    "                 color='Country name',\n",
    "                 trendline='ols',\n",
    "                 trendline_scope='overall',\n",
    "                 trendline_color_override='black'\n",
    "                )\n",
    "fig.show()"
   ]
  },
  {
   "cell_type": "markdown",
   "metadata": {},
   "source": [
    "Here we notice that as the gini coefficient decreases median age increases and since a lower gini coefficient is directly proportion to lower wealth inequality, we can see that european countries have higher wealth equality than african countries."
   ]
  },
  {
   "cell_type": "code",
   "execution_count": 230,
   "metadata": {},
   "outputs": [
    {
     "data": {
      "image/png": "[encoded data removed]",
      "text/plain": [
       "<Figure size 576x1800 with 1 Axes>"
      ]
     },
     "metadata": {},
     "output_type": "display_data"
    }
   ],
   "source": [
    "pop20 = np.log(df1['Population 2020'])\n",
    "pop19 = np.log(df1['Population 2019'])\n",
    "\n",
    "#pop_increase= np.log(df1['Population 2020']-df1['Population 2019'])\n",
    "df1.rename(columns = {'Country name':'Country_name'}, inplace = True)\n",
    "plt.figure(figsize=(8,25))\n",
    "sns.barplot(y='Country_name', x=pop20, data=df1, order=df1.sort_values('Population 2020').Country_name)\n",
    "plt.show()"
   ]
  },
  {
   "cell_type": "markdown",
   "metadata": {},
   "source": [
    "The population in 2020 in an ascending order from the least to the highest populous."
   ]
  },
  {
   "cell_type": "markdown",
   "metadata": {},
   "source": [
    "Now lets see the difference in population between 2019 to 2020."
   ]
  },
  {
   "cell_type": "code",
   "execution_count": 231,
   "metadata": {},
   "outputs": [
    {
     "data": {
      "image/png": "[encoded data removed]",
      "text/plain": [
       "<Figure size 576x1800 with 1 Axes>"
      ]
     },
     "metadata": {},
     "output_type": "display_data"
    }
   ],
   "source": [
    "df1['Population_difference(2019-2020)']= np.log(df1['Population 2020'])-np.log(df1['Population 2019'])\n",
    "plt.figure(figsize=(8,25))\n",
    "sns.barplot(y='Country_name', x='Population_difference(2019-2020)', data=df1,order=df1.sort_values('Population_difference(2019-2020)').Country_name)\n",
    "plt.show()"
   ]
  },
  {
   "cell_type": "code",
   "execution_count": 232,
   "metadata": {},
   "outputs": [
    {
     "data": {
      "image/png": "[encoded data removed]",
      "text/plain": [
       "<Figure size 864x864 with 2 Axes>"
      ]
     },
     "metadata": {},
     "output_type": "display_data"
    }
   ],
   "source": [
    "plt.figure(figsize=(12,12))\n",
    "sns.heatmap(df1.corr(), \n",
    "            vmin=-1, \n",
    "            vmax=1, \n",
    "            annot=True)\n",
    "\n",
    "plt.title('correlation matrix of dataset')\n",
    "plt.show()\n"
   ]
  }
 ],
 "metadata": {
  "kernelspec": {
   "display_name": "Python 3",
   "language": "python",
   "name": "python3"
  },
  "language_info": {
   "codemirror_mode": {
    "name": "ipython",
    "version": 3
   },
   "file_extension": ".py",
   "mimetype": "text/x-python",
   "name": "python",
   "nbconvert_exporter": "python",
   "pygments_lexer": "ipython3",
   "version": "3.8.3"
  }
 },
 "nbformat": 4,
 "nbformat_minor": 4
}
